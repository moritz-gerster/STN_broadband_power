{
 "cells": [
  {
   "cell_type": "markdown",
   "metadata": {},
   "source": [
    "# Illustrate repeated measures correlation with a simple example"
   ]
  },
  {
   "cell_type": "code",
   "execution_count": 1,
   "metadata": {},
   "outputs": [],
   "source": [
    "%load_ext autoreload\n",
    "%autoreload 2\n",
    "from analysis_settings import *\n",
    "from plot_settings import *\n",
    "from scipy.stats import pearsonr, spearmanr\n",
    "from pingouin import rm_corr, plot_rm_corr\n",
    "from scripts.utils_plot import _save_fig\n",
    "import pandas as pd\n",
    "import statsmodels.api as sm\n",
    "from statsmodels.formula.api import ols\n",
    "import numpy as np\n",
    "from matplotlib.patches import Patch\n",
    "import matplotlib.lines as mlines"
   ]
  },
  {
   "cell_type": "code",
   "execution_count": 2,
   "metadata": {},
   "outputs": [
    {
     "name": "stderr",
     "output_type": "stream",
     "text": [
      "/Users/moritzgerster/anaconda3/envs/aperiodic/lib/python3.12/site-packages/pingouin/power.py:861: UserWarning: Sample size is too small to estimate power (n <= 4). Returning NaN.\n",
      "  warnings.warn(\"Sample size is too small to estimate power (n <= 4). Returning NaN.\")\n"
     ]
    }
   ],
   "source": [
    "beta_powers = [1, 2, 3, 4.5, 5.8, 6.5]\n",
    "updrs_scores = [2, 2.7, 4, 3, 5.5, 6.5]\n",
    "# hemispheres = ['L', 'R', 'R', 'L', 'L', 'R']\n",
    "# beta_powers = [1, 2, 4.5, 3, 5.8, 6.5]\n",
    "# updrs_scores = [2, 2.7, 3, 4, 5.5, 6.5]\n",
    "hemispheres = ['L', 'R'] * 3\n",
    "# marker_dict = {'L': 'o', 'R': 'v'}\n",
    "# markers = [marker_dict[h] for h in hemispheres]\n",
    "markers = ['o', 'v', 'v', 'o', 'o', 'v']\n",
    "# patient_list = ['Patient 1', 'Patient 1', 'Patient 2', 'Patient 2', 'Patient 3', 'Patient 3']\n",
    "# patient_list = ['Pat. 1', 'Pat. 1', 'Pat. 2', 'Pat. 2', 'Pat. 3', 'Pat. 3']\n",
    "patient_list = ['1', '1', '2', '2', '3', '3']\n",
    "dark = sns.color_palette(\"dark\")\n",
    "colors = [dark[0], dark[0], dark[2], dark[2], dark[6], dark[6]]\n",
    "\n",
    "df1 = pd.DataFrame({'beta_power': beta_powers, 'UPDRS': updrs_scores, 'subject': patient_list,\n",
    "                   'marker': markers,\n",
    "                   'ch_hemisphere': hemispheres,\n",
    "                   'color': colors})\n",
    "\n",
    "# calc repeated measures correlation\n",
    "x = 'beta_power'\n",
    "y = 'UPDRS'\n",
    "subject = 'subject'\n",
    "formula = f\"Q('{y}') ~ C(Q('{subject}')) + Q('{x}')\"\n",
    "model = ols(formula, data=df1).fit()\n",
    "df1[\"pred\"] = model.fittedvalues\n",
    "\n",
    "corr_pearson = pearsonr(df1.beta_power.values, df1.UPDRS.values)\n",
    "corr_spearman = spearmanr(df1.beta_power.values, df1.UPDRS.values)\n",
    "corr_within = rm_corr(df1, x='beta_power', y='UPDRS', subject='subject')\n",
    "\n",
    "# stat_string = (r\"Pearson's $r$\"f\"={corr_pearson[0]:.2f}\\n\"\n",
    "#             #    r\"Spearman's $\\rho$=\"f\"{corr_spearman[0]:.2f}\\n\"\n",
    "#                r\"Repeated measures $r_{rm}$\"f\"={corr_within['r'].values[0]:.2f}\")\n",
    "# corr_str_pearson = r\"Pearson's $r$\"\n",
    "corr_str_spearman = r\"Spearman's $\\rho$\"\n",
    "corr_str_rm = r\"Repeated measures $r_{rm}$\"\n",
    "corr_str_spearman2 = r\"$\\rho$\"\n",
    "corr_str_rm2 = r\"$r_{rm}$\"\n",
    "stat_string = (\n",
    "    # f\"{corr_str_pearson:<33}={corr_pearson[0]:.2f}\\n\"\n",
    "    f\"{corr_str_spearman:<33}\"r\"$=$\"f\"{corr_spearman[0]:.2f}\\n\"\n",
    "    f\"{corr_str_rm}\"r\"$=$\"f\"{corr_within['r'].values[0]:.2f}\")"
   ]
  },
  {
   "cell_type": "code",
   "execution_count": 3,
   "metadata": {},
   "outputs": [
    {
     "name": "stderr",
     "output_type": "stream",
     "text": [
      "/Users/moritzgerster/anaconda3/envs/aperiodic/lib/python3.12/site-packages/pingouin/power.py:861: UserWarning: Sample size is too small to estimate power (n <= 4). Returning NaN.\n",
      "  warnings.warn(\"Sample size is too small to estimate power (n <= 4). Returning NaN.\")\n"
     ]
    }
   ],
   "source": [
    "beta_powers2 = [1, 2.2, 3, 4.5, 4.7, 6]\n",
    "updrs_scores2 = [3.1, 4.7, 3.3, 3.7, 3, 4]\n",
    "# hemispheres = ['R', 'L', 'L', 'R', 'L', 'R']\n",
    "markers = ['o', 'v', 'o', 'v', 'o', 'v']\n",
    "\n",
    "df2 = pd.DataFrame({'beta_power': beta_powers2, 'UPDRS': updrs_scores2, 'subject': patient_list,\n",
    "                   'marker': markers,\n",
    "                   'ch_hemisphere': hemispheres,\n",
    "                   'color': colors})\n",
    "\n",
    "# calc repeated measures correlation\n",
    "x = 'beta_power'\n",
    "y = 'UPDRS'\n",
    "subject = 'subject'\n",
    "formula = f\"Q('{y}') ~ C(Q('{subject}')) + Q('{x}')\"\n",
    "model = ols(formula, data=df2).fit()\n",
    "df2[\"pred\"] = model.fittedvalues\n",
    "\n",
    "corr_pearson = pearsonr(df2.beta_power.values, df2.UPDRS.values)\n",
    "corr_spearman = spearmanr(df2.beta_power.values, df2.UPDRS.values)\n",
    "corr_within = rm_corr(df2, x='beta_power', y='UPDRS', subject='subject')\n",
    "\n",
    "# corr_str_pearson = r\"Pearson's $r$\"\n",
    "# corr_str_rm = r\"Repeated measures $r_{rm}$\"\n",
    "stat_string2 = (\n",
    "    # f\"{corr_str_pearson:<33}={corr_pearson[0]:.2f}\\n\"\n",
    "    f\"{corr_str_spearman2:<8}\"r\"$=$\"f\"{corr_spearman[0]:.2f}\\n\"\n",
    "    f\"{corr_str_rm2}\"r\"$=$\"f\"{corr_within['r'].values[0]:.2f}\")\n",
    "    # f\"{corr_str_spearman2:<8} (across patients)=\"f\"{corr_spearman[0]:.2f}\\n\"\n",
    "    # f\"{corr_str_rm2} (within patients)=\"f\"{corr_within['r'].values[0]:.2f}\")"
   ]
  },
  {
   "cell_type": "code",
   "execution_count": 4,
   "metadata": {},
   "outputs": [],
   "source": [
    "dfs = [df1, df2]\n",
    "stat_strings = [stat_string, stat_string2]"
   ]
  },
  {
   "cell_type": "code",
   "execution_count": 5,
   "metadata": {},
   "outputs": [
    {
     "name": "stdout",
     "output_type": "stream",
     "text": [
      "Spearman's $\\rho$                $=$0.94\n",
      "Repeated measures $r_{rm}$$=$-0.03\n",
      "\n",
      "\n",
      "$\\rho$  $=$0.03\n",
      "$r_{rm}$$=$0.85\n"
     ]
    },
    {
     "data": {
      "image/png": "[encoded data removed]",
      "text/plain": [
       "<Figure size 260x125 with 2 Axes>"
      ]
     },
     "metadata": {},
     "output_type": "display_data"
    }
   ],
   "source": [
    "\n",
    "fig, axes = plt.subplots(1, 2, figsize=(2.6, 1.25), sharey=True)\n",
    "\n",
    "for axi in range(2):\n",
    "    ax = axes[axi]\n",
    "    df = dfs[axi]\n",
    "    for i, subject in enumerate(df.subject.unique()):\n",
    "        df_sub = df[df['subject'] == subject]\n",
    "        color = df_sub.color.values[0]\n",
    "        # Separate loop for each hemisphere to enable different markers\n",
    "        for hemi in df_sub.ch_hemisphere.unique():\n",
    "            df_sub_hemi = df_sub[df_sub['ch_hemisphere'] == hemi]\n",
    "            ax.scatter(df_sub_hemi['beta_power'], df_sub_hemi['UPDRS'],\n",
    "                       label=subject, marker=df_sub_hemi['marker'].values[0],\n",
    "                       color=color, s=7, zorder=1,\n",
    "                    #    markeredgewidth=10,\n",
    "                    #    markeredgecolor='k'\n",
    "                    edgecolors='k'\n",
    "                       )\n",
    "        # Plot repeated measures correlation\n",
    "        label = r'$r_{rm}$' if i == 2 else None\n",
    "        sns.regplot(x=x, y=\"pred\", data=df_sub, ax=ax, scatter=False, ci=None,\n",
    "                    truncate=True, label=label, color=color,\n",
    "                    line_kws=dict(linewidth=0.5, zorder=1))\n",
    "\n",
    "    # Plot linear regression across all data\n",
    "    coef = np.polyfit(df['beta_power'].values, df['UPDRS'].values, 1)\n",
    "    poly1d_fn = np.poly1d(coef)\n",
    "\n",
    "    # X = sm.add_constant(df['beta_power'])\n",
    "    # model = sm.OLS(df['UPDRS'], X).fit()\n",
    "    # predictions = model.predict(X)\n",
    "    # ax.plot(df['beta_power'], predictions, 'k--', label='Lin. reg.')\n",
    "    ax.plot(df['beta_power'], poly1d_fn(df['beta_power']), 'k--',\n",
    "            label='Lin. reg.', lw=.25, zorder=0)\n",
    "\n",
    "    # Set axis\n",
    "    ax.set_ylabel(None)\n",
    "    ax.set_xlabel('Beta power [a.u.]')\n",
    "    ax.set_ylim(1, 8)\n",
    "\n",
    "# Legend handles\n",
    "handles = [Patch(color=color) for color in df.color.unique()]\n",
    "labels = [subject for subject in df.subject.unique()]\n",
    "axes[0].legend(handles, labels, handlelength=1, ncol=3, title='Patient',\n",
    "               columnspacing=1,borderaxespad=0.2,\n",
    "            #    labelspacing=0.1\n",
    "            handletextpad=0.4, loc='upper left',# bbox_to_anchor=(0, 1.05)\n",
    "               )\n",
    "axes[0].set_ylabel('Bradykinesia-Rigidity')\n",
    "\n",
    "more = mlines.Line2D([], [], color='k', marker='v', markersize=2, lw=0)\n",
    "less = mlines.Line2D([], [], color='k', marker='o', markersize=2, lw=0)\n",
    "rm_handle = mlines.Line2D([], [], color='k', lw=.5, linestyle='-')\n",
    "lin_reg = mlines.Line2D([], [], color='k', linestyle='--', lw=.25)\n",
    "# handles = [more, less]\n",
    "# labels = ['More affected', 'Less affected']\n",
    "handles = [more, less, lin_reg, rm_handle]\n",
    "labels = ['More affected', 'Less affected', 'Lin. reg.', r'$r_{rm}$']\n",
    "axes[1].legend(handles, labels, ncol=2, handlelength=.75, columnspacing=1,\n",
    "               handletextpad=0.4, borderaxespad=0.2,\n",
    "               loc='upper left',\n",
    "            #    bbox_to_anchor=(-.01, 1.05)\n",
    "               )\n",
    "\n",
    "print(stat_strings[0])\n",
    "print('\\n')\n",
    "print(stat_strings[1])\n",
    "# axes[0].set_title(stat_strings[0], ha='left', x=0)\n",
    "# axes[1].set_title(stat_strings[1], ha='center', x=0.3)\n",
    "plt.tight_layout()\n",
    "save_dir = join(SAVE_DIR, 'Figure5')\n",
    "_save_fig(fig, 'repeated_measures_correlation', save_dir, bbox_inches=None,\n",
    "          close=False, transparent=True)"
   ]
  },
  {
   "cell_type": "code",
   "execution_count": null,
   "metadata": {},
   "outputs": [],
   "source": []
  }
 ],
 "metadata": {
  "kernelspec": {
   "display_name": "aperiodic",
   "language": "python",
   "name": "python3"
  },
  "language_info": {
   "codemirror_mode": {
    "name": "ipython",
    "version": 3
   },
   "file_extension": ".py",
   "mimetype": "text/x-python",
   "name": "python",
   "nbconvert_exporter": "python",
   "pygments_lexer": "ipython3",
   "version": "3.12.8"
  },
  "orig_nbformat": 4
 },
 "nbformat": 4,
 "nbformat_minor": 2
}
