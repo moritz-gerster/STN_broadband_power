{
 "cells": [
  {
   "cell_type": "markdown",
   "metadata": {},
   "source": [
    "# Correlate normalized UPDRS and find correlation that needs to beaten"
   ]
  },
  {
   "cell_type": "code",
   "execution_count": 1,
   "metadata": {},
   "outputs": [],
   "source": [
    "%load_ext autoreload\n",
    "%autoreload 2\n",
    "from analysis_settings import *\n",
    "from plot_settings import *\n",
    "from scripts.utils_plot import _save_fig, _corr_results, _axes2d, plot_corr, plot_corrs, convert_pvalue_to_asterisks\n",
    "import pandas as pd\n",
    "import scripts.config as cfg\n",
    "from os.path import join\n",
    "import matplotlib.pyplot as plt\n",
    "import statsmodels.api as sm\n",
    "from scipy import stats\n",
    "from sklearn.linear_model import LinearRegression\n",
    "import numpy as np\n",
    "from itertools import combinations, chain"
   ]
  },
  {
   "cell_type": "code",
   "execution_count": 2,
   "metadata": {},
   "outputs": [],
   "source": [
    "n_perm = 10000\n",
    "# n_perm = None"
   ]
  },
  {
   "cell_type": "code",
   "execution_count": 3,
   "metadata": {},
   "outputs": [
    {
     "name": "stderr",
     "output_type": "stream",
     "text": [
      "/Users/moritzgerster/Library/CloudStorage/Dropbox/Code/STN_broadband_power/notebooks/analysis_settings.py:55: PerformanceWarning: DataFrame is highly fragmented.  This is usually the result of calling `frame.insert` many times, which has poor performance.  Consider joining all columns at once using pd.concat(axis=1) instead. To get a de-fragmented frame, use `newframe = frame.copy()`\n",
      "  df['sub_hemi_cond'] = df.sub_hemi + '_' + df.cond\n",
      "/Users/moritzgerster/Library/CloudStorage/Dropbox/Code/STN_broadband_power/notebooks/analysis_settings.py:81: PerformanceWarning: DataFrame is highly fragmented.  This is usually the result of calling `frame.insert` many times, which has poor performance.  Consider joining all columns at once using pd.concat(axis=1) instead. To get a de-fragmented frame, use `newframe = frame.copy()`\n",
      "  pivot['UPDRS_exists'] = pivot.UPDRS_bradyrigid_contra.notna()\n",
      "/Users/moritzgerster/Library/CloudStorage/Dropbox/Code/STN_broadband_power/notebooks/analysis_settings.py:82: PerformanceWarning: DataFrame is highly fragmented.  This is usually the result of calling `frame.insert` many times, which has poor performance.  Consider joining all columns at once using pd.concat(axis=1) instead. To get a de-fragmented frame, use `newframe = frame.copy()`\n",
      "  pivot['asymmetric_on'] = pivot.patient_symptom_dominant_side_BR_on.isin(['severe side', 'mild side'])\n",
      "/Users/moritzgerster/Library/CloudStorage/Dropbox/Code/STN_broadband_power/notebooks/analysis_settings.py:83: PerformanceWarning: DataFrame is highly fragmented.  This is usually the result of calling `frame.insert` many times, which has poor performance.  Consider joining all columns at once using pd.concat(axis=1) instead. To get a de-fragmented frame, use `newframe = frame.copy()`\n",
      "  pivot['asymmetric_off'] = pivot.patient_symptom_dominant_side_BR_off.isin(['severe side', 'mild side'])\n",
      "/Users/moritzgerster/Library/CloudStorage/Dropbox/Code/STN_broadband_power/notebooks/analysis_settings.py:84: PerformanceWarning: DataFrame is highly fragmented.  This is usually the result of calling `frame.insert` many times, which has poor performance.  Consider joining all columns at once using pd.concat(axis=1) instead. To get a de-fragmented frame, use `newframe = frame.copy()`\n",
      "  pivot['has_model'] = pivot.fm_exponent.notna()\n"
     ]
    }
   ],
   "source": [
    "ch_choice = 'ch_dist_sweet'\n",
    "dataframes = get_dfs(ch_choice)\n",
    "\n",
    "df_norm = dataframes['df_norm']\n",
    "df_abs = dataframes['df_abs']\n",
    "df_per = dataframes['df_per']\n",
    "# df_abs260 = dataframes['df_abs260']\n",
    "# df_lor = dataframes['df_lor100']\n",
    "df_sample_sizes = dataframes['df_sample_sizes']\n",
    "\n",
    "df_norm = df_norm[~df_norm.project.isin(['all'])]\n",
    "df_norm_offon = df_norm[df_norm.cond.isin(['offon_abs'])]\n",
    "df_norm_on = df_norm[df_norm.cond.isin(['on'])]\n",
    "df_norm_off = df_norm[df_norm.cond.isin(['off'])\n",
    "                      ]\n",
    "df_abs = df_abs[~df_abs.project.isin(['all'])]\n",
    "df_abs_off = df_abs[df_abs.cond.isin(['off'])]\n",
    "df_abs_on = df_abs[df_abs.cond.isin(['on'])]\n",
    "\n",
    "df_per = df_per[~df_per.project.isin(['all'])]\n",
    "df_per_off = df_per[df_per.cond.isin(['off'])]\n",
    "df_per_on = df_per[df_per.cond.isin(['on'])]\n",
    "# df_abs260 = df_abs260[df_abs260.cond.isin(['off']) & df_abs260.project.isin(['all'])]\n",
    "# df_lor = df_lor[df_lor.cond.isin(['off']) & df_lor.project.isin(['all'])]"
   ]
  },
  {
   "cell_type": "code",
   "execution_count": 4,
   "metadata": {},
   "outputs": [],
   "source": [
    "def f_test(sum_squares_resid1, sum_squares_resid2, dof1, dof2,\n",
    "           model_nme1='Model 1', model_nme2='Model 2'):\n",
    "    if dof1 == dof2:\n",
    "        f_stat = sum_squares_resid1 / sum_squares_resid2\n",
    "        p_value = 1 - stats.f.cdf(f_stat, dof1, dof2)\n",
    "    else:\n",
    "        f_stat = ((sum_squares_resid1 - sum_squares_resid2) / (dof1 - dof2)) / (sum_squares_resid2 / dof2)\n",
    "        p_value = 1 - stats.f.cdf(f_stat, dof1 - dof2, dof2)\n",
    "    print(f'{model_nme2} (same or more parameters) is better than {model_nme1} at p={p_value}')\n",
    "    return p_value\n",
    "\n",
    "\n",
    "def _corrected_aic(model):\n",
    "    \"\"\"Correct AIC for small sample sizes.\"\"\"\n",
    "    aic = model.aic\n",
    "    n_features = model.params.shape[0]\n",
    "    sample_size = model.nobs\n",
    "    correction = (2 * n_features**2 + 2 * n_features) / (sample_size - n_features - 1)\n",
    "    AICc = aic + correction\n",
    "    return AICc\n",
    "\n",
    "\n",
    "def all_combinations(any_list, max_len=None):\n",
    "    if max_len == None:\n",
    "        max_len = len(any_list)\n",
    "    return chain.from_iterable(combinations(any_list, i + 1)\n",
    "                               for i in range(max_len))\n",
    "\n",
    "\n",
    "def plot_all(df, X, y, kind, add_constant=True, extension='', save=True):\n",
    "    if isinstance(X, str):\n",
    "        X = [X]\n",
    "    # if isinstance(y, list):\n",
    "    #     Y = [Y]\n",
    "    X = X.copy()\n",
    "    df = df.copy()\n",
    "    df = df.dropna(subset=X+[y])\n",
    "    if y == 'UPDRS_III':\n",
    "        # average hemispheres\n",
    "        keep = ['subject', 'cond', 'project', 'color']\n",
    "        df = df.groupby(keep).mean(numeric_only=True).reset_index()\n",
    "\n",
    "    # Linear regression\n",
    "    X_arr = df[X].values\n",
    "    if add_constant:\n",
    "        X_arr = sm.add_constant(X_arr)\n",
    "    y_arr = df[y].values\n",
    "    # Calculate AIC and BIC\n",
    "    model = sm.OLS(y_arr, X_arr).fit()\n",
    "    coefficients = model.params\n",
    "    # if add_constant:\n",
    "    #     coefficients = coefficients[1:]\n",
    "    sum_of_squared_residuals = model.ssr\n",
    "    degrees_of_freedom = model.df_resid\n",
    "    AICc_linreg = _corrected_aic(model)\n",
    "    BIC_linreg = model.bic\n",
    "    # if round(AICc) != round(model.aic):\n",
    "    #     aic_str = f'AICc: {AICc:.0f}, AIC: {model.aic:.0f}'\n",
    "    # else:\n",
    "    #     aic_str = f'AIC: {model.aic:.0f}'\n",
    "    if coefficients.ndim == 2:\n",
    "        coefficients = coefficients[0]\n",
    "\n",
    "    bands = [band.replace('_abs_mean_log', '').replace('_fm_mean_log', '')\n",
    "             for band in X]\n",
    "    bands = [cfg.BAND_NAMES_GREEK_SHORT[band] for band in bands]\n",
    "    # feature_nme = f\"Lin. reg. ({' '.join(X).replace(pwr_str, '')})\"\n",
    "    feature_nme = f\"Lin. reg. ({', '.join(bands)})\"\n",
    "    # feature_nme = \"Regression model\"\n",
    "    X.append(feature_nme)\n",
    "    full_model_abic = f'AICc: {AICc_linreg:.0f}, BIC: {BIC_linreg:.0f}'\n",
    "    print(f'{feature_nme} coefficients: {coefficients}')\n",
    "    df[feature_nme] = [np.dot(coefficients, x) for x in X_arr]\n",
    "\n",
    "\n",
    "    fig, axes = plt.subplots(1, len(X), figsize=(3.5, 1.3), sharey=True,\n",
    "                             width_ratios=[1] * (len(X) - 1) + [1.5])\n",
    "    for i, x in enumerate(X):\n",
    "        add_sample_size = True if i == len(X)-1 else False\n",
    "        x_arr = df[x].values\n",
    "        if add_constant:\n",
    "            x_arr = sm.add_constant(x_arr)\n",
    "        model = sm.OLS(y_arr, x_arr).fit()\n",
    "        AICc = _corrected_aic(model)\n",
    "        BIC = model.bic\n",
    "        # if round(AICc) != round(model.aic):\n",
    "        #     aic_str = f'AICc: {AICc:.0f}, AIC: {model.aic:.0f}'\n",
    "        # else:\n",
    "        #     aic_str = f'AIC: {model.aic:.0f}'\n",
    "        if i != len(X)-1:\n",
    "            model_abic = f'AICc: {AICc:.0f}, BIC: {BIC:.0f}'\n",
    "        else:\n",
    "            model_abic = full_model_abic\n",
    "        corr_results = _corr_results(df, x, y,\n",
    "                                     'pearson',\n",
    "                                    #  'spearman',\n",
    "                                     None,\n",
    "                                     add_sample_size=add_sample_size,\n",
    "                                    #  pval_string=False,\n",
    "                                    n_perm=n_perm\n",
    "                                    )\n",
    "        r_pearson, sample_size, label, weight, _ = corr_results\n",
    "        pvalue = float(label.split('p=')[1])\n",
    "        ax = axes[i]\n",
    "        kind_color = 'periodicAP' if x in ['fm_offset_log', 'fm_exponent', 'fm_exponent_narrow'] else kind\n",
    "        color = cfg.COLOR_DIC[kind_color]\n",
    "        sns.regplot(ax=ax, data=df, y=y, x=x, ci=95, scatter_kws=dict(s=1),\n",
    "                    color=color, label=label, marker='.', n_boot=1000)\n",
    "\n",
    "        try:\n",
    "            xlabel = cfg.PLOT_LABELS[x].replace(' mean', '')\n",
    "        except KeyError:\n",
    "            xlabel = x\n",
    "        print(f'{xlabel}: {label}, {model_abic}')\n",
    "        # xlabel = cfg.BAND_NAMES_GREEK_SHORT[x]\n",
    "        ax.set_xlabel(xlabel)\n",
    "        ax.set_ylabel(None)\n",
    "        # if i == 0:\n",
    "        #     label = label[:17]\n",
    "        # if i != len(X)-1:\n",
    "            # label = f'r={rho:.2f}'\n",
    "        ax.set_title(label, weight=weight)\n",
    "    axes[0].set_ylabel('UPDRS-III')\n",
    "    plt.tight_layout()\n",
    "    fname = f'{kind}_regression_all_vs_{y}_{df.cond.unique()[0]}{extension}.pdf'\n",
    "    save_dir = join(SAVE_DIR, 'Figure2', ch_choice)\n",
    "    if save:\n",
    "        _save_fig(fig, fname, save_dir, bbox_inches=None, close=False, transparent=True)\n",
    "    plt.show()\n",
    "    return r_pearson, pvalue, sum_of_squared_residuals, degrees_of_freedom, AICc_linreg, BIC_linreg\n",
    "\n",
    "\n",
    "def plot_all_ax(ax, df, X, y, kind, add_constant=True, ylabel=False):\n",
    "    if isinstance(X, str):\n",
    "        X = [X]\n",
    "    X = X.copy()\n",
    "    df = df.copy()\n",
    "    df = df.dropna(subset=X+[y])\n",
    "    if y == 'UPDRS_III':\n",
    "        # average hemispheres\n",
    "        keep = ['subject', 'cond', 'project', 'color']\n",
    "        df = df.groupby(keep).mean(numeric_only=True).reset_index()\n",
    "\n",
    "    # Linear regression\n",
    "    X_arr = df[X].values\n",
    "    if add_constant:\n",
    "        X_arr = sm.add_constant(X_arr)\n",
    "    y_arr = df[y].values\n",
    "    # Calculate AIC and BIC\n",
    "    model = sm.OLS(y_arr, X_arr).fit()\n",
    "    coefficients = model.params\n",
    "    # if add_constant:\n",
    "    #     coefficients = coefficients[1:]\n",
    "    sum_of_squared_residuals = model.ssr\n",
    "    degrees_of_freedom = model.df_resid\n",
    "    AICc_linreg = _corrected_aic(model)\n",
    "    BIC_linreg = model.bic\n",
    "    # if round(AICc) != round(model.aic):\n",
    "    #     aic_str = f'AICc: {AICc:.0f}, AIC: {model.aic:.0f}'\n",
    "    # else:\n",
    "    #     aic_str = f'AIC: {model.aic:.0f}'\n",
    "    if coefficients.ndim == 2:\n",
    "        coefficients = coefficients[0]\n",
    "\n",
    "    bands = [band.replace('_abs_mean_log', '').replace('_fm_mean_log', '')\n",
    "             for band in X]\n",
    "    bands = [cfg.BAND_NAMES_GREEK_SHORT[band] for band in bands]\n",
    "    # feature_nme = f\"Lin. reg. ({' '.join(X).replace(pwr_str, '')})\"\n",
    "    feature_nme = f\"Lin. reg. ({', '.join(bands)})\"\n",
    "    # feature_nme = \"Regression model\"\n",
    "    X.append(feature_nme)\n",
    "    model_abic = f'AICc: {AICc_linreg:.0f}, BIC: {BIC_linreg:.0f}'\n",
    "    print(f'{feature_nme} coefficients: {coefficients}')\n",
    "    df[feature_nme] = [np.dot(coefficients, x) for x in X_arr]\n",
    "\n",
    "    x = feature_nme\n",
    "    add_sample_size = True\n",
    "    corr_results = _corr_results(df, x, y, 'pearson', None,\n",
    "                                 add_sample_size=add_sample_size,\n",
    "                                 n_perm=n_perm)\n",
    "    r_pearson, sample_size, label, weight, _ = corr_results\n",
    "    pvalue = float(label.split('p=')[1])\n",
    "    kind_color = 'periodicAP' if x in ['fm_offset_log', 'fm_exponent', 'fm_exponent_narrow'] else kind\n",
    "    color = cfg.COLOR_DIC[kind_color]\n",
    "    sns.regplot(ax=ax, data=df, y=y, x=x, ci=95, scatter_kws=dict(s=1),\n",
    "                color=color, label=label, marker='.', n_boot=1000)\n",
    "\n",
    "    try:\n",
    "        xlabel = cfg.PLOT_LABELS[x].replace(' mean', '')\n",
    "    except KeyError:\n",
    "        xlabel = x\n",
    "    print(f'{xlabel}: {label}, {model_abic}')\n",
    "    ax.set_xlabel(xlabel)\n",
    "    if ylabel:\n",
    "        ax.set_ylabel('UPDRS-III')\n",
    "    else:\n",
    "        ax.set_ylabel(None)\n",
    "        ax.set_yticklabels([])\n",
    "    ax.set_title(label, weight=weight)\n",
    "    return r_pearson, pvalue, sum_of_squared_residuals, degrees_of_freedom, AICc_linreg, BIC_linreg"
   ]
  },
  {
   "cell_type": "code",
   "execution_count": 5,
   "metadata": {},
   "outputs": [],
   "source": [
    "def find_best_model(df, y, kind, bands=cfg.BANDS.keys(), power='mean',\n",
    "                    n_models=3, max_params=3,\n",
    "                    add_constant=True, extension='', save=True,\n",
    "                    optimize='AIC+BIC'):\n",
    "    if kind == 'periodic':\n",
    "        pwr_str = f'_fm_{power}_log'\n",
    "        # features = [f'{band}_fm_{power}_log' for band in bands]\n",
    "    else:\n",
    "        pwr_str = f'_abs_{power}_log'\n",
    "    features = [band + pwr_str for band in bands]\n",
    "    if kind == 'periodic':\n",
    "        features += ['fm_offset_log', 'fm_exponent']\n",
    "    feature_nme = \"Regression model\"\n",
    "    df = df.copy()\n",
    "    df = df.dropna(subset=features + [y])\n",
    "    if y == 'UPDRS_III':\n",
    "        # average hemispheres\n",
    "        keep = ['subject', 'cond', 'project', 'color']\n",
    "        df = df.groupby(keep).mean(numeric_only=True).reset_index()\n",
    "    y_arr = df[y].values\n",
    "    combinations = [list(l) for l in all_combinations(features, max_len=max_params)]\n",
    "\n",
    "    # Test all combinations\n",
    "    metrics = []\n",
    "    models = []\n",
    "    # AICs = []\n",
    "    # BICs = []\n",
    "    # ABICs = []\n",
    "    for X in combinations:\n",
    "\n",
    "        # Linear regression\n",
    "        X_arr = df[X].values\n",
    "        if add_constant:\n",
    "            X_arr = sm.add_constant(X_arr)\n",
    "        # Calculate AIC and BIC\n",
    "        model = sm.OLS(y_arr, X_arr).fit()\n",
    "        if optimize == 'AIC':\n",
    "            AICc = _corrected_aic(model)\n",
    "            metrics.append(AICc)\n",
    "        elif optimize == 'BIC':\n",
    "            metrics.append(model.bic)\n",
    "        elif optimize == 'AIC+BIC':\n",
    "            AICc = _corrected_aic(model)\n",
    "            metrics.append(AICc + model.bic)\n",
    "        models.append(model)\n",
    "        # AICs.append(AICc)\n",
    "        # BICs.append(model.bic)\n",
    "        # ABICs.append(AICc + model.bic)\n",
    "\n",
    "    # Sort models by metric\n",
    "    sorted_idx = np.argsort(metrics)\n",
    "    # Select and plot the n_models best models\n",
    "    sorted_idx = sorted_idx[:n_models]\n",
    "    sorted_features = [combinations[i] for i in sorted_idx]\n",
    "    sorted_models = [models[i] for i in sorted_idx]\n",
    "    for i, model in enumerate(sorted_models):\n",
    "\n",
    "        coefficients = model.params\n",
    "        if coefficients.ndim == 2:\n",
    "            coefficients = coefficients[0]\n",
    "        # sum_of_squared_residuals = model.ssr\n",
    "        # degrees_of_freedom = model.df_resid\n",
    "        # if round(AICc) != round(model.aic):\n",
    "        #     aic_str = f'AICc: {AICc:.0f}, AIC: {model.aic:.0f}'\n",
    "        # else:\n",
    "        #     aic_str = f'AIC: {model.aic:.0f}'\n",
    "        AICc = _corrected_aic(model)\n",
    "\n",
    "        X = sorted_features[i]\n",
    "        bands_kept = [band for band in bands if band + pwr_str in X]\n",
    "        bands_kept = [cfg.BAND_NAMES_GREEK_SHORT[band] for band in bands_kept]\n",
    "        # feature_nme = f\"Lin. reg. ({' '.join(X).replace(pwr_str, '')})\"\n",
    "        feature_nme = f\"Lin. reg. ({', '.join(bands_kept)})\"\n",
    "        full_model_abic = f'AICc: {AICc:.0f}, BIC: {model.bic:.0f}'\n",
    "        print(f'{feature_nme} coefficients: {coefficients}')\n",
    "        X_arr = df[X].values\n",
    "        if add_constant:\n",
    "            X_arr = sm.add_constant(X_arr)\n",
    "        df[feature_nme] = [np.dot(coefficients, x) for x in X_arr]\n",
    "        X.append(feature_nme)\n",
    "\n",
    "\n",
    "        fig, axes = plt.subplots(1, len(X), figsize=(3.5, 1.3), sharey=True,\n",
    "                                width_ratios=[1] * (len(X) - 1) + [1.5])\n",
    "        for i, x in enumerate(X):\n",
    "            add_sample_size = True if i == len(X)-1 else False\n",
    "            x_arr = df[x].values\n",
    "            if add_constant:\n",
    "                x_arr = sm.add_constant(x_arr)\n",
    "            model = sm.OLS(y_arr, x_arr).fit()\n",
    "            AICc = _corrected_aic(model)\n",
    "            # if round(AICc) != round(model.aic):\n",
    "            #     aic_str = f'AICc: {AICc:.0f}, AIC: {model.aic:.0f}'\n",
    "            # else:\n",
    "            #     aic_str = f'AIC: {model.aic:.0f}'\n",
    "            if i != len(X)-1:\n",
    "                model_abic = f'AICc: {AICc:.0f}, BIC: {model.bic:.0f}'\n",
    "            else:\n",
    "                model_abic = full_model_abic\n",
    "            corr_results = _corr_results(df, x, y, 'pearson', None,\n",
    "                                        add_sample_size=add_sample_size,\n",
    "                                        #  pval_string=False,\n",
    "                                        n_perm=n_perm\n",
    "                                        )\n",
    "            rho, sample_size, label, weight, _ = corr_results\n",
    "            ax = axes[i]\n",
    "            kind_color = 'periodicAP' if x in ['fm_offset_log', 'fm_exponent', 'fm_exponent_narrow'] else kind\n",
    "            color = cfg.COLOR_DIC[kind_color]\n",
    "            sns.regplot(ax=ax, data=df, y=y, x=x, ci=95, scatter_kws=dict(s=1),\n",
    "                        color=color, label=label, marker='.', n_boot=1000)\n",
    "\n",
    "            try:\n",
    "                xlabel = cfg.PLOT_LABELS[x].replace(' mean', '')\n",
    "            except KeyError:\n",
    "                xlabel = x\n",
    "            print(f'{xlabel}: {label}, {model_abic}')\n",
    "            # xlabel = cfg.BAND_NAMES_GREEK_SHORT[x]\n",
    "            ax.set_xlabel(xlabel)\n",
    "            ax.set_ylabel(None)\n",
    "            # if i == 0:\n",
    "            #     label = label[:17]\n",
    "            # if i != len(X)-1:\n",
    "                # label = f'r={rho:.2f}'\n",
    "            ax.set_title(label, weight=weight)\n",
    "        axes[0].set_ylabel('UPDRS-III')\n",
    "        plt.tight_layout()\n",
    "        # fname = f'{kind}_regression_all_vs_{y}_{df.cond.unique()[0]}{extension}.pdf'\n",
    "        # save_dir = join(SAVE_DIR, 'Figure2', ch_choice)\n",
    "        # if save:\n",
    "        #     _save_fig(fig, fname, save_dir, bbox_inches=None, close=False, transparent=True)\n",
    "        plt.show()"
   ]
  },
  {
   "cell_type": "markdown",
   "metadata": {},
   "source": [
    "## Correlate relative power with UPDRS Off"
   ]
  },
  {
   "cell_type": "code",
   "execution_count": 6,
   "metadata": {},
   "outputs": [
    {
     "data": {
      "image/png": "[encoded data removed]",
      "text/plain": [
       "<Figure size 130x140 with 1 Axes>"
      ]
     },
     "metadata": {},
     "output_type": "display_data"
    },
    {
     "data": {
      "image/png": "[encoded data removed]",
      "text/plain": [
       "<Figure size 130x140 with 1 Axes>"
      ]
     },
     "metadata": {},
     "output_type": "display_data"
    }
   ],
   "source": [
    "# x = 'beta_low_abs_max_log'\n",
    "x = 'beta_low_abs_mean_log'\n",
    "y = 'UPDRS_III'\n",
    "corr_method = 'spearman'\n",
    "\n",
    "y_vals = ['UPDRS_III', 'UPDRS_bradyrigid_contra']\n",
    "\n",
    "for y in y_vals:\n",
    "    df_plot = df_norm_off\n",
    "\n",
    "    if y == 'UPDRS_III':\n",
    "        # average hemispheres\n",
    "        keep = ['subject', 'cond', 'project', 'color']\n",
    "        df_plot = df_plot.groupby(keep).mean(numeric_only=True).reset_index()\n",
    "\n",
    "\n",
    "    corr_results = _corr_results(df_plot, x, y, corr_method, None,\n",
    "                                n_perm=n_perm\n",
    "                                )\n",
    "    rho, sample_size, label, weight, _ = corr_results\n",
    "\n",
    "    df_plot = df_plot.dropna(subset=[x, y])\n",
    "\n",
    "    fig, ax = plt.subplots(figsize=(1.3, 1.4))\n",
    "\n",
    "    sns.regplot(ax=ax, data=df_plot, y=y, x=x, ci=95, scatter_kws=dict(s=1),\n",
    "                color='k', label=label, marker='.', n_boot=1000)\n",
    "\n",
    "    ax.set_title(label, weight=weight)\n",
    "    # band_nme = x.replace('_abs_max_log', '')\n",
    "    band_nme = x.replace('_abs_mean_log', '')\n",
    "    band_label = cfg.BAND_NAMES_GREEK[band_nme]\n",
    "    ax.set_xlabel(f'Relative {band_label} [%]')\n",
    "    ax.set_ylabel(cfg.PLOT_LABELS[y])\n",
    "    plt.tight_layout()\n",
    "    fname = f'norm_{band_nme}_vs_{y}_off.pdf'\n",
    "    save_dir = join(SAVE_DIR, 'Figure1', 'ch_dist_sweet')\n",
    "    _save_fig(fig, fname, save_dir, bbox_inches=None, close=False, transparent=True)"
   ]
  },
  {
   "cell_type": "markdown",
   "metadata": {},
   "source": [
    "## Off-On"
   ]
  },
  {
   "cell_type": "code",
   "execution_count": 7,
   "metadata": {},
   "outputs": [
    {
     "data": {
      "image/png": "[encoded data removed]",
      "text/plain": [
       "<Figure size 130x140 with 1 Axes>"
      ]
     },
     "metadata": {},
     "output_type": "display_data"
    }
   ],
   "source": [
    "y = 'UPDRS_III'\n",
    "\n",
    "df_plot = df_norm_offon\n",
    "\n",
    "if y == 'UPDRS_III':\n",
    "    # average hemispheres\n",
    "    keep = ['subject', 'cond', 'project', 'color']\n",
    "    df_plot = df_plot.groupby(keep).mean(numeric_only=True).reset_index()\n",
    "\n",
    "\n",
    "corr_results = _corr_results(df_plot, x, y, corr_method, None,\n",
    "                             n_perm=n_perm\n",
    "                             )\n",
    "rho, sample_size, label, weight, _ = corr_results\n",
    "\n",
    "df_plot = df_plot.dropna(subset=[x, y])\n",
    "\n",
    "fig, ax = plt.subplots(figsize=(1.3, 1.4))\n",
    "\n",
    "sns.regplot(ax=ax, data=df_plot, y=y, x=x, ci=95, scatter_kws=dict(s=1),\n",
    "            color='k', label=label, marker='.', n_boot=1000)\n",
    "\n",
    "ax.set_title(label, weight=weight)\n",
    "# band_nme = x.replace('_abs_max_log', '')\n",
    "band_nme = x.replace('_abs_mean_log', '')\n",
    "band_nme = cfg.BAND_NAMES_GREEK[band_nme]\n",
    "ax.set_xlabel(f'Relative {band_nme} [%]')\n",
    "ax.set_ylabel('UPDRS-III')\n",
    "plt.tight_layout()\n",
    "fname = 'norm_beta_low_vs_UPDRS_offon.pdf'\n",
    "save_dir = join(SAVE_DIR, 'Figure1', 'ch_dist_sweet')\n",
    "_save_fig(fig, fname, save_dir, bbox_inches=None, close=False, transparent=True)"
   ]
  },
  {
   "cell_type": "markdown",
   "metadata": {},
   "source": [
    "## Bradyrigid contra"
   ]
  },
  {
   "cell_type": "code",
   "execution_count": 8,
   "metadata": {},
   "outputs": [
    {
     "data": {
      "image/png": "[encoded data removed]",
      "text/plain": [
       "<Figure size 130x140 with 1 Axes>"
      ]
     },
     "metadata": {},
     "output_type": "display_data"
    }
   ],
   "source": [
    "df_plot = df_norm_off\n",
    "y = 'UPDRS_bradyrigid_contra'\n",
    "if y == 'UPDRS_III':\n",
    "    # average hemispheres\n",
    "    keep = ['subject', 'cond', 'project', 'color']\n",
    "    df_plot = df_plot.groupby(keep).mean(numeric_only=True).reset_index()\n",
    "\n",
    "\n",
    "corr_results = _corr_results(df_plot, x, y, corr_method, None,\n",
    "                             n_perm=n_perm\n",
    "                             )\n",
    "rho, sample_size, label, weight, _ = corr_results\n",
    "\n",
    "df_plot = df_plot.dropna(subset=[x, y])\n",
    "\n",
    "fig, ax = plt.subplots(figsize=(1.3, 1.4))\n",
    "\n",
    "sns.regplot(ax=ax, data=df_plot, y=y, x=x, ci=95, scatter_kws=dict(s=1),\n",
    "            color='k', label=label, marker='.', n_boot=1000)\n",
    "\n",
    "ax.set_title(label, weight=weight)\n",
    "# band_nme = x.replace('_abs_max_log', '')\n",
    "band_nme = x.replace('_abs_mean_log', '')\n",
    "band_nme = cfg.BAND_NAMES_GREEK[band_nme]\n",
    "ax.set_xlabel(f'Relative {band_nme} [%]')\n",
    "ax.set_ylabel('UPDRS-III')\n",
    "plt.tight_layout()\n",
    "fname = 'norm_beta_low_vs_BR_off.pdf'\n",
    "save_dir = join(SAVE_DIR, 'Figure1', 'ch_dist_sweet')\n",
    "_save_fig(fig, fname, save_dir, bbox_inches=None, close=False, transparent=True)"
   ]
  },
  {
   "cell_type": "markdown",
   "metadata": {},
   "source": [
    "# Figure 5"
   ]
  },
  {
   "cell_type": "markdown",
   "metadata": {},
   "source": [
    "## Correlate multiple regression absolute power with UPDRS Off"
   ]
  },
  {
   "cell_type": "markdown",
   "metadata": {},
   "source": [
    "## Absolute"
   ]
  },
  {
   "cell_type": "code",
   "execution_count": 9,
   "metadata": {},
   "outputs": [],
   "source": [
    "y = 'UPDRS_III'"
   ]
  },
  {
   "cell_type": "markdown",
   "metadata": {},
   "source": [
    "#### Model with same patients as periodic"
   ]
  },
  {
   "cell_type": "code",
   "execution_count": 10,
   "metadata": {},
   "outputs": [],
   "source": [
    "# bands = ['delta', 'theta_alpha', 'beta_low', 'beta_high', 'gamma_low']\n",
    "# find_best_model(df_abs_off__, y, 'absolute', n_models=3, max_params=3, bands=bands, optimize='AIC+BIC')"
   ]
  },
  {
   "cell_type": "code",
   "execution_count": 11,
   "metadata": {},
   "outputs": [],
   "source": [
    "# find_best_model(df_abs_off__, y, 'absolute', n_models=3, max_params=3, bands=bands, optimize='AIC+BIC')"
   ]
  },
  {
   "cell_type": "code",
   "execution_count": 12,
   "metadata": {},
   "outputs": [
    {
     "name": "stdout",
     "output_type": "stream",
     "text": [
      "Lin. reg. ($\\theta$, L$\\beta$, L$\\gamma$) coefficients: [ 26.62186102 -12.59043484  14.0083107  -10.43637296]\n",
      "$\\theta$: $r=$-0.31, p=5e-04, AICc: 941, BIC: 946\n",
      "Low $\\beta$: $r=$-0.04, p=0.67, AICc: 953, BIC: 958\n",
      "Low $\\gamma$: $r=$-0.16, p=0.08, AICc: 950, BIC: 955\n",
      "Lin. reg. ($\\theta$, L$\\beta$, L$\\gamma$):  n=119: $r=$0.42, p=1e-04, AICc: 935, BIC: 945\n"
     ]
    },
    {
     "data": {
      "image/png": "[encoded data removed]",
      "text/plain": [
       "<Figure size 350x130 with 4 Axes>"
      ]
     },
     "metadata": {},
     "output_type": "display_data"
    },
    {
     "data": {
      "text/plain": [
       "(np.float64(0.4168868118845096),\n",
       " 0.0001,\n",
       " np.float64(16731.483730573458),\n",
       " np.float64(115.0),\n",
       " np.float64(934.6232021632977),\n",
       " np.float64(945.3888189427614))"
      ]
     },
     "execution_count": 12,
     "metadata": {},
     "output_type": "execute_result"
    }
   ],
   "source": [
    "X = ['theta_abs_mean_log', 'beta_low_abs_mean_log', 'gamma_low_abs_mean_log']\n",
    "plot_all(df_abs_off, X, y, 'absolute')"
   ]
  },
  {
   "cell_type": "code",
   "execution_count": 13,
   "metadata": {},
   "outputs": [],
   "source": [
    "# # average hemispheres\n",
    "# keep = ['subject', 'cond', 'project', 'color']\n",
    "# df_abs_off_mean = df_abs_off.groupby(keep).mean(numeric_only=True).reset_index()\n",
    "# df_abs_off_mean = df_abs_off_mean.dropna(subset=X+[y])\n",
    "# plot_corrs(df_abs_off_mean, 'theta_abs_mean_log', 'fm_offset_log')"
   ]
  },
  {
   "cell_type": "code",
   "execution_count": 14,
   "metadata": {},
   "outputs": [
    {
     "data": {
      "image/png": "[encoded data removed]",
      "text/plain": [
       "<Figure size 150x150 with 1 Axes>"
      ]
     },
     "metadata": {},
     "output_type": "display_data"
    }
   ],
   "source": [
    "y = 'fm_offset_log'\n",
    "x = 'theta_abs_mean_log'\n",
    "corr_method = 'spearman'\n",
    "\n",
    "# average hemispheres\n",
    "keep = ['subject', 'cond', 'project', 'color']\n",
    "df_plot = df_abs_off.groupby(keep).mean(numeric_only=True).reset_index()\n",
    "df_plot = df_plot.dropna(subset=[x]+[y])\n",
    "\n",
    "corr_results = _corr_results(df_plot, x, y, corr_method, None, n_perm=None)\n",
    "rho, sample_size, label, weight, _ = corr_results\n",
    "\n",
    "df_plot = df_plot.dropna(subset=[x, y])\n",
    "\n",
    "fig, ax = plt.subplots(figsize=(1.5, 1.5))\n",
    "\n",
    "sns.regplot(ax=ax, data=df_plot, y=y, x=x, ci=95, scatter_kws=dict(s=1),\n",
    "            color='k', label=label, marker='.', n_boot=1000)\n",
    "\n",
    "ax.set_title(label, weight=weight)\n",
    "ax.set_xlabel(cfg.PLOT_LABELS[x])\n",
    "ax.set_ylabel(cfg.PLOT_LABELS_SHORT[y])\n",
    "plt.tight_layout()\n",
    "fname = f'abs_{x}_vs_{y}_off.pdf'\n",
    "save_dir = join(SAVE_DIR, 'Figure2', 'ch_dist_sweet')\n",
    "_save_fig(fig, fname, save_dir, bbox_inches=None, close=False, transparent=True)"
   ]
  },
  {
   "cell_type": "markdown",
   "metadata": {},
   "source": [
    "### Model comparison relative low beta power (1 parameter) with absolute linear regression (3 parameters)\n",
    "\n",
    "https://sites.duke.edu/bossbackup/files/2013/02/FTestTutorial.pdf\n",
    "\n",
    "Model 1: relative low beta power (fewer paramaters)\n",
    "\n",
    "Model 2: absolute linear regression (more paramaters)\n",
    "\n",
    "$SS_1$: Sum of squares of residuals for Model 1\n",
    "\n",
    "$SS_2$: Sum of squares of residuals for Model 2\n",
    "\n",
    "$dof_1$: degrees of freedom for Model 1\n",
    "\n",
    "$dof_2$: degrees of freedom for Model 2\n",
    "\n",
    "F-test formular: $\\frac{(SS_1 - SS_2) / (dof_1 - dof_2)}{SS_2 / dof_2}$"
   ]
  },
  {
   "cell_type": "code",
   "execution_count": 15,
   "metadata": {},
   "outputs": [],
   "source": [
    "# df_norm_off__ = df_norm_off[df_norm_off.sub_hemi.isin(df_per_off.sub_hemi.unique())]\n",
    "\n",
    "\n",
    "# X = ['beta_low_abs_mean_log']\n",
    "# r_linreg_rel, p_linreg_rel, ssr_rel1, dof_rel1, aic_rel, bic_rel = plot_all(df_norm_off__, X, y, 'normalized')"
   ]
  },
  {
   "cell_type": "code",
   "execution_count": 16,
   "metadata": {},
   "outputs": [],
   "source": [
    "# find_best_model(df_norm_off__, y, 'normalized', n_models=3, optimize='BIC')\n",
    "# find_best_model(df_norm_off__, y, 'normalized', n_models=3, max_params=3, bands=bands, optimize='AIC+BIC')"
   ]
  },
  {
   "cell_type": "markdown",
   "metadata": {},
   "source": [
    "## Periodic"
   ]
  },
  {
   "cell_type": "code",
   "execution_count": 17,
   "metadata": {},
   "outputs": [],
   "source": [
    "# find_best_model(df_abs_off__, y, 'periodic', n_models=3, max_params=3, bands=bands, optimize='AIC+BIC')"
   ]
  },
  {
   "cell_type": "code",
   "execution_count": 18,
   "metadata": {},
   "outputs": [
    {
     "name": "stdout",
     "output_type": "stream",
     "text": [
      "Lin. reg. (Offset, L$\\beta$, L$\\gamma$) coefficients: [ 38.2938942   -6.72255132  14.53509242 -45.08853012]\n",
      "Offset: $r=$-0.32, p=4e-04, AICc: 911, BIC: 916\n",
      "Low $\\beta$: $r=$0.24, p=0.01, AICc: 917, BIC: 922\n",
      "Low $\\gamma$: $r=$-0.21, p=0.02, AICc: 918, BIC: 924\n",
      "Lin. reg. (Offset, L$\\beta$, L$\\gamma$):  n=115: $r=$0.47, p=1e-04, AICc: 900, BIC: 910\n"
     ]
    },
    {
     "data": {
      "image/png": "[encoded data removed]",
      "text/plain": [
       "<Figure size 350x130 with 4 Axes>"
      ]
     },
     "metadata": {},
     "output_type": "display_data"
    }
   ],
   "source": [
    "# full model\n",
    "y = 'UPDRS_III'\n",
    "X = ['fm_offset_log', 'beta_low_fm_mean_log', 'gamma_low_fm_mean_log']\n",
    "r_linreg_per, p_linreg_per, ssr_per3, dof_per3, aic_per, bic_per = plot_all(df_per_off, X, y, 'periodic')"
   ]
  },
  {
   "cell_type": "markdown",
   "metadata": {},
   "source": [
    "# Model comparison with corrected sample size"
   ]
  },
  {
   "cell_type": "markdown",
   "metadata": {},
   "source": [
    "### Abssolute 3 bands is signficantly better than relative low beta band"
   ]
  },
  {
   "cell_type": "code",
   "execution_count": 19,
   "metadata": {},
   "outputs": [],
   "source": [
    "# pval_norm_abs = f_test(ssr_rel1, ssr_abs3, dof_rel1, dof_abs3, model_nme1='Normalized', model_nme2='Absolute')"
   ]
  },
  {
   "cell_type": "markdown",
   "metadata": {},
   "source": [
    "### 3 periodic parameters is better than relative beta alone"
   ]
  },
  {
   "cell_type": "code",
   "execution_count": 20,
   "metadata": {},
   "outputs": [],
   "source": [
    "# pval_norm_per = f_test(ssr_rel1, ssr_per3, dof_rel1, dof_per3)"
   ]
  },
  {
   "cell_type": "markdown",
   "metadata": {},
   "source": [
    "### 3 periodic parameters is not better than 3 absolute model"
   ]
  },
  {
   "cell_type": "code",
   "execution_count": 21,
   "metadata": {},
   "outputs": [],
   "source": [
    "# pval_abs_per = f_test(ssr_abs3, ssr_per3, dof_abs3, dof_per3)"
   ]
  },
  {
   "cell_type": "code",
   "execution_count": 22,
   "metadata": {},
   "outputs": [],
   "source": [
    "# n_perm = None\n",
    "# # Plot model comparison\n",
    "# y = 'UPDRS_III'\n",
    "# kinds = ['normalized', 'absolute', 'periodic']\n",
    "# xticklabels = [cfg.PLOT_LABELS[kind] for kind in kinds]\n",
    "# colors = [cfg.COLOR_DIC[kind] for kind in kinds]\n",
    "\n",
    "\n",
    "# fig, axes = plt.subplots(1, 4, figsize=(7, 1.7),\n",
    "#                          width_ratios=[1, 1, 1, 1.5],\n",
    "#                          gridspec_kw={'wspace': 0.15}\n",
    "#                          )\n",
    "\n",
    "# # # Share y-axis for the first three subplots\n",
    "# # for ax in axes[:3]:\n",
    "# #     ax.sharey(axes[0])  # Share y-axis with the first subplot\n",
    "\n",
    "# # Normalized\n",
    "# df_norm_off_ = df_norm_off[df_norm_off.sub_hemi.isin(df_per_off.sub_hemi.unique())]\n",
    "# X = ['beta_low_abs_mean_log']\n",
    "# r_linreg_rel, p_linreg_rel, ssr_rel1, dof_rel1, aic_rel, bic_rel = plot_all_ax(axes[0], df_norm_off_, X, y,\n",
    "#                                                                                'normalized', ylabel=True)\n",
    "\n",
    "# # Absolute\n",
    "# X = ['theta_alpha_abs_mean_log', 'beta_low_abs_mean_log', 'gamma_low_abs_mean_log']\n",
    "# df_abs_off_ = df_abs_off[df_abs_off.sub_hemi.isin(df_per_off.sub_hemi.unique())]\n",
    "# r_linreg_abs, p_linreg_abs, ssr_abs3, dof_abs3, aic_abs, bic_abs = plot_all_ax(axes[1], df_abs_off_, X, y, 'absolute')\n",
    "\n",
    "# # Periodic\n",
    "# X = ['fm_offset_log', 'beta_low_fm_mean_log', 'gamma_low_fm_mean_log']\n",
    "# r_linreg_per, p_linreg_per, ssr_per3, dof_per3, aic_per, bic_per = plot_all_ax(axes[2], df_per_off, X, y, 'periodic')\n",
    "\n",
    "# # f-test model comparison\n",
    "# pval_norm_abs = f_test(ssr_rel1, ssr_abs3, dof_rel1, dof_abs3, model_nme1='Normalized', model_nme2='Absolute')\n",
    "# pval_norm_per = f_test(ssr_rel1, ssr_per3, dof_rel1, dof_per3, model_nme1='Normalized', model_nme2='Periodic')\n",
    "# pval_abs_per = f_test(ssr_abs3, ssr_per3, dof_abs3, dof_per3, model_nme1='Absolute', model_nme2='Periodic')\n",
    "\n",
    "# annotations = [('normalized', 'absolute', pval_norm_abs),\n",
    "#                 ('absolute', 'periodic', pval_abs_per),\n",
    "#                 ('normalized', 'periodic', pval_norm_per)]\n",
    "# correlations = [r_linreg_rel, r_linreg_abs, r_linreg_per]\n",
    "# pvalues = [p_linreg_rel, p_linreg_abs, p_linreg_per]\n",
    "\n",
    "# # Barplot model comparison\n",
    "# ax = axes[3]  # Adjust the last subplot's position\n",
    "# # pos = ax.get_position()  # Get the current position\n",
    "# # new_left = pos.x0 - 0.01  # Move to the right by increasing the left position\n",
    "# # new_width = pos.width     # Keep the same width\n",
    "# # ax.set_position([new_left, pos.y0, new_width, pos.height])\n",
    "\n",
    "# ax.bar(x=xticklabels, height=correlations, color=colors)\n",
    "\n",
    "# # Statistics\n",
    "# bars = ax.containers[0]\n",
    "# ymin, ymax = ax.get_ylim()\n",
    "# yscale = np.abs(ymax - ymin)\n",
    "# y_buffer = 0.03*yscale\n",
    "# bar_x_coords = []\n",
    "# for i, bar in enumerate(bars):\n",
    "#     pvalue = pvalues[i]\n",
    "#     text = convert_pvalue_to_asterisks(pvalue)\n",
    "#     x_bar = bar.get_x() + bar.get_width() / 2\n",
    "#     bar_x_coords.append(bar.get_x())\n",
    "#     ax.annotate(text, xy=(x_bar, ymax + y_buffer), ha='center', va='top',\n",
    "#                 fontsize=FONTSIZE_ASTERISK)\n",
    "\n",
    "# height_stat = ymax + 1*y_buffer\n",
    "# # Loop through each annotation\n",
    "# for (x1_label, x2_label, pvalue) in annotations:\n",
    "#     # Get the indices of the bars from the 'kinds' list\n",
    "#     x1 = kinds.index(x1_label)\n",
    "#     x2 = kinds.index(x2_label)\n",
    "\n",
    "#     # Determine the y position for the line and asterisk\n",
    "#     y_line = height_stat + 1.5*y_buffer  # Add some offset for the line\n",
    "#     y_text = y_line + y_buffer/2  # Add a little more offset for the asterisks\n",
    "\n",
    "#     # Draw the line connecting the two bars\n",
    "#     ax.plot([x1, x1, x2, x2],\n",
    "#             [y_line, y_line + y_buffer/2, y_line + y_buffer/2, y_line],\n",
    "#             color='black')\n",
    "\n",
    "#     # Get the significance text based on the p-value\n",
    "#     text = convert_pvalue_to_asterisks(pvalue, print_ns=True)\n",
    "\n",
    "#     # Place the text above the line\n",
    "#     ax.text((x1 + x2) / 2, y_text, text,\n",
    "#             ha='center', va='bottom', fontsize=FONTSIZE_ASTERISK)\n",
    "#     height_stat += 3.5*y_buffer\n",
    "\n",
    "# # Annotate AICc and BIC values in the center of the bars\n",
    "# aic_values = [aic_rel, aic_abs, aic_per]\n",
    "# bic_values = [bic_rel, bic_abs, bic_per]\n",
    "# for x, (aic, bic) in enumerate(zip(aic_values, bic_values)):\n",
    "#     ax.text(x, .01,\n",
    "#         #     f'AICc: {aic:.0f}\\nBIC:   {bic:.0f}',\n",
    "#             f'AIC: {aic:.0f}\\nBIC: {bic:.0f}',\n",
    "#             ha='center', va='bottom', fontsize=FONTSIZE_M, fontweight='bold',\n",
    "#             color='w')\n",
    "\n",
    "# ax.set_ylabel(r\"Pearson's $r$\")\n",
    "# ax.set_title(f'Linear regression {cfg.COND_DICT['off']} ~ UPDRS-III', fontweight='bold')\n",
    "# # sns.despine()\n",
    "# ax.set_xlabel(None)\n",
    "# # plt.tight_layout()\n",
    "# _save_fig(fig, 'Figure2/ch_dist_sweet/model_comparison.pdf', SAVE_DIR, close=False,\n",
    "#           bbox_inches=None,\n",
    "#             transparent=True)"
   ]
  },
  {
   "cell_type": "code",
   "execution_count": 23,
   "metadata": {},
   "outputs": [
    {
     "name": "stdout",
     "output_type": "stream",
     "text": [
      "Lin. reg. (L$\\beta$) coefficients: [27.57834304 22.25080726]\n",
      "Lin. reg. (L$\\beta$):  n=115: $r=$0.30, p=1e-03, AICc: 913, BIC: 918\n",
      "Lin. reg. ($\\theta$, L$\\beta$, L$\\gamma$) coefficients: [ 26.02837183 -14.11842736  12.92420057 -10.1111396 ]\n",
      "Lin. reg. ($\\theta$, L$\\beta$, L$\\gamma$):  n=115: $r=$0.45, p=1e-04, AICc: 902, BIC: 913\n",
      "Lin. reg. (Offset, L$\\beta$, L$\\gamma$) coefficients: [ 38.2938942   -6.72255132  14.53509242 -45.08853012]\n",
      "Lin. reg. (Offset, L$\\beta$, L$\\gamma$):  n=115: $r=$0.47, p=1e-04, AICc: 900, BIC: 910\n",
      "Absolute (same or more parameters) is better than Normalized at p=0.0008801713560298019\n",
      "Periodic (same or more parameters) is better than Normalized at p=0.00021751041728745868\n",
      "Periodic (same or more parameters) is better than Absolute at p=0.44734198436656003\n"
     ]
    },
    {
     "data": {
      "image/png": "[encoded data removed]",
      "text/plain": [
       "<Figure size 450x200 with 3 Axes>"
      ]
     },
     "metadata": {},
     "output_type": "display_data"
    }
   ],
   "source": [
    "# Plot model comparison\n",
    "y = 'UPDRS_III'\n",
    "kinds = ['normalized', 'absolute', 'periodic']\n",
    "xticklabels = [cfg.PLOT_LABELS[kind] for kind in kinds]\n",
    "colors = [cfg.COLOR_DIC[kind] for kind in kinds]\n",
    "\n",
    "\n",
    "fig, axes = plt.subplots(1, 3, figsize=(4.5, 2), sharey=True)\n",
    "\n",
    "# Normalized\n",
    "df_norm_off_ = df_norm_off[df_norm_off.sub_hemi.isin(df_per_off.sub_hemi.unique())]\n",
    "X = ['beta_low_abs_mean_log']\n",
    "r_linreg_rel, p_linreg_rel, ssr_rel1, dof_rel1, aic_rel, bic_rel = plot_all_ax(axes[0], df_norm_off_, X, y,\n",
    "                                                                               'normalized', ylabel=True)\n",
    "\n",
    "# Absolute\n",
    "X = ['theta_abs_mean_log', 'beta_low_abs_mean_log', 'gamma_low_abs_mean_log']\n",
    "df_abs_off_ = df_abs_off[df_abs_off.sub_hemi.isin(df_per_off.sub_hemi.unique())]\n",
    "r_linreg_abs, p_linreg_abs, ssr_abs3, dof_abs3, aic_abs, bic_abs = plot_all_ax(axes[1], df_abs_off_, X, y, 'absolute')\n",
    "\n",
    "# Periodic\n",
    "X = ['fm_offset_log', 'beta_low_fm_mean_log', 'gamma_low_fm_mean_log']\n",
    "r_linreg_per, p_linreg_per, ssr_per3, dof_per3, aic_per, bic_per = plot_all_ax(axes[2], df_per_off, X, y, 'periodic')\n",
    "\n",
    "# f-test model comparison\n",
    "pval_norm_abs = f_test(ssr_rel1, ssr_abs3, dof_rel1, dof_abs3, model_nme1='Normalized', model_nme2='Absolute')\n",
    "pval_norm_per = f_test(ssr_rel1, ssr_per3, dof_rel1, dof_per3, model_nme1='Normalized', model_nme2='Periodic')\n",
    "pval_abs_per = f_test(ssr_abs3, ssr_per3, dof_abs3, dof_per3, model_nme1='Absolute', model_nme2='Periodic')\n",
    "\n",
    "annotations = [('normalized', 'absolute', pval_norm_abs),\n",
    "                ('absolute', 'periodic', pval_abs_per),\n",
    "                ('normalized', 'periodic', pval_norm_per)]\n",
    "correlations = [r_linreg_rel, r_linreg_abs, r_linreg_per]\n",
    "pvalues = [p_linreg_rel, p_linreg_abs, p_linreg_per]\n",
    "\n",
    "axes[0].set_ylabel('UPDRS-III')\n",
    "yticks = [0, 10, 20, 30, 40, 50, 60, 70]\n",
    "axes[0].set_yticks(yticks, labels=yticks)\n",
    "plt.tight_layout()\n",
    "_save_fig(fig, 'Figure2/ch_dist_sweet/lin_regs.pdf', SAVE_DIR, close=False,\n",
    "          bbox_inches=None, transparent=True)\n",
    "# _save_fig(fig, 'Figure2/ch_dist_sweet/model_comparison.pdf', SAVE_DIR, close=False,\n",
    "#           bbox_inches=None, transparent=True)"
   ]
  },
  {
   "cell_type": "code",
   "execution_count": 24,
   "metadata": {},
   "outputs": [
    {
     "data": {
      "image/png": "[encoded data removed]",
      "text/plain": [
       "<Figure size 200x198.5 with 1 Axes>"
      ]
     },
     "metadata": {},
     "output_type": "display_data"
    }
   ],
   "source": [
    "\n",
    "# Barplot model comparison\n",
    "fig, ax = plt.subplots(1, 1, figsize=(2, 1.985))\n",
    "\n",
    "ax.bar(x=xticklabels, height=correlations, color=colors)\n",
    "\n",
    "# Statistics\n",
    "bars = ax.containers[0]\n",
    "ymin, ymax = ax.get_ylim()\n",
    "yscale = np.abs(ymax - ymin)\n",
    "y_buffer = 0.03*yscale\n",
    "bar_x_coords = []\n",
    "for i, bar in enumerate(bars):\n",
    "    pvalue = pvalues[i]\n",
    "    text = convert_pvalue_to_asterisks(pvalue)\n",
    "    x_bar = bar.get_x() + bar.get_width() / 2\n",
    "    bar_x_coords.append(bar.get_x())\n",
    "    ax.annotate(text, xy=(x_bar, ymax + y_buffer), ha='center', va='top',\n",
    "                fontsize=FONTSIZE_ASTERISK)\n",
    "\n",
    "y_buffer = 0.02*yscale\n",
    "height_stat = ymax + 1*y_buffer\n",
    "# Loop through each annotation\n",
    "for (x1_label, x2_label, pvalue) in annotations:\n",
    "    # Get the indices of the bars from the 'kinds' list\n",
    "    x1 = kinds.index(x1_label)\n",
    "    x2 = kinds.index(x2_label)\n",
    "\n",
    "    # Determine the y position for the line and asterisk\n",
    "    y_line = height_stat + 1.5*y_buffer  # Add some offset for the line\n",
    "    y_text = y_line\n",
    "\n",
    "    # Draw the line connecting the two bars\n",
    "    ax.plot([x1, x1, x2, x2],\n",
    "            [y_line, y_line + y_buffer/2, y_line + y_buffer/2, y_line],\n",
    "            color='black')\n",
    "\n",
    "    # Get the significance text based on the p-value\n",
    "    text = convert_pvalue_to_asterisks(pvalue, print_ns=True)\n",
    "\n",
    "    # Place the text above the line\n",
    "    ax.text((x1 + x2) / 2, y_text, text,\n",
    "            ha='center', va='bottom', fontsize=FONTSIZE_ASTERISK)\n",
    "    height_stat += 3.5*y_buffer\n",
    "\n",
    "# Annotate AICc and BIC values in the center of the bars\n",
    "aic_values = [aic_rel, aic_abs, aic_per]\n",
    "bic_values = [bic_rel, bic_abs, bic_per]\n",
    "for x, (aic, bic) in enumerate(zip(aic_values, bic_values)):\n",
    "    corr = correlations[x]\n",
    "    ax.text(x, .09,\n",
    "        #     f'AIC: {aic:.0f}\\nBIC: {bic:.0f}',\n",
    "            f'r={corr:.2f}', ha='center', va='bottom',\n",
    "            fontsize=5.5, fontweight='bold', color='w')\n",
    "    ax.text(x, .008,\n",
    "        #     f'AIC: {aic:.0f}\\nBIC: {bic:.0f}',\n",
    "            # f'r={corr:.2f}\\n\\nAIC: {aic:.0f}\\nBIC: {bic:.0f}',\n",
    "            f'AIC: {aic:.0f}\\nBIC: {bic:.0f}',\n",
    "            ha='center',\n",
    "            va='bottom', fontsize=FONTSIZE_S,\n",
    "            # fontweight='bold',\n",
    "            color='w')\n",
    "\n",
    "ax.set_ylabel(r\"Pearson's $r$\")\n",
    "ax.set_title(f'Linear regression {cfg.COND_DICT['off']} ~ UPDRS-III',\n",
    "             fontweight='bold', y=1)\n",
    "ax.set_xlabel(r'$\\alpha$ placeholder', alpha=0)\n",
    "plt.tight_layout()\n",
    "_save_fig(fig, 'Figure2/ch_dist_sweet/model_comparison.pdf', SAVE_DIR, close=False,\n",
    "          bbox_inches=None, transparent=True)"
   ]
  },
  {
   "cell_type": "code",
   "execution_count": 25,
   "metadata": {},
   "outputs": [],
   "source": [
    "\n",
    "# # Barplot model comparison\n",
    "# fig, ax = plt.subplots(1, 1, figsize=(2, 1.985))\n",
    "\n",
    "# ax.bar(x=xticklabels, height=correlations, color=colors)\n",
    "\n",
    "# # Statistics\n",
    "# bars = ax.containers[0]\n",
    "# ymin, ymax = ax.get_ylim()\n",
    "# yscale = np.abs(ymax - ymin)\n",
    "# y_buffer = 0.03*yscale\n",
    "# bar_x_coords = []\n",
    "# for i, bar in enumerate(bars):\n",
    "#     pvalue = pvalues[i]\n",
    "#     text = convert_pvalue_to_asterisks(pvalue)\n",
    "#     x_bar = bar.get_x() + bar.get_width() / 2\n",
    "#     bar_x_coords.append(bar.get_x())\n",
    "#     ax.annotate(text, xy=(x_bar, ymax + y_buffer), ha='center', va='top',\n",
    "#                 fontsize=FONTSIZE_ASTERISK)\n",
    "\n",
    "# y_buffer = 0.02*yscale\n",
    "# height_stat = ymax + 1*y_buffer\n",
    "# # Loop through each annotation\n",
    "# for (x1_label, x2_label, pvalue) in annotations:\n",
    "#     # Get the indices of the bars from the 'kinds' list\n",
    "#     x1 = kinds.index(x1_label)\n",
    "#     x2 = kinds.index(x2_label)\n",
    "\n",
    "#     # Determine the y position for the line and asterisk\n",
    "#     y_line = height_stat + 1.5*y_buffer  # Add some offset for the line\n",
    "#     y_text = y_line\n",
    "\n",
    "#     # Draw the line connecting the two bars\n",
    "#     ax.plot([x1, x1, x2, x2],\n",
    "#             [y_line, y_line + y_buffer/2, y_line + y_buffer/2, y_line],\n",
    "#             color='black')\n",
    "\n",
    "#     # Get the significance text based on the p-value\n",
    "#     text = convert_pvalue_to_asterisks(pvalue, print_ns=True)\n",
    "\n",
    "#     # Place the text above the line\n",
    "#     ax.text((x1 + x2) / 2, y_text, text,\n",
    "#             ha='center', va='bottom', fontsize=FONTSIZE_ASTERISK)\n",
    "#     height_stat += 3.5*y_buffer\n",
    "\n",
    "# # Annotate AICc and BIC values in the center of the bars\n",
    "# aic_values = [aic_rel, aic_abs, aic_per]\n",
    "# bic_values = [bic_rel, bic_abs, bic_per]\n",
    "# for x, (aic, bic) in enumerate(zip(aic_values, bic_values)):\n",
    "#     corr = correlations[x]\n",
    "#     ax.text(x, -.14,\n",
    "#             f'AIC: {aic:.0f}\\nBIC: {bic:.0f}',\n",
    "#             # f'r={corr:.2f}\\n\\nAIC: {aic:.0f}\\nBIC: {bic:.0f}',\n",
    "#             ha='center',\n",
    "#             va='bottom', fontsize=FONTSIZE_S, color='k')\n",
    "\n",
    "# ax.set_ylabel(r\"Pearson's $r$\")\n",
    "# ax.set_title(f'Linear regression {cfg.COND_DICT['off']} ~ UPDRS-III',\n",
    "#              fontweight='bold', y=1)\n",
    "# ax.set_xlabel(r'$\\alpha$ placeholder', alpha=0)\n",
    "# plt.tight_layout()\n",
    "# _save_fig(fig, 'Figure2/ch_dist_sweet/model_comparison2.pdf', SAVE_DIR, close=False,\n",
    "#           bbox_inches=None, transparent=True)"
   ]
  },
  {
   "cell_type": "code",
   "execution_count": 26,
   "metadata": {},
   "outputs": [],
   "source": [
    "# def ap_pwr(df, f_low=5, f_high=95):\n",
    "#     # fm limits all projects\n",
    "#     ap_pwr = df.fm_psd_ap_fit_log\n",
    "#     freqs = df.fm_freqs\n",
    "#     mask = (freqs >= f_low) & (freqs <= f_high)\n",
    "#     return ap_pwr[mask].sum()\n",
    "# # df_per = df_abs.dropna(subset=['fm_has_model', 'fm_psd_ap_fit_log'])\n",
    "# df_abs_off['ap_power'] = df_abs_off.apply(ap_pwr, f_low=1, f_high=60, axis=1)\n",
    "\n",
    "# X = ['ap_power', 'beta_low_fm_powers_max_log', 'gamma_low_fm_mean_log']\n",
    "# plot_all(df_abs_off, X, y, 'periodic')"
   ]
  },
  {
   "cell_type": "markdown",
   "metadata": {},
   "source": [
    "Huilings comment: multidimensional features only so nice in large datasets.\n",
    "\n",
    "Result: Works also nice in single dataset."
   ]
  },
  {
   "cell_type": "code",
   "execution_count": 27,
   "metadata": {},
   "outputs": [],
   "source": [
    "# for project in df_abs_off.project.unique():\n",
    "#     X = ['delta_theta_abs_max_log', 'beta_low_abs_max_log', 'gamma_low_abs_max_log']\n",
    "#     plot_all(df_abs_off[df_abs_off.project == project], X, y, 'absolute', save=False)\n",
    "#     X = ['fm_offset_log', 'beta_low_fm_powers_max_log', 'gamma_low_fm_mean_log']\n",
    "#     plot_all(df_abs_off[df_abs_off.project == project], X, y, 'periodic', save=False)"
   ]
  },
  {
   "cell_type": "markdown",
   "metadata": {},
   "source": [
    "### Interesting to keep in mind:"
   ]
  },
  {
   "cell_type": "code",
   "execution_count": 28,
   "metadata": {},
   "outputs": [],
   "source": [
    "# X = ['fm_offset_log', 'beta_low_fm_powers_max_log', 'beta_highgamma_fm_stds_max']  # 25-45 Hz max. bandwidth\n",
    "# plot_all(df_abs, X, y, 'periodic2')"
   ]
  },
  {
   "cell_type": "markdown",
   "metadata": {},
   "source": [
    "# Plot UPDRS stun effect"
   ]
  },
  {
   "cell_type": "code",
   "execution_count": 29,
   "metadata": {},
   "outputs": [
    {
     "name": "stderr",
     "output_type": "stream",
     "text": [
      "/var/folders/1y/49sjn_6j1_sgl474yd2zw6pc0000gn/T/ipykernel_89760/268753191.py:3: PerformanceWarning: DataFrame is highly fragmented.  This is usually the result of calling `frame.insert` many times, which has poor performance.  Consider joining all columns at once using pd.concat(axis=1) instead. To get a de-fragmented frame, use `newframe = frame.copy()`\n",
      "  df_abs[\"UPDRS_III_prepost_diff\"] = df_abs[\"UPDRS_pre_III\"] - df_abs[\"UPDRS_post_III\"]\n",
      "/var/folders/1y/49sjn_6j1_sgl474yd2zw6pc0000gn/T/ipykernel_89760/268753191.py:3: SettingWithCopyWarning: \n",
      "A value is trying to be set on a copy of a slice from a DataFrame.\n",
      "Try using .loc[row_indexer,col_indexer] = value instead\n",
      "\n",
      "See the caveats in the documentation: https://pandas.pydata.org/pandas-docs/stable/user_guide/indexing.html#returning-a-view-versus-a-copy\n",
      "  df_abs[\"UPDRS_III_prepost_diff\"] = df_abs[\"UPDRS_pre_III\"] - df_abs[\"UPDRS_post_III\"]\n"
     ]
    }
   ],
   "source": [
    "df_abs = dataframes['df_abs']\n",
    "df_abs = df_abs[~df_abs.project.isin(['all'])]\n",
    "df_abs[\"UPDRS_III_prepost_diff\"] = df_abs[\"UPDRS_pre_III\"] - df_abs[\"UPDRS_post_III\"]\n",
    "x = 'patient_days_after_implantation'\n",
    "y = 'UPDRS_III_prepost_diff'\n",
    "df_abs = df_abs.dropna(subset=[x, y]).drop_duplicates(subset=['subject', 'cond', 'project'])\n",
    "projects = df_abs.project_nme.unique()"
   ]
  },
  {
   "cell_type": "markdown",
   "metadata": {},
   "source": [
    "### Plot UPDRS post-pre vs days after implantation for Düsseldorf1 and Berlin data"
   ]
  },
  {
   "cell_type": "code",
   "execution_count": 30,
   "metadata": {},
   "outputs": [
    {
     "name": "stderr",
     "output_type": "stream",
     "text": [
      "/Users/moritzgerster/anaconda3/envs/aperiodic/lib/python3.12/site-packages/pingouin/effsize.py:402: ConstantInputWarning: An input array is constant; the correlation coefficient is not defined.\n",
      "  return spearmanr(x, y)[0]\n",
      "/Users/moritzgerster/anaconda3/envs/aperiodic/lib/python3.12/site-packages/pingouin/effsize.py:402: ConstantInputWarning: An input array is constant; the correlation coefficient is not defined.\n",
      "  return spearmanr(x, y)[0]\n",
      "/Users/moritzgerster/anaconda3/envs/aperiodic/lib/python3.12/site-packages/pingouin/effsize.py:402: ConstantInputWarning: An input array is constant; the correlation coefficient is not defined.\n",
      "  return spearmanr(x, y)[0]\n"
     ]
    },
    {
     "data": {
      "image/png": "[encoded data removed]",
      "text/plain": [
       "<Figure size 470x225 with 3 Axes>"
      ]
     },
     "metadata": {},
     "output_type": "display_data"
    }
   ],
   "source": [
    "conds = ['off', 'on', 'offon_abs']\n",
    "corr_method = 'spearman'\n",
    "fig, axes = plt.subplots(1, len(conds), figsize=(4.7, 2.25), sharey=True)\n",
    "\n",
    "for col, cond in enumerate(conds):\n",
    "    ax = axes[col]\n",
    "    ylabel = 'UPDRS-III post-pre' if col == 0 else None\n",
    "    df_plot = df_abs[df_abs.cond.isin([cond])]\n",
    "    plot_corr(ax, df_plot, x, y, hue=\"project\",\n",
    "              corr_method=corr_method, title=cfg.COND_DICT[cond], ci=95,\n",
    "            xlabel='Days after surgery', scatter_kws={'s': 1})\n",
    "    # modify legend entries\n",
    "    weights = []\n",
    "    for project in cfg.PROJECT_NAMES:\n",
    "        if project in df_plot.project_nme.unique():\n",
    "            corr_results = _corr_results(df_plot[df_plot.project_nme == project],\n",
    "                                        x, y, corr_method, None, n_perm=n_perm)\n",
    "            rho, sample_size, label, weight, _ = corr_results\n",
    "            weights.append(weight)\n",
    "    handles, labels = ax.get_legend_handles_labels()\n",
    "    labels = [label.replace('Berlin ', '').replace('Düsseldorf1 ', '') for label in labels]\n",
    "    leg = ax.legend(handles, labels, loc='upper left', bbox_to_anchor=(0, 1))\n",
    "    [t.set_fontweight(w) for t, w in zip(leg.get_texts(), weights)]\n",
    "    ax.set_title(cfg.COND_DICT[cond], fontsize=FONTSIZE_M)\n",
    "    ax.set_ylabel(ylabel)\n",
    "\n",
    "plt.tight_layout()\n",
    "fname = f'stun_effect_UPDRS_vs_days_{'_'.join(conds)}.pdf'\n",
    "save_dir = join(SAVE_DIR, 'Figure1/ch_dist_sweet/')\n",
    "_save_fig(fig, fname, save_dir, bbox_inches=None, close=False, transparent=True)"
   ]
  },
  {
   "cell_type": "markdown",
   "metadata": {},
   "source": [
    "## Pre vs post"
   ]
  },
  {
   "cell_type": "code",
   "execution_count": 31,
   "metadata": {},
   "outputs": [
    {
     "data": {
      "image/png": "[encoded data removed]",
      "text/plain": [
       "<Figure size 470x200 with 4 Axes>"
      ]
     },
     "metadata": {},
     "output_type": "display_data"
    }
   ],
   "source": [
    "# average hemispheres\n",
    "keep = ['subject', 'cond', 'project', 'color']\n",
    "df_plot = df_norm_off.groupby(keep).mean(numeric_only=True).reset_index()\n",
    "\n",
    "# get subjects who have both pre and post scores\n",
    "# subjects_both =\n",
    "# df_plot = df_norm_off[df_norm_off.subject.isin(subjects_both)]\n",
    "y_pre = 'UPDRS_pre_III'\n",
    "y_post = 'UPDRS_post_III'\n",
    "x = 'beta_low_abs_max_log'\n",
    "df_plot = df_plot.dropna(subset=[x, y_pre, y_post])\n",
    "\n",
    "_, _, label_pre, weight, _ = _corr_results(df_plot, x, y_pre, corr_method, None,\n",
    "                             n_perm=n_perm\n",
    "                             )\n",
    "_, _, label_post, weight, _ = _corr_results(df_plot, x, y_post, corr_method, None,\n",
    "                             n_perm=n_perm\n",
    "                             )\n",
    "\n",
    "# df_plot = df_plot.dropna(subset=[x, y_pre, y_post])\n",
    "\n",
    "# fig, axes = plt.subplots(2, 2, figsize=(2.25, 2.15), sharey=\"row\")\n",
    "fig, axes = plt.subplots(1, 4, figsize=(4.7, 2), sharey=\"row\")\n",
    "\n",
    "# ax = axes[0, 0]\n",
    "ax = axes[0]\n",
    "sns.regplot(ax=ax, data=df_plot, y=y_pre, x=x, ci=95, scatter_kws=dict(s=1),\n",
    "            color='k', label=label_pre, marker='.', n_boot=1000)\n",
    "\n",
    "y_title = 0.9\n",
    "ax.text(0.5, 1.1, 'Pre', ha='center', fontsize=FONTSIZE_M,\n",
    "        transform=ax.transAxes, fontweight='bold')\n",
    "ax.set_title(label_pre, weight=weight, y=y_title)\n",
    "# band_nme = x.replace('_abs_max_log', '')\n",
    "# band_nme = cfg.BAND_NAMES_GREEK[band_nme]\n",
    "# ax.set_xlabel(f'Relative {band_nme} Peak [%]')\n",
    "ax.set_xlabel(None)\n",
    "ax.set_ylabel('UPDRS-III off')\n",
    "\n",
    "# ax = axes[0, 1]\n",
    "ax = axes[1]\n",
    "sns.regplot(ax=ax, data=df_plot, y=y_post, x=x, ci=95, scatter_kws=dict(s=1),\n",
    "            color='k', label=label_post, marker='.', n_boot=1000)\n",
    "\n",
    "ax.text(0.5, 1.1, 'Post', ha='center', fontsize=FONTSIZE_M,\n",
    "        transform=ax.transAxes, fontweight='bold')\n",
    "ax.set_title(label_post, weight=weight, y=y_title)\n",
    "# band_nme = x.replace('_abs_max_log', '')\n",
    "# band_nme = cfg.BAND_NAMES_GREEK[band_nme]\n",
    "# ax.set_xlabel(f'Relative {band_nme} Peak [%]')\n",
    "ax.set_xlabel(None)\n",
    "ax.set_ylabel(None)\n",
    "# ax.set_ylabel('UPDRS-III Post-operative off')\n",
    "\n",
    "# plt.tight_layout()\n",
    "# fname = 'norm_beta_low_vs_UPDRS_off_prepost.pdf'\n",
    "# save_dir = join(SAVE_DIR, 'Figure1', 'ch_dist_sweet')\n",
    "# _save_fig(fig, fname, save_dir, bbox_inches=None, close=False, transparent=True)\n",
    "\n",
    "# average hemispheres\n",
    "keep = ['subject', 'cond', 'project', 'color']\n",
    "df_plot = df_norm_offon.groupby(keep).mean(numeric_only=True).reset_index()\n",
    "\n",
    "# get subjects who have both pre and post scores\n",
    "# subjects_both =\n",
    "# df_plot = df_norm_off[df_norm_off.subject.isin(subjects_both)]\n",
    "# y_pre = 'UPDRS_pre_III'\n",
    "# y_post = 'UPDRS_post_III'\n",
    "df_plot = df_plot.dropna(subset=[x, y_pre, y_post])\n",
    "\n",
    "_, _, label_pre, weight, _ = _corr_results(df_plot, x, y_pre, corr_method, None,\n",
    "                             n_perm=n_perm\n",
    "                             )\n",
    "_, _, label_post, weight, _ = _corr_results(df_plot, x, y_post, corr_method, None,\n",
    "                             n_perm=n_perm\n",
    "                             )\n",
    "\n",
    "# df_plot = df_plot.dropna(subset=[x, y_pre, y_post])\n",
    "\n",
    "# fig, axes = plt.subplots(1, 2, figsize=(2.6, 1.3), sharey=True)\n",
    "\n",
    "# ax = axes[1, 0]\n",
    "ax = axes[2]\n",
    "sns.regplot(ax=ax, data=df_plot, y=y_pre, x=x, ci=95, scatter_kws=dict(s=1),\n",
    "            color='k', label=label_pre, marker='.', n_boot=1000)\n",
    "\n",
    "ax.text(0.5, 1.1, 'Pre', ha='center', fontsize=FONTSIZE_M,\n",
    "        transform=ax.transAxes, fontweight='bold')\n",
    "ax.set_title(label_pre, weight=weight, y=y_title)\n",
    "band_nme = x.replace('_abs_max_log', '')\n",
    "band_nme = cfg.BAND_NAMES_GREEK[band_nme]\n",
    "ax.set_xlabel(None)\n",
    "# ax.set_xlabel(f'Relative {band_nme} [%]')\n",
    "# ax.set_ylabel('UPDRS-III Pre-operative off-on')\n",
    "ax.set_ylabel('UPDRS-III off-on')\n",
    "\n",
    "# ax = axes[1, 1]\n",
    "ax = axes[3]\n",
    "sns.regplot(ax=ax, data=df_plot, y=y_post, x=x, ci=95, scatter_kws=dict(s=1),\n",
    "            color='k', label=label_post, marker='.', n_boot=1000)\n",
    "\n",
    "# label_post = 'Post\\n' + label_post\n",
    "# ax.legend()\n",
    "ax.set_title(label_post, weight=weight, y=y_title)\n",
    "ax.text(0.5, 1.1, 'Post', ha='center', fontsize=FONTSIZE_M,\n",
    "        transform=ax.transAxes, fontweight='bold')\n",
    "band_nme = x.replace('_abs_max_log', '')\n",
    "band_nme = cfg.BAND_NAMES_GREEK[band_nme]\n",
    "ax.set_xlabel(None)\n",
    "fig.supxlabel(f'Relative {band_nme} [%]', y=0.04)\n",
    "# ax.set_ylabel('UPDRS-III Post-operative off-on')\n",
    "ax.set_ylabel(None)\n",
    "\n",
    "plt.tight_layout()\n",
    "fname = 'norm_beta_low_vs_UPDRS_offon_off_prepost.pdf'\n",
    "save_dir = join(SAVE_DIR, 'Figure1', 'ch_dist_sweet')\n",
    "_save_fig(fig, fname, save_dir, bbox_inches=None, close=False, transparent=True)"
   ]
  },
  {
   "cell_type": "code",
   "execution_count": null,
   "metadata": {},
   "outputs": [],
   "source": []
  }
 ],
 "metadata": {
  "kernelspec": {
   "display_name": "aperiodic",
   "language": "python",
   "name": "python3"
  },
  "language_info": {
   "codemirror_mode": {
    "name": "ipython",
    "version": 3
   },
   "file_extension": ".py",
   "mimetype": "text/x-python",
   "name": "python",
   "nbconvert_exporter": "python",
   "pygments_lexer": "ipython3",
   "version": "3.12.8"
  },
  "orig_nbformat": 4
 },
 "nbformat": 4,
 "nbformat_minor": 2
}
