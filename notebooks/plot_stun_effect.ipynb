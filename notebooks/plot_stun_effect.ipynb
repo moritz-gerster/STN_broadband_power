{
 "cells": [
  {
   "cell_type": "markdown",
   "metadata": {},
   "source": [
    "# Investigate Stun Effect using datasets with variable implantation date"
   ]
  },
  {
   "cell_type": "code",
   "execution_count": 1,
   "metadata": {},
   "outputs": [],
   "source": [
    "%load_ext autoreload\n",
    "%autoreload 2\n",
    "from analysis_settings import *\n",
    "from plot_settings import *\n",
    "from scripts.utils_plot import plot_corrs, explode_df, _save_fig\n",
    "import pandas as pd\n",
    "import scripts.config as cfg\n",
    "import matplotlib.pyplot as plt\n",
    "import numpy as np\n",
    "import seaborn as sns\n",
    "from scipy.stats import wilcoxon\n",
    "from scripts.utils_plot import convert_pvalue_to_asterisks"
   ]
  },
  {
   "cell_type": "code",
   "execution_count": 2,
   "metadata": {},
   "outputs": [
    {
     "name": "stderr",
     "output_type": "stream",
     "text": [
      "/Users/moritzgerster/Library/CloudStorage/Dropbox/Code/STN_broadband_power/notebooks/analysis_settings.py:55: PerformanceWarning: DataFrame is highly fragmented.  This is usually the result of calling `frame.insert` many times, which has poor performance.  Consider joining all columns at once using pd.concat(axis=1) instead. To get a de-fragmented frame, use `newframe = frame.copy()`\n",
      "  df['sub_hemi_cond'] = df.sub_hemi + '_' + df.cond\n",
      "/Users/moritzgerster/Library/CloudStorage/Dropbox/Code/STN_broadband_power/notebooks/analysis_settings.py:81: PerformanceWarning: DataFrame is highly fragmented.  This is usually the result of calling `frame.insert` many times, which has poor performance.  Consider joining all columns at once using pd.concat(axis=1) instead. To get a de-fragmented frame, use `newframe = frame.copy()`\n",
      "  pivot['UPDRS_exists'] = pivot.UPDRS_bradyrigid_contra.notna()\n",
      "/Users/moritzgerster/Library/CloudStorage/Dropbox/Code/STN_broadband_power/notebooks/analysis_settings.py:82: PerformanceWarning: DataFrame is highly fragmented.  This is usually the result of calling `frame.insert` many times, which has poor performance.  Consider joining all columns at once using pd.concat(axis=1) instead. To get a de-fragmented frame, use `newframe = frame.copy()`\n",
      "  pivot['asymmetric_on'] = pivot.patient_symptom_dominant_side_BR_on.isin(['severe side', 'mild side'])\n",
      "/Users/moritzgerster/Library/CloudStorage/Dropbox/Code/STN_broadband_power/notebooks/analysis_settings.py:83: PerformanceWarning: DataFrame is highly fragmented.  This is usually the result of calling `frame.insert` many times, which has poor performance.  Consider joining all columns at once using pd.concat(axis=1) instead. To get a de-fragmented frame, use `newframe = frame.copy()`\n",
      "  pivot['asymmetric_off'] = pivot.patient_symptom_dominant_side_BR_off.isin(['severe side', 'mild side'])\n",
      "/Users/moritzgerster/Library/CloudStorage/Dropbox/Code/STN_broadband_power/notebooks/analysis_settings.py:84: PerformanceWarning: DataFrame is highly fragmented.  This is usually the result of calling `frame.insert` many times, which has poor performance.  Consider joining all columns at once using pd.concat(axis=1) instead. To get a de-fragmented frame, use `newframe = frame.copy()`\n",
      "  pivot['has_model'] = pivot.fm_exponent.notna()\n"
     ]
    }
   ],
   "source": [
    "dataframes = get_dfs('ch_dist_sweet')\n",
    "df = dataframes['df_abs']\n",
    "df = df[df['project_nme'] != 'all']"
   ]
  },
  {
   "cell_type": "markdown",
   "metadata": {},
   "source": [
    "# Pre post difference"
   ]
  },
  {
   "cell_type": "code",
   "execution_count": 3,
   "metadata": {},
   "outputs": [],
   "source": [
    "def stat_anno(ax, df, x, y, groupby='subject', alternative='two-sided',\n",
    "              y_line=None):\n",
    "    ymin, ymax = ax.get_ylim()\n",
    "    yscale = np.abs(ymax - ymin)\n",
    "    y_buffer = 0.05*yscale\n",
    "\n",
    "    # Draw the line connecting the two bars\n",
    "    x1, x2 = ax.get_xticks()\n",
    "    if y_line is None:\n",
    "        y_line = ymax + y_buffer\n",
    "    ax.plot([x1, x1, x2, x2],\n",
    "                [y_line, y_line + y_buffer/2, y_line + y_buffer/2, y_line],\n",
    "                color='black')\n",
    "\n",
    "    # Get the significance text based on the p-value\n",
    "    vals = df.copy().sort_values([groupby, x]).groupby(groupby)[y]\n",
    "    xy_diff = vals.diff().dropna()\n",
    "    pvalue = wilcoxon(xy_diff, alternative=alternative)[1]\n",
    "    print(pvalue)\n",
    "    text = convert_pvalue_to_asterisks(pvalue, print_ns=True)\n",
    "\n",
    "    # Place the text above the line\n",
    "    y_text = y_line + y_buffer/2  # Add a little more offset for the asterisks\n",
    "    ax.text((x1 + x2) / 2, y_text, text,\n",
    "                ha='center', va='bottom', fontsize=FONTSIZE_ASTERISK)\n",
    "\n",
    "    if y_line is None:\n",
    "        ax.set_ylim([ymin-y_buffer, ymax+4*y_buffer])"
   ]
  },
  {
   "cell_type": "code",
   "execution_count": 4,
   "metadata": {},
   "outputs": [
    {
     "name": "stdout",
     "output_type": "stream",
     "text": [
      "0.0011758804321289062\n",
      "0.019441962242126465\n",
      "0.5661587399431929\n",
      "0.1901561336524058\n",
      "0.000133514404296875\n",
      "0.01168079231908592\n"
     ]
    },
    {
     "data": {
      "image/png": "[encoded data removed]",
      "text/plain": [
       "<Figure size 200x210 with 6 Axes>"
      ]
     },
     "metadata": {},
     "output_type": "display_data"
    }
   ],
   "source": [
    "conds = ['off', 'on', 'offon_abs']\n",
    "\n",
    "fig, axes = plt.subplots(2, len(conds), figsize=(2, 2.1), sharey='col')\n",
    "\n",
    "for col, cond in enumerate(conds):\n",
    "\n",
    "    df_cond = df[df['cond'] == cond]\n",
    "\n",
    "    # Filter to include only subjects with both pre and post scores\n",
    "    df_both = df_cond.drop_duplicates(subset=['subject'])\n",
    "    df_both = df_both[(df_both['UPDRS_pre_III'].notna())\n",
    "                    & (df_both['UPDRS_post_III'].notna())]\n",
    "\n",
    "    # Reshape data to long format for plotting\n",
    "    df_long = pd.melt(df_both,\n",
    "                    id_vars=['project_nme', 'subject'],\n",
    "                    value_vars=['UPDRS_pre_III', 'UPDRS_post_III'],\n",
    "                    var_name='Assessment',\n",
    "                    value_name='UPDRS_III_Score')\n",
    "\n",
    "    # Map assessment names to 'Pre' and 'Post' for easier plotting\n",
    "    rename = {'UPDRS_pre_III': 'Pre', 'UPDRS_post_III': 'Post'}\n",
    "    df_long['Assessment'] = df_long['Assessment'].map(rename)\n",
    "    projects = [proj for proj in cfg.PROJECT_NAMES\n",
    "                if proj in df_long.project_nme.unique()]\n",
    "\n",
    "\n",
    "    # Loop through each project and plot on separate axes\n",
    "    for row, project in enumerate(projects):\n",
    "        ax = axes[row, col]\n",
    "        df_proj = df_long[df_long['project_nme'] == project]\n",
    "\n",
    "        # Plot boxplot for Pre and Post scores\n",
    "        width = 0.5\n",
    "        sns.boxplot(data=df_proj, x='Assessment', y='UPDRS_III_Score',\n",
    "                    ax=ax, color=cfg.COLOR_DIC[project], showfliers=False,\n",
    "                    linewidth=0.2,\n",
    "                    width=width\n",
    "                    )\n",
    "\n",
    "        # Add lines connecting paired pre and post scores for each subject\n",
    "        for sub in df_proj.subject.unique():\n",
    "            df_sub = df_proj[df_proj['subject'] == sub]\n",
    "            # jitter = np.random.uniform(-width/4, width/4, size=len(df_sub))  # Adjust the range for more/less jitter\n",
    "            # x_jittered = np.array([0, 1]) + jitter  # 0 for 'Pre' and 1 for 'Post'\n",
    "\n",
    "            # ax.plot(x_jittered, df_sub['UPDRS_III_Score'], marker='.',\n",
    "            ax.plot([0, 1], df_sub['UPDRS_III_Score'], marker='o',\n",
    "                    markersize=.00005, color='k', lw=0.05)\n",
    "\n",
    "        # Run Wilcoxon signed-rank test and annotate p-value\n",
    "        stat_anno(ax, df_proj, 'Assessment', 'UPDRS_III_Score', y_line=None)\n",
    "\n",
    "        # Customize each axis\n",
    "        ax.set_ylabel(f'UPDRS-III {project}' if col == 0 else '')\n",
    "        ax.set_xlabel(None)\n",
    "        if row == 0:\n",
    "            ax.set_title(f'{cfg.COND_DICT[cond]}', y=1.)\n",
    "            ax.set_xticks([])\n",
    "        else:\n",
    "            ax.set_title(None)\n",
    "        ax.set_xlim(-.5, 1.5)\n",
    "\n",
    "# remove y-axis:\n",
    "# axes[1].get_yaxis().set_ticks([])\n",
    "# axes[1].spines['left'].set_visible(False)\n",
    "\n",
    "# fig.supxlabel('Assessment')\n",
    "plt.tight_layout()\n",
    "save_dir = f'{SAVE_DIR}/Figure1/'\n",
    "_save_fig(fig, f'stun_effect_UPDRS_III_{'_'.join(conds)}.pdf', save_dir, close=False,\n",
    "          bbox_inches=None)\n",
    "plt.show()"
   ]
  }
 ],
 "metadata": {
  "kernelspec": {
   "display_name": "aperiodic",
   "language": "python",
   "name": "python3"
  },
  "language_info": {
   "codemirror_mode": {
    "name": "ipython",
    "version": 3
   },
   "file_extension": ".py",
   "mimetype": "text/x-python",
   "name": "python",
   "nbconvert_exporter": "python",
   "pygments_lexer": "ipython3",
   "version": "3.12.8"
  },
  "orig_nbformat": 4
 },
 "nbformat": 4,
 "nbformat_minor": 2
}
