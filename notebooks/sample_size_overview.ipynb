{
 "cells": [
  {
   "cell_type": "code",
   "execution_count": 1,
   "metadata": {},
   "outputs": [],
   "source": [
    "%load_ext autoreload\n",
    "%autoreload 2\n",
    "from analysis_settings import *\n",
    "from plot_settings import *\n",
    "import numpy as np\n",
    "from scripts.utils_plot import _save_fig"
   ]
  },
  {
   "cell_type": "code",
   "execution_count": 2,
   "metadata": {},
   "outputs": [
    {
     "name": "stderr",
     "output_type": "stream",
     "text": [
      "/Users/moritzgerster/Library/CloudStorage/Dropbox/Code/STN_broadband_power/notebooks/analysis_settings.py:55: PerformanceWarning: DataFrame is highly fragmented.  This is usually the result of calling `frame.insert` many times, which has poor performance.  Consider joining all columns at once using pd.concat(axis=1) instead. To get a de-fragmented frame, use `newframe = frame.copy()`\n",
      "  df['sub_hemi_cond'] = df.sub_hemi + '_' + df.cond\n",
      "/Users/moritzgerster/Library/CloudStorage/Dropbox/Code/STN_broadband_power/notebooks/analysis_settings.py:81: PerformanceWarning: DataFrame is highly fragmented.  This is usually the result of calling `frame.insert` many times, which has poor performance.  Consider joining all columns at once using pd.concat(axis=1) instead. To get a de-fragmented frame, use `newframe = frame.copy()`\n",
      "  pivot['UPDRS_exists'] = pivot.UPDRS_bradyrigid_contra.notna()\n",
      "/Users/moritzgerster/Library/CloudStorage/Dropbox/Code/STN_broadband_power/notebooks/analysis_settings.py:82: PerformanceWarning: DataFrame is highly fragmented.  This is usually the result of calling `frame.insert` many times, which has poor performance.  Consider joining all columns at once using pd.concat(axis=1) instead. To get a de-fragmented frame, use `newframe = frame.copy()`\n",
      "  pivot['asymmetric_on'] = pivot.patient_symptom_dominant_side_BR_on.isin(['severe side', 'mild side'])\n",
      "/Users/moritzgerster/Library/CloudStorage/Dropbox/Code/STN_broadband_power/notebooks/analysis_settings.py:83: PerformanceWarning: DataFrame is highly fragmented.  This is usually the result of calling `frame.insert` many times, which has poor performance.  Consider joining all columns at once using pd.concat(axis=1) instead. To get a de-fragmented frame, use `newframe = frame.copy()`\n",
      "  pivot['asymmetric_off'] = pivot.patient_symptom_dominant_side_BR_off.isin(['severe side', 'mild side'])\n",
      "/Users/moritzgerster/Library/CloudStorage/Dropbox/Code/STN_broadband_power/notebooks/analysis_settings.py:84: PerformanceWarning: DataFrame is highly fragmented.  This is usually the result of calling `frame.insert` many times, which has poor performance.  Consider joining all columns at once using pd.concat(axis=1) instead. To get a de-fragmented frame, use `newframe = frame.copy()`\n",
      "  pivot['has_model'] = pivot.fm_exponent.notna()\n"
     ]
    }
   ],
   "source": [
    "ch_choice = 'ch_dist_sweet'\n",
    "dataframes = get_dfs(ch_choice)\n",
    "df_n = dataframes['df_sample_sizes']\n",
    "df_abs = dataframes['df_abs']\n",
    "df_per = dataframes['df_per']"
   ]
  },
  {
   "cell_type": "code",
   "execution_count": 3,
   "metadata": {},
   "outputs": [
    {
     "name": "stdout",
     "output_type": "stream",
     "text": [
      "All patients: 130\n"
     ]
    }
   ],
   "source": [
    "all_patients = df_n.subject.nunique()\n",
    "print(f'All patients: {all_patients}')"
   ]
  },
  {
   "cell_type": "code",
   "execution_count": 4,
   "metadata": {},
   "outputs": [
    {
     "name": "stdout",
     "output_type": "stream",
     "text": [
      "UPDRS available: 125\n"
     ]
    }
   ],
   "source": [
    "mask = df_n.UPDRS_exists\n",
    "updrs_exists = df_n[df_n.UPDRS_exists].subject.nunique()\n",
    "print(f'UPDRS available: {updrs_exists}')"
   ]
  },
  {
   "cell_type": "markdown",
   "metadata": {},
   "source": [
    "## Off condition"
   ]
  },
  {
   "cell_type": "code",
   "execution_count": 5,
   "metadata": {},
   "outputs": [
    {
     "data": {
      "text/plain": [
       "project_nme\n",
       "Berlin         50\n",
       "Düsseldorf1    27\n",
       "Düsseldorf2    22\n",
       "London         14\n",
       "Oxford         17\n",
       "Name: subject, dtype: int64"
      ]
     },
     "execution_count": 5,
     "metadata": {},
     "output_type": "execute_result"
    }
   ],
   "source": [
    "df_n.groupby('project_nme').subject.nunique()"
   ]
  },
  {
   "cell_type": "code",
   "execution_count": 6,
   "metadata": {},
   "outputs": [
    {
     "name": "stdout",
     "output_type": "stream",
     "text": [
      "Asymmetric symptoms off: 98\n"
     ]
    }
   ],
   "source": [
    "mask_off = mask & df_n.asymmetric_off\n",
    "patient_asym_consistent = df_n[mask_off].subject.nunique()\n",
    "print(f'Asymmetric symptoms off: {patient_asym_consistent}')"
   ]
  },
  {
   "cell_type": "code",
   "execution_count": 7,
   "metadata": {},
   "outputs": [
    {
     "name": "stdout",
     "output_type": "stream",
     "text": [
      "Good data in both hemispheres off: 78\n"
     ]
    }
   ],
   "source": [
    "mask_off &= df_n.both_hemis_off_available & df_n.has_model\n",
    "patient_hemis_both = df_n[mask_off].subject.nunique()\n",
    "print(f'Good data in both hemispheres off: {patient_hemis_both}')"
   ]
  },
  {
   "cell_type": "markdown",
   "metadata": {},
   "source": [
    "## On condition"
   ]
  },
  {
   "cell_type": "code",
   "execution_count": 8,
   "metadata": {},
   "outputs": [
    {
     "name": "stdout",
     "output_type": "stream",
     "text": [
      "Asymmetric symptoms on: 92\n"
     ]
    }
   ],
   "source": [
    "mask_on = mask & df_n.asymmetric_on\n",
    "patient_asym_consistent = df_n[mask_on].subject.nunique()\n",
    "print(f'Asymmetric symptoms on: {patient_asym_consistent}')"
   ]
  },
  {
   "cell_type": "code",
   "execution_count": 9,
   "metadata": {},
   "outputs": [
    {
     "name": "stdout",
     "output_type": "stream",
     "text": [
      "Good data in both hemispheres on: 63\n"
     ]
    }
   ],
   "source": [
    "mask_on &= df_n.both_hemis_on_available & df_n.has_model\n",
    "patient_hemis_both = df_n[mask_on].subject.nunique()\n",
    "print(f'Good data in both hemispheres on: {patient_hemis_both}')"
   ]
  },
  {
   "cell_type": "code",
   "execution_count": 10,
   "metadata": {},
   "outputs": [
    {
     "name": "stdout",
     "output_type": "stream",
     "text": [
      "Asymmetry consistent both off and on condition: 45\n"
     ]
    }
   ],
   "source": [
    "mask_on &= df_n.dominant_side_consistent\n",
    "patient_asym_consistent = df_n[mask_on].subject.nunique()\n",
    "print(f'Asymmetry consistent both off and on condition: {patient_asym_consistent}')"
   ]
  },
  {
   "cell_type": "markdown",
   "metadata": {},
   "source": [
    "## Study distribtution"
   ]
  },
  {
   "cell_type": "code",
   "execution_count": 11,
   "metadata": {},
   "outputs": [],
   "source": [
    "# # Create a new DataFrame for 'original' data\n",
    "# df_n['status'] = 'Original'\n",
    "\n",
    "# # Create a copy for 'off' and 'on' subsets and label them\n",
    "# df_off = df_n[mask_off].copy()\n",
    "# df_off['status'] = 'Off'\n",
    "\n",
    "# df_on = df_n[mask_on].copy()\n",
    "# df_on['status'] = 'On'\n",
    "\n",
    "# # Concatenate the dataframes to have a combined DataFrame with 'status' column\n",
    "# df_combined = pd.concat([df_n, df_off, df_on], ignore_index=True)\n"
   ]
  },
  {
   "cell_type": "code",
   "execution_count": 12,
   "metadata": {},
   "outputs": [],
   "source": [
    "# for multiple in ['layer', 'dodge', 'stack', 'fill']:\n",
    "#     fig, ax = plt.subplots(1, 1, figsize=(8, 4))\n",
    "\n",
    "#     sns.histplot(data=df_combined, x='project_nme', discrete=True, stat=\"count\",\n",
    "#                 hue='status', multiple=multiple, ax=ax,\n",
    "#                 #  palette=cfg.COLOR_DIC\n",
    "#                 )\n",
    "\n",
    "#     ax.set_xlabel(None)\n",
    "#     ax.set_ylabel(r'$n_{\\text{sub}}$')\n",
    "#     ax.legend(title='Status')\n",
    "\n",
    "#     plt.tight_layout()\n",
    "#     save_dir = join(SAVE_DIR, 'Figure5', 'ch_dist_sweet')\n",
    "#     _save_fig(fig, 'patients_sample_size_asymmetric', save_dir, close=False, bbox_inches=None)\n",
    "#     plt.show()\n"
   ]
  },
  {
   "cell_type": "code",
   "execution_count": 13,
   "metadata": {},
   "outputs": [
    {
     "name": "stderr",
     "output_type": "stream",
     "text": [
      "/var/folders/1y/49sjn_6j1_sgl474yd2zw6pc0000gn/T/ipykernel_91692/690316868.py:34: UserWarning: set_ticklabels() should only be used with a fixed number of ticks, i.e. after set_ticks() or using a FixedLocator.\n",
      "  ax.set_xticklabels(cfg.PROJECT_NAMES, rotation=40, ha='right')\n"
     ]
    },
    {
     "data": {
      "image/png": "[encoded data removed]",
      "text/plain": [
       "<Figure size 155x150 with 1 Axes>"
      ]
     },
     "metadata": {},
     "output_type": "display_data"
    }
   ],
   "source": [
    "# sort projects in df_n according to cfg.PROJECT_NAMES\n",
    "df_n['project_nme'] = pd.Categorical(df_n['project_nme'], categories=cfg.PROJECT_NAMES, ordered=True)\n",
    "\n",
    "fig, ax = plt.subplots(1, 1, figsize=(1.55, 1.5), sharey=True)\n",
    "\n",
    "# Full data\n",
    "sns.histplot(data=df_n, x='project_nme', discrete=True, stat=\"count\", ax=ax,\n",
    "             label='Original')\n",
    "\n",
    "# Iterate through each bar and set the color based on the project name\n",
    "for i, patch in enumerate(ax.patches):\n",
    "    project = cfg.PROJECT_NAMES[i]\n",
    "    patch.set_facecolor(cfg.COLOR_DIC[project])\n",
    "    patch.set_alpha(0.2)\n",
    "\n",
    "# Filtered data Off\n",
    "sns.histplot(data=df_n[mask_off], x='project_nme', discrete=True, stat=\"count\",\n",
    "             ax=ax, label=f'Asymmetric {cfg.COND_DICT[\"off\"]}')\n",
    "for i, patch in enumerate(ax.patches[5:]):\n",
    "    project = cfg.PROJECT_NAMES[i]\n",
    "    patch.set_facecolor(cfg.COLOR_DIC[project])\n",
    "    patch.set_alpha(0.4)\n",
    "\n",
    "\n",
    "# Filtered data On\n",
    "sns.histplot(data=df_n[mask_on], x='project_nme', discrete=True, stat=\"count\",\n",
    "             ax=ax, label=f'Asymmetric {cfg.COND_DICT[\"on\"]}')\n",
    "for i, patch in enumerate(ax.patches[10:]):\n",
    "    project = cfg.PROJECT_NAMES[i]\n",
    "    patch.set_facecolor(cfg.COLOR_DIC[project])\n",
    "\n",
    "ax.legend()\n",
    "ax.set_xlabel(None)\n",
    "ax.set_xticklabels(cfg.PROJECT_NAMES, rotation=40, ha='right')\n",
    "ax.tick_params(axis='x', pad=0.5)\n",
    "ax.set_ylabel(r'$n_{\\text{sub}}$')\n",
    "\n",
    "plt.tight_layout()\n",
    "save_dir = join(SAVE_DIR, 'Figure5', 'ch_dist_sweet')\n",
    "_save_fig(fig, 'patients_sample_size_asymmetric', save_dir, close=False, bbox_inches=None)\n",
    "plt.show()\n"
   ]
  },
  {
   "cell_type": "code",
   "execution_count": 14,
   "metadata": {},
   "outputs": [
    {
     "name": "stdout",
     "output_type": "stream",
     "text": [
      "Number of subjects per project: 21.40 ± 9.53\n"
     ]
    }
   ],
   "source": [
    "df = dataframes['df_abs']\n",
    "df = df[(df.project != 'all') & (df.cond == 'offon_abs')]\n",
    "mean = df.groupby('project').subject.nunique().mean()\n",
    "std = df.groupby('project').subject.nunique().std()\n",
    "print(f'Number of subjects per project: {mean:.2f} ± {std:.2f}')"
   ]
  },
  {
   "cell_type": "code",
   "execution_count": 15,
   "metadata": {},
   "outputs": [
    {
     "name": "stdout",
     "output_type": "stream",
     "text": [
      "Number of days after implantation: 2.64 ± 1.76\n"
     ]
    }
   ],
   "source": [
    "mean = np.nanmean(df.groupby('subject').patient_days_after_implantation.unique())[0]\n",
    "std = np.nanstd(df.groupby('subject').patient_days_after_implantation.unique())[0]\n",
    "# mean\n",
    "print(f'Number of days after implantation: {mean:.2f} ± {std:.2f}')"
   ]
  },
  {
   "cell_type": "markdown",
   "metadata": {},
   "source": [
    "## Directional DBS channels"
   ]
  },
  {
   "cell_type": "code",
   "execution_count": 16,
   "metadata": {},
   "outputs": [
    {
     "data": {
      "text/plain": [
       "project     DBS_directional\n",
       "Florin      True               27\n",
       "Hirschmann  False              22\n",
       "Litvak      False              14\n",
       "Neumann     True               49\n",
       "            False               1\n",
       "Tan         True               12\n",
       "            False               5\n",
       "Name: count, dtype: int64"
      ]
     },
     "execution_count": 16,
     "metadata": {},
     "output_type": "execute_result"
    }
   ],
   "source": [
    "df_pat = df_abs.drop_duplicates(subset=['subject'])\n",
    "df_pat.groupby('project').DBS_directional.value_counts()"
   ]
  },
  {
   "cell_type": "code",
   "execution_count": 17,
   "metadata": {},
   "outputs": [
    {
     "data": {
      "text/html": [
       "<div>\n",
       "<style scoped>\n",
       "    .dataframe tbody tr th:only-of-type {\n",
       "        vertical-align: middle;\n",
       "    }\n",
       "\n",
       "    .dataframe tbody tr th {\n",
       "        vertical-align: top;\n",
       "    }\n",
       "\n",
       "    .dataframe thead th {\n",
       "        text-align: right;\n",
       "    }\n",
       "</style>\n",
       "<table border=\"1\" class=\"dataframe\">\n",
       "  <thead>\n",
       "    <tr style=\"text-align: right;\">\n",
       "      <th></th>\n",
       "      <th>subject</th>\n",
       "      <th>ch_nme</th>\n",
       "      <th>cond</th>\n",
       "      <th>title</th>\n",
       "      <th>alpha_abs_max</th>\n",
       "      <th>alpha_abs_max5Hz</th>\n",
       "      <th>alpha_abs_max5Hz_log</th>\n",
       "      <th>alpha_abs_max_3Hz</th>\n",
       "      <th>alpha_abs_max_3Hz_log</th>\n",
       "      <th>alpha_abs_max_7Hz</th>\n",
       "      <th>...</th>\n",
       "      <th>UPDRS_pre_tremor_total</th>\n",
       "      <th>UPDRS_rigidity_contra</th>\n",
       "      <th>UPDRS_rigidity_ipsi</th>\n",
       "      <th>UPDRS_tremor_contra</th>\n",
       "      <th>UPDRS_tremor_ipsi</th>\n",
       "      <th>project_nme</th>\n",
       "      <th>color</th>\n",
       "      <th>subject_nme</th>\n",
       "      <th>sub_hemi</th>\n",
       "      <th>sub_hemi_cond</th>\n",
       "    </tr>\n",
       "  </thead>\n",
       "  <tbody>\n",
       "  </tbody>\n",
       "</table>\n",
       "<p>0 rows × 813 columns</p>\n",
       "</div>"
      ],
      "text/plain": [
       "Empty DataFrame\n",
       "Columns: [subject, ch_nme, cond, title, alpha_abs_max, alpha_abs_max5Hz, alpha_abs_max5Hz_log, alpha_abs_max_3Hz, alpha_abs_max_3Hz_log, alpha_abs_max_7Hz, alpha_abs_max_7Hz_log, alpha_abs_max_freq, alpha_abs_max_log, alpha_abs_mean, alpha_abs_mean_log, alpha_abs_min, alpha_abs_min_log, alpha_beta_abs_max, alpha_beta_abs_max5Hz, alpha_beta_abs_max5Hz_log, alpha_beta_abs_max_3Hz, alpha_beta_abs_max_3Hz_log, alpha_beta_abs_max_7Hz, alpha_beta_abs_max_7Hz_log, alpha_beta_abs_max_freq, alpha_beta_abs_max_log, alpha_beta_abs_mean, alpha_beta_abs_mean_log, alpha_beta_abs_min, alpha_beta_abs_min_log, alpha_beta_fm_aucgauss, alpha_beta_fm_aucgauss_log, alpha_beta_fm_aucgauss_max, alpha_beta_fm_aucgauss_max_log, alpha_beta_fm_aucgauss_sum, alpha_beta_fm_aucgauss_sum_log, alpha_beta_fm_aucpeak, alpha_beta_fm_aucpeak_log, alpha_beta_fm_aucpeak_max, alpha_beta_fm_aucpeak_max_log, alpha_beta_fm_aucpeak_sum, alpha_beta_fm_aucpeak_sum_log, alpha_beta_fm_band_aperiodic_log, alpha_beta_fm_centerfreqs, alpha_beta_fm_centerfreqs_max, alpha_beta_fm_fmax_aperiodic, alpha_beta_fm_gauss_powers, alpha_beta_fm_gauss_powers_log, alpha_beta_fm_gauss_powers_max, alpha_beta_fm_gauss_powers_max_log, alpha_beta_fm_mean, alpha_beta_fm_mean_log, alpha_beta_fm_peak_count, alpha_beta_fm_powers, alpha_beta_fm_powers_log, alpha_beta_fm_powers_max, alpha_beta_fm_powers_max_log, alpha_beta_fm_stds, alpha_beta_fm_stds_max, alpha_beta_fm_sum, alpha_beta_fm_sum_log, alpha_fm_aucgauss, alpha_fm_aucgauss_log, alpha_fm_aucgauss_max, alpha_fm_aucgauss_max_log, alpha_fm_aucgauss_sum, alpha_fm_aucgauss_sum_log, alpha_fm_aucpeak, alpha_fm_aucpeak_log, alpha_fm_aucpeak_max, alpha_fm_aucpeak_max_log, alpha_fm_aucpeak_sum, alpha_fm_aucpeak_sum_log, alpha_fm_band_aperiodic_log, alpha_fm_centerfreqs, alpha_fm_centerfreqs_max, alpha_fm_fmax_aperiodic, alpha_fm_gauss_powers, alpha_fm_gauss_powers_log, alpha_fm_gauss_powers_max, alpha_fm_gauss_powers_max_log, alpha_fm_mean, alpha_fm_mean_log, alpha_fm_peak_count, alpha_fm_powers, alpha_fm_powers_log, alpha_fm_powers_max, alpha_fm_powers_max_log, alpha_fm_stds, alpha_fm_stds_max, alpha_fm_sum, alpha_fm_sum_log, amplifier, asd, asd_max, asd_min, beta_abs_max, beta_abs_max5Hz, beta_abs_max5Hz_log, beta_abs_max_3Hz, ...]\n",
       "Index: []\n",
       "\n",
       "[0 rows x 813 columns]"
      ]
     },
     "execution_count": 17,
     "metadata": {},
     "output_type": "execute_result"
    }
   ],
   "source": [
    "df_pat = df_abs[(df_abs.project == 'Neumann')].drop_duplicates(subset=['subject'])\n",
    "df_pat[df_pat.patient_disease_duration == 40]"
   ]
  },
  {
   "cell_type": "code",
   "execution_count": 18,
   "metadata": {},
   "outputs": [
    {
     "data": {
      "text/plain": [
       "cond  patient_days_after_implantation\n",
       "off   3.0                                12\n",
       "      4.0                                 8\n",
       "      6.0                                 6\n",
       "      5.0                                 5\n",
       "      7.0                                 2\n",
       "on    3.0                                13\n",
       "      2.0                                 5\n",
       "      6.0                                 5\n",
       "      5.0                                 4\n",
       "      4.0                                 2\n",
       "      7.0                                 1\n",
       "Name: count, dtype: int64"
      ]
     },
     "execution_count": 18,
     "metadata": {},
     "output_type": "execute_result"
    }
   ],
   "source": [
    "df_abs[(df_abs.project == 'Neumann') & df_abs.cond.isin(['off', 'on'])].drop_duplicates(subset=['subject', 'cond']).groupby('cond').patient_days_after_implantation.value_counts()"
   ]
  },
  {
   "cell_type": "code",
   "execution_count": 19,
   "metadata": {},
   "outputs": [
    {
     "data": {
      "text/plain": [
       "cond\n",
       "off    4.333333\n",
       "on     3.800000\n",
       "Name: patient_days_after_implantation, dtype: float64"
      ]
     },
     "execution_count": 19,
     "metadata": {},
     "output_type": "execute_result"
    }
   ],
   "source": [
    "df_abs[(df_abs.project == 'Neumann') & df_abs.cond.isin(['off', 'on'])].drop_duplicates(subset=['subject', 'cond']).groupby('cond').patient_days_after_implantation.mean()"
   ]
  },
  {
   "cell_type": "code",
   "execution_count": 20,
   "metadata": {},
   "outputs": [
    {
     "data": {
      "text/plain": [
       "cond\n",
       "off    1.314978\n",
       "on     1.494819\n",
       "Name: patient_days_after_implantation, dtype: float64"
      ]
     },
     "execution_count": 20,
     "metadata": {},
     "output_type": "execute_result"
    }
   ],
   "source": [
    "df_abs[(df_abs.project == 'Neumann') & df_abs.cond.isin(['off', 'on'])].drop_duplicates(subset=['subject', 'cond']).groupby('cond').patient_days_after_implantation.std()"
   ]
  },
  {
   "cell_type": "code",
   "execution_count": 21,
   "metadata": {},
   "outputs": [
    {
     "name": "stdout",
     "output_type": "stream",
     "text": [
      "Differences between recording days (off - on):\n",
      "difference\n",
      " 1.0    9\n",
      " 0.0    5\n",
      "-1.0    3\n",
      " 2.0    2\n",
      " 3.0    2\n",
      "-3.0    1\n",
      " 4.0    1\n",
      "Name: count, dtype: int64\n",
      "3.2857142857142856\n",
      "2.870208222079931\n"
     ]
    },
    {
     "data": {
      "text/plain": [
       "<Axes: >"
      ]
     },
     "execution_count": 21,
     "metadata": {},
     "output_type": "execute_result"
    },
    {
     "data": {
      "image/png": "[encoded data removed]",
      "text/plain": [
       "<Figure size 640x480 with 1 Axes>"
      ]
     },
     "metadata": {},
     "output_type": "display_data"
    }
   ],
   "source": [
    "df_filtered = df_abs[(df_abs.project == 'Neumann') & df_abs.cond.isin(['off', 'on'])].drop_duplicates(subset=['subject', 'cond'])\n",
    "pivoted = df_filtered.pivot(index='subject', columns='cond', values='patient_days_after_implantation')\n",
    "pivoted['difference'] = pivoted['off'] - pivoted['on']\n",
    "# Count the occurrences of each difference\n",
    "difference_counts = pivoted['difference'].value_counts()\n",
    "\n",
    "# Print the result\n",
    "print(\"Differences between recording days (off - on):\")\n",
    "print(difference_counts)\n",
    "print(difference_counts.mean())\n",
    "print(difference_counts.std())\n",
    "difference_counts.hist()\n"
   ]
  },
  {
   "cell_type": "markdown",
   "metadata": {},
   "source": [
    "## Oxford DBS centers"
   ]
  },
  {
   "cell_type": "code",
   "execution_count": 22,
   "metadata": {},
   "outputs": [
    {
     "data": {
      "text/plain": [
       "['patient_age',\n",
       " 'patient_days_after_implantation',\n",
       " 'patient_disease_duration',\n",
       " 'patient_handedness',\n",
       " 'patient_LEDD',\n",
       " 'patient_medication_preop',\n",
       " 'patient_participant_id',\n",
       " 'patient_PD_subtype',\n",
       " 'patient_recording_site',\n",
       " 'patient_sex',\n",
       " 'patient_symptom_dominant_side',\n",
       " 'patient_symptom_dominant_side_BR',\n",
       " 'patient_symptom_dominant_side_BR_off',\n",
       " 'patient_symptom_dominant_side_BR_on']"
      ]
     },
     "execution_count": 22,
     "metadata": {},
     "output_type": "execute_result"
    }
   ],
   "source": [
    "[col for col in df_abs.columns if 'patient' in col]"
   ]
  },
  {
   "cell_type": "code",
   "execution_count": 23,
   "metadata": {},
   "outputs": [
    {
     "data": {
      "text/plain": [
       "patient_recording_site\n",
       "SG    13\n",
       "K      4\n",
       "Name: count, dtype: int64"
      ]
     },
     "execution_count": 23,
     "metadata": {},
     "output_type": "execute_result"
    }
   ],
   "source": [
    "df_abs[df_abs.project == 'Tan'].drop_duplicates(subset='subject').patient_recording_site.value_counts()"
   ]
  },
  {
   "cell_type": "markdown",
   "metadata": {},
   "source": [
    "# Percentage of Oxford subjects for Levodopa modulation - 1/f analysis"
   ]
  },
  {
   "cell_type": "code",
   "execution_count": 24,
   "metadata": {},
   "outputs": [],
   "source": [
    "from scripts.utils_plot import equalize_x_and_y\n",
    "df_per = df_per[df_per.cond.isin(['off', 'on']) & (df_per.project != 'all')]\n",
    "df_per, n_sample = equalize_x_and_y(df_per, 'cond', 'psd')"
   ]
  },
  {
   "cell_type": "code",
   "execution_count": 25,
   "metadata": {},
   "outputs": [
    {
     "name": "stdout",
     "output_type": "stream",
     "text": [
      "Percentage of Oxford STNs in aperiodic Levodopa modulation analysis: 11.73%\n"
     ]
    }
   ],
   "source": [
    "n_oxf = df_per[(df_per.project == 'Tan')].sub_hemi.nunique()\n",
    "n_all = df_per.sub_hemi.nunique()\n",
    "\n",
    "print(f'Percentage of Oxford STNs in aperiodic Levodopa modulation analysis: {n_oxf/n_all*100:.2f}%')"
   ]
  }
 ],
 "metadata": {
  "kernelspec": {
   "display_name": "aperiodic",
   "language": "python",
   "name": "python3"
  },
  "language_info": {
   "codemirror_mode": {
    "name": "ipython",
    "version": 3
   },
   "file_extension": ".py",
   "mimetype": "text/x-python",
   "name": "python",
   "nbconvert_exporter": "python",
   "pygments_lexer": "ipython3",
   "version": "3.12.8"
  }
 },
 "nbformat": 4,
 "nbformat_minor": 2
}
