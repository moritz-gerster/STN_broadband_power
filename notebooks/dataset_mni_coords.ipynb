{
 "cells": [
  {
   "cell_type": "code",
   "execution_count": 1,
   "metadata": {},
   "outputs": [
    {
     "ename": "ModuleNotFoundError",
     "evalue": "No module named 'statannotations'",
     "output_type": "error",
     "traceback": [
      "\u001b[0;31m---------------------------------------------------------------------------\u001b[0m",
      "\u001b[0;31mModuleNotFoundError\u001b[0m                       Traceback (most recent call last)",
      "Cell \u001b[0;32mIn[1], line 9\u001b[0m\n\u001b[1;32m      7\u001b[0m \u001b[38;5;28;01mimport\u001b[39;00m \u001b[38;5;21;01mmatplotlib\u001b[39;00m\u001b[38;5;21;01m.\u001b[39;00m\u001b[38;5;21;01mpyplot\u001b[39;00m \u001b[38;5;28;01mas\u001b[39;00m \u001b[38;5;21;01mplt\u001b[39;00m\n\u001b[1;32m      8\u001b[0m \u001b[38;5;28;01mimport\u001b[39;00m \u001b[38;5;21;01mseaborn\u001b[39;00m \u001b[38;5;28;01mas\u001b[39;00m \u001b[38;5;21;01msns\u001b[39;00m\n\u001b[0;32m----> 9\u001b[0m \u001b[38;5;28;01mfrom\u001b[39;00m \u001b[38;5;21;01mstatannotations\u001b[39;00m\u001b[38;5;21;01m.\u001b[39;00m\u001b[38;5;21;01mAnnotator\u001b[39;00m \u001b[38;5;28;01mimport\u001b[39;00m Annotator\n\u001b[1;32m     10\u001b[0m \u001b[38;5;28;01mfrom\u001b[39;00m \u001b[38;5;21;01mpathlib\u001b[39;00m \u001b[38;5;28;01mimport\u001b[39;00m Path\n\u001b[1;32m     11\u001b[0m \u001b[38;5;28;01mfrom\u001b[39;00m \u001b[38;5;21;01mplot_settings\u001b[39;00m \u001b[38;5;28;01mimport\u001b[39;00m \u001b[38;5;241m*\u001b[39m\n",
      "\u001b[0;31mModuleNotFoundError\u001b[0m: No module named 'statannotations'"
     ]
    }
   ],
   "source": [
    "\"\"\"Offset and UPDRS correlation.\"\"\"\n",
    "%load_ext autoreload\n",
    "%autoreload 2\n",
    "from os.path import join\n",
    "import pandas as pd\n",
    "import scripts.config as cfg\n",
    "import matplotlib.pyplot as plt\n",
    "import seaborn as sns\n",
    "from statannotations.Annotator import Annotator\n",
    "from pathlib import Path\n",
    "from plot_settings import *\n",
    "# from scripts.utils_plot import _save_fig"
   ]
  },
  {
   "cell_type": "code",
   "execution_count": 2,
   "metadata": {},
   "outputs": [],
   "source": [
    "def _save_fig(fig, fig_name, save_dir, close=True, transparent=False,\n",
    "              facecolor=(1,1,1,0), bbox_inches='tight'):\n",
    "    \"\"\"Save figure.\"\"\"\n",
    "    assert not fig_name.endswith(\".png\"), \"You wanna save pdf not png!\"\n",
    "    if not fig_name.endswith(\".pdf\"):\n",
    "        fig_name += \".pdf\"\n",
    "    save_path = join(save_dir, fig_name)\n",
    "    Path(save_path).parent.mkdir(parents=True, exist_ok=True)\n",
    "    fig.savefig(save_path, bbox_inches=bbox_inches, transparent=transparent,\n",
    "                facecolor=facecolor)\n",
    "    if close:\n",
    "        plt.close()"
   ]
  },
  {
   "cell_type": "code",
   "execution_count": 3,
   "metadata": {},
   "outputs": [],
   "source": [
    "save_dir = join('..', '..', cfg.FIG_PAPER, \"Figure1\")"
   ]
  },
  {
   "cell_type": "code",
   "execution_count": 4,
   "metadata": {},
   "outputs": [],
   "source": [
    "# load dataframe with flipped mni coordinates\n",
    "df = pd.read_excel(join('..', '..', cfg.DF_PATH, 'localization_powers.xlsx'))\n",
    "df = df[['subject', 'project', 'ch_nme', 'mni_xr', 'mni_yr', 'mni_zr']]\n",
    "df['project'] = df['project'].map(cfg.PROJECT_DICT)\n",
    "df['ch'] = df['ch_nme'].str.replace('_L_', '_').str.replace('_R_', '_')\n",
    "\n",
    "rename = {'mni_xr': 'mni X', 'mni_yr': 'mni Y', 'mni_zr': 'mni Z'}\n",
    "df.rename(columns=rename, inplace=True)\n",
    "values = rename.values()\n",
    "\n",
    "bip_chs = ['LFP_1-2', 'LFP_2-3', 'LFP_3-4']\n",
    "# bip_chs = ['LFP_1-3', 'LFP_2-4']  # dist channels don't exist in excel sheet\n",
    "df = df[df.ch.isin(bip_chs)]\n",
    "# rename channels\n",
    "rename = {'LFP_1-2': '1-2', 'LFP_2-3': '2-3', 'LFP_3-4': '3-4'}\n",
    "df['ch'] = df['ch'].map({'LFP_1-2': '1-2', 'LFP_2-3': '2-3', 'LFP_3-4': '3-4'})\n",
    "order = [rename[ch] for ch in bip_chs]\n",
    "\n",
    "hue_order = [proj for proj in cfg.PROJECT_NAMES if proj in df.project.unique()]\n",
    "palette = cfg.COLOR_DIC"
   ]
  },
  {
   "cell_type": "code",
   "execution_count": 5,
   "metadata": {},
   "outputs": [
    {
     "data": {
      "image/png": "[encoded data removed]",
      "text/plain": [
       "<Figure size 350x160 with 3 Axes>"
      ]
     },
     "metadata": {},
     "output_type": "display_data"
    }
   ],
   "source": [
    "x = 'ch'\n",
    "# y = 'mni_xr'\n",
    "hue = 'project'\n",
    "\n",
    "pairs=[(('1-2', 'Berlin'), ('1-2', 'London')),\n",
    "       (('1-2', 'Berlin'), ('1-2', 'Düsseldorf1')),\n",
    "       (('1-2', 'London'), ('1-2', 'Düsseldorf1')),\n",
    "       (('2-3', 'Berlin'), ('2-3', 'London')),\n",
    "       (('2-3', 'Berlin'), ('2-3', 'Düsseldorf1')),\n",
    "       (('2-3', 'London'), ('2-3', 'Düsseldorf1')),\n",
    "       (('3-4', 'Berlin'), ('3-4', 'London')),\n",
    "       (('3-4', 'Berlin'), ('3-4', 'Düsseldorf1')),\n",
    "       (('3-4', 'London'), ('3-4', 'Düsseldorf1'))]\n",
    "# pairs=[(('LFP_1-2', 'Berlin'), ('LFP_1-2', 'London')),\n",
    "#        (('LFP_1-2', 'Berlin'), ('LFP_1-2', 'Düsseldorf1')),\n",
    "#        (('LFP_1-2', 'London'), ('LFP_1-2', 'Düsseldorf1')),\n",
    "#        (('LFP_2-3', 'Berlin'), ('LFP_2-3', 'London')),\n",
    "#        (('LFP_2-3', 'Berlin'), ('LFP_2-3', 'Düsseldorf1')),\n",
    "#        (('LFP_2-3', 'London'), ('LFP_2-3', 'Düsseldorf1')),\n",
    "#        (('LFP_3-4', 'Berlin'), ('LFP_3-4', 'London')),\n",
    "#        (('LFP_3-4', 'Berlin'), ('LFP_3-4', 'Düsseldorf1')),\n",
    "#        (('LFP_3-4', 'London'), ('LFP_3-4', 'Düsseldorf1'))]\n",
    "\n",
    "# pairs = [\n",
    "#     (('LFP_1-3', 'Berlin'), ('LFP_1-3', 'London')),\n",
    "#     (('LFP_1-3', 'Berlin'), ('LFP_1-3', 'Düsseldorf1')),\n",
    "#     (('LFP_1-3', 'London'), ('LFP_1-3', 'Düsseldorf1')),\n",
    "#     (('LFP_2-4', 'Berlin'), ('LFP_2-4', 'London')),\n",
    "#     (('LFP_2-4', 'Berlin'), ('LFP_2-4', 'Düsseldorf1')),\n",
    "#     (('LFP_2-4', 'London'), ('LFP_2-4', 'Düsseldorf1'))\n",
    "# ]\n",
    "\n",
    "\n",
    "stat_params = dict(test='Mann-Whitney', text_format='star', loc='outside',\n",
    "                   verbose=False, show_test_name=False, line_width=0.3)\n",
    "params = dict(data=df, x=x, order=order, hue=hue, hue_order=hue_order,\n",
    "              fliersize=0.1, saturation=1, linewidth=0.2)\n",
    "\n",
    "fig, axes = plt.subplots(1, 3, figsize=(3.5, 1.6), sharex=True)\n",
    "\n",
    "for i, y in enumerate(values):\n",
    "    ax = axes[i]\n",
    "    sns.boxplot(ax=ax, palette=palette, y=y, **params)\n",
    "\n",
    "    annotator = Annotator(ax=ax, pairs=pairs, y=y, **params)\n",
    "    annotator.configure(**stat_params)\n",
    "    annotator.apply_and_annotate()\n",
    "    ax.set_xlabel(None)\n",
    "    ax.legend_.remove()\n",
    "# fig.supxlabel('DBS channel')\n",
    "sns.despine(bottom=True)\n",
    "plt.tight_layout()\n",
    "_save_fig(fig, 'dataset_mniCoords', save_dir, close=False, bbox_inches=None)"
   ]
  },
  {
   "cell_type": "code",
   "execution_count": 6,
   "metadata": {},
   "outputs": [],
   "source": [
    "# x = 'project'\n",
    "\n",
    "# pairs=[('Berlin', 'London'),\n",
    "#        ('Berlin', 'Düsseldorf1'),\n",
    "#        ('London', 'Düsseldorf1')]\n",
    "\n",
    "# stat_params = dict(test='Mann-Whitney', text_format='star', loc='outside',\n",
    "#                    verbose=False, show_test_name=False)\n",
    "# params = dict(order=hue_order)\n",
    "\n",
    "# fig, axes = plt.subplots(3, 3, figsize=(5, 7), sharex=True, sharey='col')\n",
    "\n",
    "# for i, ch in enumerate(bip_chs):\n",
    "#     for j, y in enumerate(rename.values()):\n",
    "#         ax = axes[i, j]\n",
    "#         data = df[df.ch == ch]\n",
    "#         sns.boxplot(data=data, ax=ax, palette=palette, y=y, x=x, **params)\n",
    "\n",
    "#         annotator = Annotator(data=data, ax=ax, pairs=pairs, y=y, x=x, **params)\n",
    "#         annotator.configure(**stat_params)\n",
    "#         annotator.apply_and_annotate()\n",
    "#         ylabel = ch if j == 0 else None\n",
    "#         title = y if i == 0 else None\n",
    "#         ax.set_ylabel(ylabel)\n",
    "#         ylim = ax.get_ylim()\n",
    "#         ax.set_title(title, y=1.7)\n",
    "#         ax.set_xlabel(None)\n",
    "#         ax.set_xticks([])\n",
    "#         # ax.tick_params(labelrotation=45, axis='x')\n",
    "# sns.despine(bottom=True)\n",
    "# # plt.subplots_adjust(hspace=0.5, wspace=0.5)\n",
    "# # plt.subplots_adjust(wspace=-1, hspace=.5)\n",
    "# plt.tight_layout()"
   ]
  },
  {
   "cell_type": "code",
   "execution_count": null,
   "metadata": {},
   "outputs": [],
   "source": []
  }
 ],
 "metadata": {
  "kernelspec": {
   "display_name": "aperiodic",
   "language": "python",
   "name": "python3"
  },
  "language_info": {
   "codemirror_mode": {
    "name": "ipython",
    "version": 3
   },
   "file_extension": ".py",
   "mimetype": "text/x-python",
   "name": "python",
   "nbconvert_exporter": "python",
   "pygments_lexer": "ipython3",
   "version": "3.12.8"
  }
 },
 "nbformat": 4,
 "nbformat_minor": 2
}
