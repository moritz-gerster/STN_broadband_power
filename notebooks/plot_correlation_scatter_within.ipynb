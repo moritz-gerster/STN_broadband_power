{
 "cells": [
  {
   "cell_type": "markdown",
   "metadata": {},
   "source": [
    "# Correlate normalized UPDRS and find correlation that needs to beaten"
   ]
  },
  {
   "cell_type": "code",
   "execution_count": 1,
   "metadata": {},
   "outputs": [],
   "source": [
    "%load_ext autoreload\n",
    "%autoreload 2\n",
    "from analysis_settings import *\n",
    "from plot_settings import *\n",
    "from scripts.utils_plot import _save_fig, _corr_results, plot_corrs, plot_corr\n",
    "import pandas as pd\n",
    "import scripts.config as cfg\n",
    "from os.path import join\n",
    "import matplotlib.pyplot as plt\n",
    "import statsmodels.api as sm\n",
    "from sklearn.linear_model import LinearRegression\n",
    "import numpy as np"
   ]
  },
  {
   "cell_type": "code",
   "execution_count": 2,
   "metadata": {},
   "outputs": [],
   "source": [
    "def _rank_df(df, x, y, repeated_m=\"subject\", remove_ties=True):\n",
    "    \"\"\"Convert float values for x and y to rank integers.\n",
    "\n",
    "    Follows rank repeated measures in\n",
    "    Donna L. Mohr & Rebecca A. Marcon (2005) Testing for a  ‘within-subjects’\n",
    "    association in repeated measures data, Journal of Nonparametric Statistics,\n",
    "    17:3, 347-363, DOI: 10.1080/10485250500038694\n",
    "    \"\"\"\n",
    "    df = df.copy()\n",
    "    df = _correct_sample_size(df, x, y, repeated_m=repeated_m)\n",
    "    df = df.dropna(subset=[x, y])\n",
    "    method = 'average'  # 'Tied values are replaced by their mid-ranks.'\n",
    "    df[x + '_rank'] = df.groupby(repeated_m)[x].rank(method)\n",
    "    df[y + '_rank'] = df.groupby(repeated_m)[y].rank(method)\n",
    "\n",
    "    if remove_ties:\n",
    "        # Function to filter out tied ranks\n",
    "        def remove_ties(df, rank_column):\n",
    "            return df[df[rank_column] == df[rank_column].astype(int)]\n",
    "\n",
    "        # Remove ties\n",
    "        df = remove_ties(df, x + '_rank')\n",
    "        df = remove_ties(df, y + '_rank')\n",
    "    return df\n",
    "\n",
    "\n",
    "def _correct_sample_size(df, x, y, repeated_m=\"subject\"):\n",
    "    \"\"\"Remove subjects with less than 2 values for x, y, and hue.\"\"\"\n",
    "    if repeated_m == 'project':\n",
    "        return df\n",
    "    df_copy = df.dropna(subset=[x, y, repeated_m]).copy()\n",
    "\n",
    "    # remove subjects with only one hemisphere\n",
    "    group = [repeated_m]\n",
    "    hemis_subject = df_copy.groupby(group).ch_hemisphere.nunique()\n",
    "    hemi_both = hemis_subject == df_copy.ch_hemisphere.nunique()\n",
    "    df_copy = df_copy.set_index(group)[hemi_both].reset_index()\n",
    "    # assert no subjects with only one hemisphere\n",
    "    enough_subs = (df_copy.groupby(repeated_m).ch_hemisphere.nunique() == 2).all()\n",
    "    if not enough_subs:\n",
    "        return None\n",
    "    # assert (df_copy.groupby(repeated_m).ch_hemisphere.nunique() == 2).all()\n",
    "    # assert (df_copy.groupby(repeated_m).ch_hemisphere.value_counts() == 1).sum()\n",
    "\n",
    "    # filter subjects with less than 2 values for x, y, and hue\n",
    "    df = df[df.subject.isin(df_copy.subject.unique())]\n",
    "    return df"
   ]
  },
  {
   "cell_type": "code",
   "execution_count": 3,
   "metadata": {},
   "outputs": [],
   "source": [
    "# n_perm = None\n",
    "n_perm = 10000"
   ]
  },
  {
   "cell_type": "code",
   "execution_count": 4,
   "metadata": {},
   "outputs": [],
   "source": [
    "figsize_double = (2.3, 1.3)\n",
    "figsize_single = (1.7, 1.34)\n",
    "ylabel = 'Bradykinesia-rigidity'"
   ]
  },
  {
   "cell_type": "code",
   "execution_count": 5,
   "metadata": {},
   "outputs": [],
   "source": [
    "# # cfg.EXEMPLARY_SUBS_APERIODIC = ['FloML007', 'NeuEL010', 'NeuEL019', 'NeuEL027']\n",
    "# cfg.EXEMPLARY_SUBS_APERIODIC = [\n",
    "#     'NeuEL020',# 'NeuEL019', 'NeuEL017', 'NeuEL012', 'NeuEL027','NeuEL026',\n",
    "#     # 'LitML011',\n",
    "#     'FloML007',\n",
    "#     'HirML013', 'HirML021',\n",
    "#     'TanL009'\n",
    "#                         ]\n",
    "# # dark = sns.color_palette(\"dark\")\n",
    "# # best_sub_colors = [dark[0], dark[2], dark[6], dark[8] , 'c']\n",
    "# # best_sub_symbols = ['o', 's', 'd', '>', '*']  # '*', 'P', '+', 'x', 'p'\n",
    "\n",
    "# # best_sub_colors = [dark[0], dark[2], dark[6], dark[8] , 'c']\n"
   ]
  },
  {
   "cell_type": "code",
   "execution_count": 6,
   "metadata": {},
   "outputs": [
    {
     "name": "stderr",
     "output_type": "stream",
     "text": [
      "/Users/moritzgerster/Library/CloudStorage/Dropbox/Code/STN_broadband_power/notebooks/analysis_settings.py:55: PerformanceWarning: DataFrame is highly fragmented.  This is usually the result of calling `frame.insert` many times, which has poor performance.  Consider joining all columns at once using pd.concat(axis=1) instead. To get a de-fragmented frame, use `newframe = frame.copy()`\n",
      "  df['sub_hemi_cond'] = df.sub_hemi + '_' + df.cond\n",
      "/Users/moritzgerster/Library/CloudStorage/Dropbox/Code/STN_broadband_power/notebooks/analysis_settings.py:81: PerformanceWarning: DataFrame is highly fragmented.  This is usually the result of calling `frame.insert` many times, which has poor performance.  Consider joining all columns at once using pd.concat(axis=1) instead. To get a de-fragmented frame, use `newframe = frame.copy()`\n",
      "  pivot['UPDRS_exists'] = pivot.UPDRS_bradyrigid_contra.notna()\n",
      "/Users/moritzgerster/Library/CloudStorage/Dropbox/Code/STN_broadband_power/notebooks/analysis_settings.py:82: PerformanceWarning: DataFrame is highly fragmented.  This is usually the result of calling `frame.insert` many times, which has poor performance.  Consider joining all columns at once using pd.concat(axis=1) instead. To get a de-fragmented frame, use `newframe = frame.copy()`\n",
      "  pivot['asymmetric_on'] = pivot.patient_symptom_dominant_side_BR_on.isin(['severe side', 'mild side'])\n",
      "/Users/moritzgerster/Library/CloudStorage/Dropbox/Code/STN_broadband_power/notebooks/analysis_settings.py:83: PerformanceWarning: DataFrame is highly fragmented.  This is usually the result of calling `frame.insert` many times, which has poor performance.  Consider joining all columns at once using pd.concat(axis=1) instead. To get a de-fragmented frame, use `newframe = frame.copy()`\n",
      "  pivot['asymmetric_off'] = pivot.patient_symptom_dominant_side_BR_off.isin(['severe side', 'mild side'])\n",
      "/Users/moritzgerster/Library/CloudStorage/Dropbox/Code/STN_broadband_power/notebooks/analysis_settings.py:84: PerformanceWarning: DataFrame is highly fragmented.  This is usually the result of calling `frame.insert` many times, which has poor performance.  Consider joining all columns at once using pd.concat(axis=1) instead. To get a de-fragmented frame, use `newframe = frame.copy()`\n",
      "  pivot['has_model'] = pivot.fm_exponent.notna()\n"
     ]
    }
   ],
   "source": [
    "Y = 'UPDRS_bradyrigid_contra'\n",
    "ch_choice = 'ch_dist_sweet'\n",
    "dataframes = get_dfs(ch_choice)\n",
    "# cond = 'on'\n",
    "consistent_str = '_consistent'\n",
    "save_dir = f'{SAVE_DIR}/Figure5/{ch_choice}/'\n",
    "\n",
    "df_norm = dataframes['df_norm']\n",
    "df_abs = dataframes['df_abs']\n",
    "df_per = dataframes['df_per']\n",
    "# df_ince = dataframes['df_normInce']\n",
    "\n",
    "df_norm = df_norm[~df_norm.project.isin(['all'])]\n",
    "df_abs = df_abs[~df_abs.project.isin(['all'])]\n",
    "df_per = df_per[~df_per.project.isin(['all'])]\n",
    "# df_ince = df_ince[~df_ince.project.isin(['all'])]\n",
    "# df_norm = df_norm[~df_norm.project.isin(['all']) & df_norm.asymmetric_subjects]\n",
    "# df_abs = df_abs[~df_abs.project.isin(['all']) & df_abs.asymmetric_subjects]\n",
    "# df_ince = df_ince[~df_ince.project.isin(['all']) & df_ince.asymmetric_subjects]\n",
    "\n",
    "df_norm_off = df_norm[df_norm.cond.isin(['off'])]\n",
    "df_abs_off = df_abs[df_abs.cond.isin(['off'])]\n",
    "df_per_off = df_per[df_per.cond.isin(['off'])]\n",
    "# df_ince_off = df_ince[df_ince.cond.isin(['off'])]\n",
    "\n",
    "# df_norm_on = df_norm[df_norm.cond.isin(['on']) & df_norm.dominant_side_consistent_or_equal]\n",
    "# df_abs_on = df_abs[df_abs.cond.isin(['on']) & df_abs.dominant_side_consistent_or_equal]\n",
    "# df_ince_on = df_ince[df_ince.cond.isin(['on']) & df_ince.dominant_side_consistent_or_equal]\n",
    "\n",
    "df_norm_on = df_norm[df_norm.cond.isin(['on']) & df_norm.dominant_side_consistent]\n",
    "df_abs_on = df_abs[df_abs.cond.isin(['on']) & df_abs.dominant_side_consistent]\n",
    "df_per_on = df_per[df_per.cond.isin(['on']) & df_per.dominant_side_consistent]\n",
    "# df_ince_on = df_ince[df_ince.cond.isin(['on']) & df_ince.dominant_side_consistent]"
   ]
  },
  {
   "cell_type": "markdown",
   "metadata": {},
   "source": [
    "## Periodic Gamma"
   ]
  },
  {
   "cell_type": "code",
   "execution_count": 7,
   "metadata": {},
   "outputs": [
    {
     "name": "stderr",
     "output_type": "stream",
     "text": [
      "100%|██████████| 10000/10000 [00:41<00:00, 240.68it/s]\n"
     ]
    },
    {
     "data": {
      "image/png": "[encoded data removed]",
      "text/plain": [
       "<Figure size 170x134 with 1 Axes>"
      ]
     },
     "metadata": {},
     "output_type": "display_data"
    }
   ],
   "source": [
    "kind = 'periodic'\n",
    "x = 'gamma_fm_mean_log'\n",
    "corr_method = 'withinRank'\n",
    "cond = 'on'\n",
    "fname = f'corr_{corr_method}_{kind}_{cond}_{x}_{Y}{consistent_str}'\n",
    "\n",
    "# leg_kws needs to be passed separately for some reason\n",
    "leg_kws1 = dict(handlelength=0, markerscale=0, frameon=False,\n",
    "                bbox_to_anchor=(-0, 1)\n",
    "                )\n",
    "plot_kwargs = dict(\n",
    "    corr_method=corr_method,\n",
    "    n_perm=n_perm,\n",
    "    xlabel=r'$\\gamma$ power',\n",
    "    ylabel=ylabel,\n",
    "    add_sample_size=True,\n",
    "    subs_special=cfg.EXEMPLARY_SUBS_APERIODIC,\n",
    "    )\n",
    "\n",
    "# figsize_single = (1.7, 1.34)\n",
    "fig, ax = plt.subplots(1, 1, sharey=True, figsize=(1.7, 1.34))\n",
    "plot_corr(ax, df_per_on, x, Y, leg_kws=leg_kws1,\n",
    "          **plot_kwargs)\n",
    "plt.tight_layout()\n",
    "_save_fig(fig, fname, save_dir, close=False, bbox_inches=None, transparent=True)"
   ]
  },
  {
   "cell_type": "markdown",
   "metadata": {},
   "source": [
    "# Absolute"
   ]
  },
  {
   "cell_type": "markdown",
   "metadata": {},
   "source": [
    "## Gamma"
   ]
  },
  {
   "cell_type": "code",
   "execution_count": 8,
   "metadata": {},
   "outputs": [
    {
     "name": "stderr",
     "output_type": "stream",
     "text": [
      "100%|██████████| 10000/10000 [00:46<00:00, 213.16it/s]\n",
      "100%|██████████| 10000/10000 [01:31<00:00, 108.94it/s]\n"
     ]
    },
    {
     "data": {
      "image/png": "[encoded data removed]",
      "text/plain": [
       "<Figure size 230x130 with 2 Axes>"
      ]
     },
     "metadata": {},
     "output_type": "display_data"
    }
   ],
   "source": [
    "kind = 'absolute'\n",
    "corr_method = 'withinRank'\n",
    "x = 'gamma_mid_abs_max5Hz_log'\n",
    "fname = f'corr_{corr_method}_{kind}_off&on_{x}_{Y}{consistent_str}'\n",
    "\n",
    "# leg_kws needs to be passed separately for some reason\n",
    "leg_kws1 = dict(handlelength=0, markerscale=0, frameon=False, bbox_to_anchor=(-.1, 1))\n",
    "leg_kws2 = leg_kws1.copy()\n",
    "leg_kws2['bbox_to_anchor'] = (-.05, 1)\n",
    "\n",
    "plot_kwargs = dict(\n",
    "    corr_method=corr_method,\n",
    "    n_perm=n_perm,\n",
    "    xlabel=cfg.PLOT_LABELS[x],\n",
    "    add_sample_size=False,\n",
    "    subs_special=cfg.EXEMPLARY_SUBS_APERIODIC,\n",
    "    )\n",
    "\n",
    "fig, axes = plt.subplots(1, 2, sharey=True, figsize=figsize_double)\n",
    "plot_corr(axes[0], df_abs_off, x, Y, leg_kws=leg_kws1, ylabel=ylabel,\n",
    "          **plot_kwargs)\n",
    "plot_corr(axes[1], df_abs_on, x, Y, leg_kws=leg_kws2,\n",
    "          **plot_kwargs)\n",
    "axes[1].set_ylabel(None)\n",
    "plt.tight_layout()\n",
    "_save_fig(fig, fname, save_dir, close=False, bbox_inches=None, transparent=True)"
   ]
  },
  {
   "cell_type": "markdown",
   "metadata": {},
   "source": [
    "# Periodic"
   ]
  },
  {
   "cell_type": "markdown",
   "metadata": {},
   "source": [
    "## Aperiodic power"
   ]
  },
  {
   "cell_type": "code",
   "execution_count": 9,
   "metadata": {},
   "outputs": [
    {
     "name": "stderr",
     "output_type": "stream",
     "text": [
      "  0%|          | 0/10000 [00:00<?, ?it/s]"
     ]
    },
    {
     "name": "stderr",
     "output_type": "stream",
     "text": [
      "100%|██████████| 10000/10000 [00:58<00:00, 170.58it/s]\n",
      "100%|██████████| 10000/10000 [00:41<00:00, 242.39it/s]\n"
     ]
    },
    {
     "data": {
      "image/png": "[encoded data removed]",
      "text/plain": [
       "<Figure size 230x130 with 2 Axes>"
      ]
     },
     "metadata": {},
     "output_type": "display_data"
    }
   ],
   "source": [
    "kind = 'periodic'\n",
    "corr_method = 'withinRank'\n",
    "x = 'full_fm_band_aperiodic_log'\n",
    "fname = f'corr_{corr_method}_{kind}_off&on_{x}_{Y}{consistent_str}'\n",
    "\n",
    "# leg_kws needs to be passed separately for some reason\n",
    "leg_kws1 = dict(handlelength=0, markerscale=0, frameon=False, bbox_to_anchor=(-.1, 1))\n",
    "leg_kws2 = leg_kws1.copy()\n",
    "leg_kws2['bbox_to_anchor'] = (-.05, 1)\n",
    "\n",
    "plot_kwargs = dict(\n",
    "    corr_method=corr_method,\n",
    "    n_perm=n_perm,\n",
    "    xlabel='Aperiodic power (1-60 Hz)',\n",
    "    add_sample_size=False,\n",
    "    subs_special=cfg.EXEMPLARY_SUBS_APERIODIC,\n",
    "    )\n",
    "\n",
    "fig, axes = plt.subplots(1, 2, sharey=True, figsize=figsize_double)\n",
    "plot_corr(axes[0], df_per_off, x, Y, leg_kws=leg_kws1, ylabel=ylabel,\n",
    "          **plot_kwargs)\n",
    "plot_corr(axes[1], df_per_on, x, Y, leg_kws=leg_kws2,\n",
    "          **plot_kwargs)\n",
    "axes[1].set_ylabel(None)\n",
    "plt.tight_layout()\n",
    "_save_fig(fig, fname, save_dir, close=False, bbox_inches=None, transparent=True)"
   ]
  },
  {
   "cell_type": "markdown",
   "metadata": {},
   "source": [
    "## Beta within"
   ]
  },
  {
   "cell_type": "code",
   "execution_count": 10,
   "metadata": {},
   "outputs": [
    {
     "name": "stderr",
     "output_type": "stream",
     "text": [
      "100%|██████████| 10000/10000 [00:51<00:00, 193.58it/s]\n",
      "/Users/moritzgerster/Library/CloudStorage/Dropbox/Code/STN_broadband_power/scripts/utils_plot.py:1084: UserWarning: Ignoring `palette` because no `hue` variable has been assigned.\n",
      "  sns.scatterplot(x=x, y=y, data=data[data.subs_special], ax=ax,\n",
      "100%|██████████| 10000/10000 [00:43<00:00, 230.72it/s]\n",
      "/Users/moritzgerster/Library/CloudStorage/Dropbox/Code/STN_broadband_power/scripts/utils_plot.py:1084: UserWarning: Ignoring `palette` because no `hue` variable has been assigned.\n",
      "  sns.scatterplot(x=x, y=y, data=data[data.subs_special], ax=ax,\n"
     ]
    },
    {
     "data": {
      "image/png": "[encoded data removed]",
      "text/plain": [
       "<Figure size 250x150 with 2 Axes>"
      ]
     },
     "metadata": {},
     "output_type": "display_data"
    }
   ],
   "source": [
    "kind = 'normalized'\n",
    "corr_method = 'withinRank'\n",
    "# x = 'beta_low_abs_max_log'\n",
    "x = 'beta_low_abs_mean_log'\n",
    "\n",
    "\n",
    "fname = f'corr_{corr_method}_{kind}_off&on_{x}_{Y}{consistent_str}'\n",
    "\n",
    "# leg_kws needs to be passed separately for some reason\n",
    "leg_kws1 = dict(handlelength=0, markerscale=0, frameon=False, bbox_to_anchor=(-.1, 1))\n",
    "leg_kws2 = leg_kws1.copy()\n",
    "leg_kws2['bbox_to_anchor'] = (-.05, 1)\n",
    "\n",
    "plot_kwargs = dict(\n",
    "    corr_method=corr_method,\n",
    "    n_perm=n_perm,\n",
    "    xlabel=r'Relative Low $\\beta$ power [%]',\n",
    "    add_sample_size=False,\n",
    "    # subs_special=cfg.EXEMPLARY_SUBS_APERIODIC,\n",
    "    )\n",
    "\n",
    "fig, axes = plt.subplots(1, 2, sharey=True, figsize=(2.5, 1.5))\n",
    "plot_corr(axes[0], df_norm_off, x, Y, leg_kws=leg_kws1, ylabel=ylabel,\n",
    "          **plot_kwargs)\n",
    "plot_corr(axes[1], df_norm_on, x, Y, leg_kws=leg_kws2,\n",
    "          **plot_kwargs)\n",
    "axes[1].set_ylabel(None)\n",
    "plt.tight_layout()\n",
    "_save_fig(fig, fname, save_dir, close=False, bbox_inches=None, transparent=True)"
   ]
  },
  {
   "cell_type": "code",
   "execution_count": 11,
   "metadata": {},
   "outputs": [
    {
     "name": "stderr",
     "output_type": "stream",
     "text": [
      "100%|██████████| 10000/10000 [00:52<00:00, 191.00it/s]\n",
      "/Users/moritzgerster/Library/CloudStorage/Dropbox/Code/STN_broadband_power/scripts/utils_plot.py:1084: UserWarning: Ignoring `palette` because no `hue` variable has been assigned.\n",
      "  sns.scatterplot(x=x, y=y, data=data[data.subs_special], ax=ax,\n",
      "100%|██████████| 10000/10000 [00:42<00:00, 238.08it/s]\n",
      "/Users/moritzgerster/Library/CloudStorage/Dropbox/Code/STN_broadband_power/scripts/utils_plot.py:1084: UserWarning: Ignoring `palette` because no `hue` variable has been assigned.\n",
      "  sns.scatterplot(x=x, y=y, data=data[data.subs_special], ax=ax,\n"
     ]
    },
    {
     "data": {
      "image/png": "[encoded data removed]",
      "text/plain": [
       "<Figure size 250x150 with 2 Axes>"
      ]
     },
     "metadata": {},
     "output_type": "display_data"
    }
   ],
   "source": [
    "kind = 'periodic'\n",
    "corr_method = 'withinRank'\n",
    "x = 'beta_low_fm_mean_log'\n",
    "fname = f'corr_{corr_method}_{kind}_off&on_{x}_{Y}{consistent_str}'\n",
    "\n",
    "# leg_kws needs to be passed separately for some reason\n",
    "leg_kws1 = dict(handlelength=0, markerscale=0, frameon=False, bbox_to_anchor=(-.1, 1))\n",
    "leg_kws2 = leg_kws1.copy()\n",
    "leg_kws2['bbox_to_anchor'] = (-.05, 1)\n",
    "\n",
    "plot_kwargs = dict(\n",
    "    corr_method=corr_method,\n",
    "    n_perm=n_perm,\n",
    "    xlabel=r'Periodic Low $\\beta$ power',\n",
    "    add_sample_size=True,\n",
    "    # subs_special=cfg.EXEMPLARY_SUBS_APERIODIC,\n",
    "    )\n",
    "\n",
    "fig, axes = plt.subplots(1, 2, sharey=True, figsize=(2.5, 1.5))\n",
    "plot_corr(axes[0], df_per_off, x, Y, leg_kws=leg_kws1, ylabel=ylabel,\n",
    "          **plot_kwargs)\n",
    "plot_corr(axes[1], df_per_on, x, Y, leg_kws=leg_kws2,\n",
    "          **plot_kwargs)\n",
    "axes[1].set_ylabel(None)\n",
    "plt.tight_layout()\n",
    "_save_fig(fig, fname, save_dir, close=False, bbox_inches=None, transparent=True)"
   ]
  },
  {
   "cell_type": "markdown",
   "metadata": {},
   "source": [
    "# Supplementary Adjacent Channels"
   ]
  },
  {
   "cell_type": "code",
   "execution_count": 12,
   "metadata": {},
   "outputs": [
    {
     "name": "stderr",
     "output_type": "stream",
     "text": [
      "/Users/moritzgerster/Library/CloudStorage/Dropbox/Code/STN_broadband_power/notebooks/analysis_settings.py:55: PerformanceWarning: DataFrame is highly fragmented.  This is usually the result of calling `frame.insert` many times, which has poor performance.  Consider joining all columns at once using pd.concat(axis=1) instead. To get a de-fragmented frame, use `newframe = frame.copy()`\n",
      "  df['sub_hemi_cond'] = df.sub_hemi + '_' + df.cond\n",
      "/Users/moritzgerster/Library/CloudStorage/Dropbox/Code/STN_broadband_power/notebooks/analysis_settings.py:81: PerformanceWarning: DataFrame is highly fragmented.  This is usually the result of calling `frame.insert` many times, which has poor performance.  Consider joining all columns at once using pd.concat(axis=1) instead. To get a de-fragmented frame, use `newframe = frame.copy()`\n",
      "  pivot['UPDRS_exists'] = pivot.UPDRS_bradyrigid_contra.notna()\n",
      "/Users/moritzgerster/Library/CloudStorage/Dropbox/Code/STN_broadband_power/notebooks/analysis_settings.py:82: PerformanceWarning: DataFrame is highly fragmented.  This is usually the result of calling `frame.insert` many times, which has poor performance.  Consider joining all columns at once using pd.concat(axis=1) instead. To get a de-fragmented frame, use `newframe = frame.copy()`\n",
      "  pivot['asymmetric_on'] = pivot.patient_symptom_dominant_side_BR_on.isin(['severe side', 'mild side'])\n",
      "/Users/moritzgerster/Library/CloudStorage/Dropbox/Code/STN_broadband_power/notebooks/analysis_settings.py:83: PerformanceWarning: DataFrame is highly fragmented.  This is usually the result of calling `frame.insert` many times, which has poor performance.  Consider joining all columns at once using pd.concat(axis=1) instead. To get a de-fragmented frame, use `newframe = frame.copy()`\n",
      "  pivot['asymmetric_off'] = pivot.patient_symptom_dominant_side_BR_off.isin(['severe side', 'mild side'])\n",
      "/Users/moritzgerster/Library/CloudStorage/Dropbox/Code/STN_broadband_power/notebooks/analysis_settings.py:84: PerformanceWarning: DataFrame is highly fragmented.  This is usually the result of calling `frame.insert` many times, which has poor performance.  Consider joining all columns at once using pd.concat(axis=1) instead. To get a de-fragmented frame, use `newframe = frame.copy()`\n",
      "  pivot['has_model'] = pivot.fm_exponent.notna()\n"
     ]
    }
   ],
   "source": [
    "Y = 'UPDRS_bradyrigid_contra'\n",
    "ch_choice = 'ch_adj_beta_high_max_off'\n",
    "dataframes = get_dfs(ch_choice, equalize_subjects_norm_abs=True)\n",
    "# cond = 'on'\n",
    "consistent_str = '_consistent'\n",
    "save_dir = f'{SAVE_DIR}/Figure5/{ch_choice}/'\n",
    "\n",
    "# df_norm = dataframes['df_norm']\n",
    "# df_abs = dataframes['df_abs']\n",
    "df_per = dataframes['df_per']\n",
    "# df_ince = dataframes['df_normInce']\n",
    "\n",
    "# df_norm = df_norm[~df_norm.project.isin(['all'])]\n",
    "# df_abs = df_abs[~df_abs.project.isin(['all'])]\n",
    "df_per = df_per[~df_per.project.isin(['all'])]\n",
    "# df_ince = df_ince[~df_ince.project.isin(['all'])]\n",
    "# df_norm = df_norm[~df_norm.project.isin(['all']) & df_norm.asymmetric_subjects]\n",
    "# df_abs = df_abs[~df_abs.project.isin(['all']) & df_abs.asymmetric_subjects]\n",
    "# df_ince = df_ince[~df_ince.project.isin(['all']) & df_ince.asymmetric_subjects]\n",
    "\n",
    "# df_norm_off = df_norm[df_norm.cond.isin(['off'])]\n",
    "# df_abs_off = df_abs[df_abs.cond.isin(['off'])]\n",
    "# df_per_off = df_per[df_per.cond.isin(['off'])]\n",
    "# df_ince_off = df_ince[df_ince.cond.isin(['off'])]\n",
    "\n",
    "# df_norm_on = df_norm[df_norm.cond.isin(['on']) & df_norm.dominant_side_consistent_or_equal]\n",
    "# df_abs_on = df_abs[df_abs.cond.isin(['on']) & df_abs.dominant_side_consistent_or_equal]\n",
    "# df_ince_on = df_ince[df_ince.cond.isin(['on']) & df_ince.dominant_side_consistent_or_equal]\n",
    "\n",
    "# df_norm_on = df_norm[df_norm.cond.isin(['on']) & df_norm.dominant_side_consistent]\n",
    "# df_abs_on = df_abs[df_abs.cond.isin(['on']) & df_abs.dominant_side_consistent]\n",
    "df_per_on = df_per[df_per.cond.isin(['on']) & df_per.dominant_side_consistent]\n",
    "# df_ince_on = df_ince[df_ince.cond.isin(['on']) & df_ince.dominant_side_consistent]"
   ]
  },
  {
   "cell_type": "code",
   "execution_count": 13,
   "metadata": {},
   "outputs": [
    {
     "name": "stderr",
     "output_type": "stream",
     "text": [
      "100%|██████████| 10000/10000 [00:37<00:00, 263.93it/s]\n"
     ]
    },
    {
     "data": {
      "image/png": "[encoded data removed]",
      "text/plain": [
       "<Figure size 155x134 with 1 Axes>"
      ]
     },
     "metadata": {},
     "output_type": "display_data"
    }
   ],
   "source": [
    "kind = 'periodic'\n",
    "x = 'gamma_fm_mean_log'\n",
    "corr_method = 'withinRank'\n",
    "cond = 'on'\n",
    "fname = f'corr_{corr_method}_{kind}_{cond}_{x}_{Y}{consistent_str}'\n",
    "\n",
    "# leg_kws needs to be passed separately for some reason\n",
    "leg_kws1 = dict(handlelength=0, markerscale=0, frameon=False,\n",
    "                bbox_to_anchor=(-.3, 1)\n",
    "                )\n",
    "plot_kwargs = dict(\n",
    "    corr_method=corr_method,\n",
    "    n_perm=n_perm,\n",
    "    xlabel=r'$\\gamma$ power',\n",
    "    ylabel=ylabel,\n",
    "    add_sample_size=True,\n",
    "    subs_special=cfg.EXEMPLARY_SUBS_GAMMA,\n",
    "    )\n",
    "\n",
    "fig, ax = plt.subplots(1, 1, sharey=True, figsize=(1.55, 1.34))\n",
    "plot_corr(ax, df_per_on, x, Y, leg_kws=leg_kws1,\n",
    "          **plot_kwargs)\n",
    "plt.tight_layout()\n",
    "_save_fig(fig, fname, save_dir, close=False, bbox_inches=None, transparent=True)"
   ]
  },
  {
   "cell_type": "code",
   "execution_count": null,
   "metadata": {},
   "outputs": [],
   "source": []
  }
 ],
 "metadata": {
  "kernelspec": {
   "display_name": "aperiodic",
   "language": "python",
   "name": "python3"
  },
  "language_info": {
   "codemirror_mode": {
    "name": "ipython",
    "version": 3
   },
   "file_extension": ".py",
   "mimetype": "text/x-python",
   "name": "python",
   "nbconvert_exporter": "python",
   "pygments_lexer": "ipython3",
   "version": "3.12.8"
  },
  "orig_nbformat": 4
 },
 "nbformat": 4,
 "nbformat_minor": 2
}
