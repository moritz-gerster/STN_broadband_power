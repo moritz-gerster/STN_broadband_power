{
 "cells": [
  {
   "cell_type": "code",
   "execution_count": 1,
   "metadata": {},
   "outputs": [],
   "source": [
    "\"\"\"Offset and UPDRS correlaiton.\"\"\"\n",
    "%load_ext autoreload\n",
    "%autoreload 2\n",
    "from analysis_settings import *\n",
    "from plot_settings import *\n",
    "from scipy.stats import wilcoxon\n",
    "import numpy as np\n",
    "import pingouin as pg\n",
    "from scipy.stats import bootstrap\n",
    "from scripts.utils_plot import _get_cohen_stats, _save_fig, convert_pvalue_to_asterisks, equalize_x_and_y, cohen_d"
   ]
  },
  {
   "cell_type": "code",
   "execution_count": 2,
   "metadata": {},
   "outputs": [
    {
     "name": "stderr",
     "output_type": "stream",
     "text": [
      "/Users/moritzgerster/Library/CloudStorage/Dropbox/Code/STN_broadband_power/notebooks/analysis_settings.py:55: PerformanceWarning: DataFrame is highly fragmented.  This is usually the result of calling `frame.insert` many times, which has poor performance.  Consider joining all columns at once using pd.concat(axis=1) instead. To get a de-fragmented frame, use `newframe = frame.copy()`\n",
      "  df['sub_hemi_cond'] = df.sub_hemi + '_' + df.cond\n",
      "/Users/moritzgerster/Library/CloudStorage/Dropbox/Code/STN_broadband_power/notebooks/analysis_settings.py:81: PerformanceWarning: DataFrame is highly fragmented.  This is usually the result of calling `frame.insert` many times, which has poor performance.  Consider joining all columns at once using pd.concat(axis=1) instead. To get a de-fragmented frame, use `newframe = frame.copy()`\n",
      "  pivot['UPDRS_exists'] = pivot.UPDRS_bradyrigid_contra.notna()\n",
      "/Users/moritzgerster/Library/CloudStorage/Dropbox/Code/STN_broadband_power/notebooks/analysis_settings.py:82: PerformanceWarning: DataFrame is highly fragmented.  This is usually the result of calling `frame.insert` many times, which has poor performance.  Consider joining all columns at once using pd.concat(axis=1) instead. To get a de-fragmented frame, use `newframe = frame.copy()`\n",
      "  pivot['asymmetric_on'] = pivot.patient_symptom_dominant_side_BR_on.isin(['severe side', 'mild side'])\n",
      "/Users/moritzgerster/Library/CloudStorage/Dropbox/Code/STN_broadband_power/notebooks/analysis_settings.py:83: PerformanceWarning: DataFrame is highly fragmented.  This is usually the result of calling `frame.insert` many times, which has poor performance.  Consider joining all columns at once using pd.concat(axis=1) instead. To get a de-fragmented frame, use `newframe = frame.copy()`\n",
      "  pivot['asymmetric_off'] = pivot.patient_symptom_dominant_side_BR_off.isin(['severe side', 'mild side'])\n",
      "/Users/moritzgerster/Library/CloudStorage/Dropbox/Code/STN_broadband_power/notebooks/analysis_settings.py:84: PerformanceWarning: DataFrame is highly fragmented.  This is usually the result of calling `frame.insert` many times, which has poor performance.  Consider joining all columns at once using pd.concat(axis=1) instead. To get a de-fragmented frame, use `newframe = frame.copy()`\n",
      "  pivot['has_model'] = pivot.fm_exponent.notna()\n"
     ]
    }
   ],
   "source": [
    "ch_choice = 'ch_dist_sweet'\n",
    "dataframes = get_dfs(ch_choice)\n",
    "errorbar = ('ci', CI)\n",
    "estimator = 'effect_size'  # median"
   ]
  },
  {
   "cell_type": "code",
   "execution_count": 3,
   "metadata": {},
   "outputs": [],
   "source": [
    "def _cohens_anno(effect_size):\n",
    "    return f\"{effect_size:.2f}\"\n",
    "\n",
    "\n",
    "# def _wilcox_anno(p_value, format='long'):\n",
    "#     if format == 'long':\n",
    "#         if p_value >= 0.05:\n",
    "#             wilcoxon_str = rf'$p={p_value:.3f}$'\n",
    "#         elif p_value >= 0.01:\n",
    "#             wilcoxon_str = r'$\\bf p \\leq 0.05$'  # make bold\n",
    "#         elif p_value >= 0.001:\n",
    "#             wilcoxon_str = r'$\\bf p \\leq 0.01$'  # make bold\n",
    "#         elif p_value >= 0.0001:\n",
    "#             wilcoxon_str = r'$\\bf p \\leq 0.001$'  # make bold\n",
    "#         else:\n",
    "#             wilcoxon_str = rf'$\\bf p={p_value:1.0e}$'\n",
    "\n",
    "#     elif format == 'short':\n",
    "#         # if p_value <= 0.0001:\n",
    "#         #     wilcoxon_str =  \"****\"\n",
    "#         if p_value <= 0.001:\n",
    "#             wilcoxon_str =  \"***\"\n",
    "#         elif p_value <= 0.01:\n",
    "#             wilcoxon_str =  \"**\"\n",
    "#         elif p_value <= 0.05:\n",
    "#             wilcoxon_str =  \"*\"\n",
    "#         else:\n",
    "#             wilcoxon_str =  \"\"\n",
    "#     return wilcoxon_str\n",
    "\n",
    "\n",
    "def band_labels(y_col):\n",
    "    for band in BANDS:\n",
    "        if band in y_col:\n",
    "            band = cfg.BAND_NAMES[band]\n",
    "            return band.replace(' ', '\\n')\n",
    "    # Aperiodic names\n",
    "    band = cfg.PLOT_LABELS[y_col]\n",
    "    return band.replace(' ', '\\n')\n",
    "    # try:\n",
    "    #     band = '_'.join(y_col.replace('_fm', '').split('_')[:-3])\n",
    "    #     band = cfg.BAND_NAMES[band]\n",
    "    # except KeyError:\n",
    "\n",
    "\n",
    "def _stats_annotations(ax, effect_sizes, p_values):\n",
    "    xticks = ax.get_xticks()\n",
    "    _, ymax = ax.get_ylim()\n",
    "    y_wil = ymax * 1.1\n",
    "    y_coh = y_wil + .1\n",
    "    # y_coh = ymax * 1.1\n",
    "    # y_wil = y_coh + .1\n",
    "    xmin = ax.get_xlim()[0]\n",
    "    for i in range(len(effect_sizes)):\n",
    "        effect_size = effect_sizes[i]\n",
    "        p_value = p_values[i]\n",
    "        xtick = xticks[i]\n",
    "        anno_coh = _cohens_anno(effect_size)\n",
    "        # anno_wil = _wilcox_anno(p_value, format='short')\n",
    "        anno_wil = convert_pvalue_to_asterisks(p_value)\n",
    "        ax.text(xtick, y_wil-.035, anno_wil, ha='center',\n",
    "                fontsize=FONTSIZE_ASTERISK, color='grey')\n",
    "        ax.text(xtick, y_coh, anno_coh, ha='center')\n",
    "    ax.text(xmin, y_wil, \"Wilcoxon\", ha='right', color='grey')\n",
    "    ax.text(xmin, y_coh, \"Cohen's d\", ha='right')\n",
    "\n",
    "\n",
    "def _get_stats(df_wil, df_coh, ycols, multiple_comparison=True):\n",
    "    df_wil_all = df_wil[df_wil.project == 'all']\n",
    "    effect_sizes = []\n",
    "    p_values = []\n",
    "    for y in ycols:\n",
    "        effect_size, n_cohen = _get_cohen_stats(df_coh, 'cond', y=y)\n",
    "        effect_sizes.append(effect_size)\n",
    "\n",
    "        xy_diff = df_wil_all[y].dropna().to_numpy()\n",
    "        pvalue = wilcoxon(xy_diff).pvalue\n",
    "\n",
    "        if multiple_comparison:\n",
    "            pvalue /= len(ycols)\n",
    "        p_values.append(pvalue)\n",
    "    return effect_sizes, p_values"
   ]
  },
  {
   "cell_type": "code",
   "execution_count": 4,
   "metadata": {},
   "outputs": [],
   "source": [
    "figsize = (2, 1)\n",
    "show_units = False  # too little space, can be mentioned in legend\n",
    "multiple_comparison = True  # divide pvalue by number of bands\n",
    "\n",
    "projects = cfg.PROJECT_ORDER_SLIM\n",
    "palette = [cfg.COLOR_DIC[proj] for proj in projects]\n",
    "\n",
    "# Set linewidths proportional to sample sizes\n",
    "# sample_sizes = [(df_norm_wil.project == proj).sum() for proj in projects]\n",
    "# factor = min(sample_sizes) / .25  # make sure no lines thinner than 0.25\n",
    "# line_widths = {proj: 1/factor * sample_sizes[i]\n",
    "#                for i, proj in enumerate(projects)}\n",
    "line_widths = {proj: .25 for proj in projects}\n",
    "line_widths['all'] = LINEWIDTH_PLOT"
   ]
  },
  {
   "cell_type": "markdown",
   "metadata": {},
   "source": [
    "## Statistics clarify:\n",
    "- use 95% confidence interval or standard error?\n",
    "    - CI is non-parametric and more realistic, therefore better\n",
    "- plot mean or median in pointplot?\n",
    "    - mean corresponds better to effect size\n",
    "    - median is more outlier robust"
   ]
  },
  {
   "cell_type": "code",
   "execution_count": 5,
   "metadata": {},
   "outputs": [],
   "source": [
    "def band_barplot(df, kind, ycols, save_dir='Figure1', figsize=(.9, 0.9),\n",
    "                 projects=cfg.PROJECT_ORDER_SLIM, n_boot=None,\n",
    "                 xticklabels=None):\n",
    "    names = []\n",
    "    values = []\n",
    "    errors = []\n",
    "    significances = []\n",
    "    project_list = []\n",
    "    for proj in projects:\n",
    "        for ycol in ycols:\n",
    "            names.append(ycol)\n",
    "            project_list.append(proj)\n",
    "            df_proj = df[(df.project == proj)]\n",
    "\n",
    "            # equalize x and y to enhance statistics (paired=True)\n",
    "            df_proj, n = equalize_x_and_y(df_proj, 'cond', ycol)\n",
    "            off_arr = df_proj[df_proj.cond == 'off'][ycol].values\n",
    "            on_arr = df_proj[df_proj.cond == 'on'][ycol].values\n",
    "            if estimator == 'effect_size':\n",
    "                value = cohen_d(off_arr, on_arr)\n",
    "                if np.all(off_arr == 0) or np.all(on_arr == 0):\n",
    "                    # effect size unreasonable if all values are zero\n",
    "                    value = np.nan\n",
    "                data = (off_arr, on_arr)\n",
    "                func = cohen_d\n",
    "            else:\n",
    "                if estimator == 'mean':\n",
    "                    func = np.mean\n",
    "                elif estimator == 'median':\n",
    "                    func = np.median\n",
    "                else:\n",
    "                    raise ValueError('Unknown estimator')\n",
    "                value = func(off_arr - on_arr)\n",
    "                data = (off_arr - on_arr,)\n",
    "            if proj == 'all':\n",
    "                print(f'{estimator} {ycol}: {value:.2f}')\n",
    "            values.append(value)\n",
    "            if n_boot is None:\n",
    "                assert estimator == 'effect_size', 'Only effect size supports parametric'\n",
    "                # parametric (fast but more assumptions)\n",
    "                ci = pg.compute_esci(value, n, paired=True)\n",
    "            else:\n",
    "                # nonparametric (slow but more correct)\n",
    "                result = bootstrap(data, func, n_resamples=n_boot, paired=True,\n",
    "                                random_state=1)\n",
    "                ci = result.confidence_interval\n",
    "                # if distribution is degenerate (many 0 values), apply parametric\n",
    "                if np.any(np.isnan(result.bootstrap_distribution)):\n",
    "                    ci = pg.compute_esci(value, n, paired=True)\n",
    "\n",
    "            # CIs\n",
    "            ci_lower, ci_upper = ci\n",
    "            error = [[abs(value - ci_lower)], [abs(ci_upper - value)]]\n",
    "            errors.append(error)\n",
    "            # make sure that np.nan values are not significant\n",
    "            if value is np.nan:\n",
    "                significant = False\n",
    "            elif ci_lower < 0 and ci_upper < 0 or ci_lower > 0 and ci_upper > 0:\n",
    "                significant = True\n",
    "            else:\n",
    "                significant = False\n",
    "            significances.append(significant)\n",
    "\n",
    "    df_plot = pd.DataFrame({'project': project_list, 'band': names,\n",
    "                            'value': values, 'ci': errors,\n",
    "                            'significant': significances})\n",
    "    capsize = 1 if len(projects) > 1 else 0\n",
    "    fig, ax = plt.subplots(1, 1, figsize=figsize)\n",
    "    # fig, ax = plt.subplots(1, 1, figsize=(.6, 0.6))\n",
    "\n",
    "    ax.axhline(0, color=\"k\", lw=LINEWIDTH_AXES, ls='--')\n",
    "    for i, proj in enumerate(projects):\n",
    "        df_proj = df_plot[df_plot.project == proj]\n",
    "        # Plot CIs\n",
    "        yerr = [item for sublist in df_proj.ci.values for item in sublist]\n",
    "        yerr = np.array(yerr).reshape(len(ycols), 2).T\n",
    "        values = df_proj.value.values\n",
    "\n",
    "        xticks = np.arange(len(ycols))# + 0.03 * i\n",
    "        color = cfg.COLOR_DIC[proj] if len(projects) > 1 else cfg.COLOR_DIC[kind]\n",
    "        sns.barplot(x=xticks, y=values, yerr=yerr, ax=ax, capsize=capsize,\n",
    "                    color=color, errwidth=line_widths[proj], errcolor='k')\n",
    "        # ax.annotate(f'{values[0]:.2f}', xy=(xticks[0], .12), ha='center')\n",
    "        # ax.annotate(f'{values[1]:.2f}', xy=(xticks[1], .12), ha='center')\n",
    "        # ax.bar_label(ax.containers[1], fmt='%.2f',\n",
    "        #              padding=-20)\n",
    "        _, ymax = ax.get_ylim()\n",
    "        for j, sig in enumerate(significances):\n",
    "            if sig:\n",
    "                ax.text(xticks[j], ymax*.95, '*', ha='center',\n",
    "                        fontsize=FONTSIZE_ASTERISK, color='k')\n",
    "\n",
    "    if xticklabels is None:\n",
    "        # labels = [cfg.PLOT_LABELS_SHORT[y_col] for y_col in ycols]\n",
    "        labels = [cfg.PLOT_LABELS[y_col] for y_col in ycols]\n",
    "    else:\n",
    "        labels = xticklabels\n",
    "    ax.set_xticks(xticks, labels=labels)\n",
    "    ax.tick_params(axis='x', length=0)\n",
    "    ylabel = 'Cohen\\'s d'f' {cfg.COND_DICT['off']}-{cfg.COND_DICT['on']}'\n",
    "    ax.set_ylabel(ylabel)\n",
    "    # ax.set_title()\n",
    "    # ax.set_yticks([])\n",
    "    ax.set_xlabel(None)\n",
    "    # sns.despine(bottom=True, left=True)\n",
    "    sns.despine(bottom=True)\n",
    "\n",
    "    # df_cohen = df[df.cond.isin(['on', 'off']) & df.project.isin(['all'])]\n",
    "    # effect_sizes, p_values = _get_stats(df_wilcoxon, df_cohen, ycols,\n",
    "    #                                     multiple_comparison=multiple_comparison)\n",
    "    # _stats_annotations(ax, effect_sizes, p_values)\n",
    "    plt.tight_layout()\n",
    "    # _save_fig(fig, f'{save_dir}/broadband_OFFON_{kind}', SAVE_DIR,\n",
    "    #           transparent=False, facecolor='white',\n",
    "    #           close=False, bbox_inches=None)\n",
    "    plt.show()\n"
   ]
  },
  {
   "cell_type": "markdown",
   "metadata": {},
   "source": [
    "# Aperiodic parameters"
   ]
  },
  {
   "cell_type": "code",
   "execution_count": 11,
   "metadata": {},
   "outputs": [],
   "source": [
    "n_perm = 10000\n",
    "# n_perm = None"
   ]
  },
  {
   "cell_type": "code",
   "execution_count": 14,
   "metadata": {},
   "outputs": [],
   "source": [
    "df_abs = dataframes['df_abs']\n",
    "df_per = dataframes['df_per']"
   ]
  },
  {
   "cell_type": "code",
   "execution_count": 15,
   "metadata": {},
   "outputs": [
    {
     "name": "stdout",
     "output_type": "stream",
     "text": [
      "effect_size fm_exponent: -0.15\n",
      "effect_size fm_offset_log: -0.11\n",
      "effect_size full_fm_band_aperiodic_log: 0.03\n"
     ]
    },
    {
     "name": "stderr",
     "output_type": "stream",
     "text": [
      "/var/folders/1y/49sjn_6j1_sgl474yd2zw6pc0000gn/T/ipykernel_89866/3062596845.py:81: FutureWarning: \n",
      "\n",
      "The `errcolor` parameter is deprecated. And will be removed in v0.15.0. Pass `err_kws={'color': 'k'}` instead.\n",
      "\n",
      "  sns.barplot(x=xticks, y=values, yerr=yerr, ax=ax, capsize=capsize,\n",
      "/var/folders/1y/49sjn_6j1_sgl474yd2zw6pc0000gn/T/ipykernel_89866/3062596845.py:81: FutureWarning: \n",
      "\n",
      "The `errwidth` parameter is deprecated. And will be removed in v0.15.0. Pass `err_kws={'linewidth': 0.5}` instead.\n",
      "\n",
      "  sns.barplot(x=xticks, y=values, yerr=yerr, ax=ax, capsize=capsize,\n"
     ]
    },
    {
     "data": {
      "image/png": "[encoded data removed]",
      "text/plain": [
       "<Figure size 200x150 with 1 Axes>"
      ]
     },
     "metadata": {},
     "output_type": "display_data"
    }
   ],
   "source": [
    "kind = 'periodicAP'\n",
    "ycols = ['fm_exponent', 'fm_offset_log', 'full_fm_band_aperiodic_log']\n",
    "band_barplot(df_per, kind, ycols, save_dir=f'{KIND_DIR[kind]}/{ch_choice}/',\n",
    "             projects=['all'], n_boot=n_perm, figsize=(2, 1.5),\n",
    "             xticklabels=['1/f exponent', 'Offset', 'Aper. power'])\n",
    "# break"
   ]
  },
  {
   "cell_type": "markdown",
   "metadata": {},
   "source": [
    "# Broadband power"
   ]
  },
  {
   "cell_type": "code",
   "execution_count": 16,
   "metadata": {},
   "outputs": [
    {
     "name": "stdout",
     "output_type": "stream",
     "text": [
      "effect_size psd_sum_5to95: -0.05\n"
     ]
    },
    {
     "name": "stderr",
     "output_type": "stream",
     "text": [
      "/var/folders/1y/49sjn_6j1_sgl474yd2zw6pc0000gn/T/ipykernel_89866/3062596845.py:81: FutureWarning: \n",
      "\n",
      "The `errcolor` parameter is deprecated. And will be removed in v0.15.0. Pass `err_kws={'color': 'k'}` instead.\n",
      "\n",
      "  sns.barplot(x=xticks, y=values, yerr=yerr, ax=ax, capsize=capsize,\n",
      "/var/folders/1y/49sjn_6j1_sgl474yd2zw6pc0000gn/T/ipykernel_89866/3062596845.py:81: FutureWarning: \n",
      "\n",
      "The `errwidth` parameter is deprecated. And will be removed in v0.15.0. Pass `err_kws={'linewidth': 0.5}` instead.\n",
      "\n",
      "  sns.barplot(x=xticks, y=values, yerr=yerr, ax=ax, capsize=capsize,\n"
     ]
    },
    {
     "data": {
      "image/png": "[encoded data removed]",
      "text/plain": [
       "<Figure size 150x150 with 1 Axes>"
      ]
     },
     "metadata": {},
     "output_type": "display_data"
    }
   ],
   "source": [
    "kind = 'absolute'\n",
    "ycols = ['psd_sum_5to95']\n",
    "band_barplot(df_abs, kind, ycols, save_dir=f'{KIND_DIR[kind]}/{ch_choice}/',\n",
    "             projects=['all'], n_boot=n_perm, figsize=(1.5, 1.5), xticklabels=['Spectral sum 5-95 Hz'])\n",
    "# break"
   ]
  },
  {
   "cell_type": "code",
   "execution_count": 16,
   "metadata": {},
   "outputs": [
    {
     "ename": "ZeroDivisionError",
     "evalue": "division by zero",
     "output_type": "error",
     "traceback": [
      "\u001b[0;31m---------------------------------------------------------------------------\u001b[0m",
      "\u001b[0;31mZeroDivisionError\u001b[0m                         Traceback (most recent call last)",
      "Cell \u001b[0;32mIn[16], line 1\u001b[0m\n\u001b[0;32m----> 1\u001b[0m \u001b[38;5;241;43m1\u001b[39;49m\u001b[38;5;241;43m/\u001b[39;49m\u001b[38;5;241;43m0\u001b[39;49m\n",
      "\u001b[0;31mZeroDivisionError\u001b[0m: division by zero"
     ]
    }
   ],
   "source": [
    "1/0"
   ]
  },
  {
   "cell_type": "code",
   "execution_count": 73,
   "metadata": {},
   "outputs": [
    {
     "ename": "",
     "evalue": "",
     "output_type": "error",
     "traceback": [
      "\u001b[1;31mnotebook controller is DISPOSED. \n",
      "\u001b[1;31mView Jupyter <a href='command:jupyter.viewOutput'>log</a> for further details."
     ]
    },
    {
     "ename": "",
     "evalue": "",
     "output_type": "error",
     "traceback": [
      "\u001b[1;31mnotebook controller is DISPOSED. \n",
      "\u001b[1;31mView Jupyter <a href='command:jupyter.viewOutput'>log</a> for further details."
     ]
    },
    {
     "ename": "",
     "evalue": "",
     "output_type": "error",
     "traceback": [
      "\u001b[1;31mnotebook controller is DISPOSED. \n",
      "\u001b[1;31mView Jupyter <a href='command:jupyter.viewOutput'>log</a> for further details."
     ]
    },
    {
     "ename": "",
     "evalue": "",
     "output_type": "error",
     "traceback": [
      "\u001b[1;31mnotebook controller is DISPOSED. \n",
      "\u001b[1;31mView Jupyter <a href='command:jupyter.viewOutput'>log</a> for further details."
     ]
    },
    {
     "ename": "",
     "evalue": "",
     "output_type": "error",
     "traceback": [
      "\u001b[1;31mnotebook controller is DISPOSED. \n",
      "\u001b[1;31mView Jupyter <a href='command:jupyter.viewOutput'>log</a> for further details."
     ]
    },
    {
     "ename": "",
     "evalue": "",
     "output_type": "error",
     "traceback": [
      "\u001b[1;31mnotebook controller is DISPOSED. \n",
      "\u001b[1;31mView Jupyter <a href='command:jupyter.viewOutput'>log</a> for further details."
     ]
    }
   ],
   "source": [
    "\n",
    "def band_barplot_severity(df, kind, ycols, save_dir='Figure1',\n",
    "                          cond='off', n_boot=None):\n",
    "    ylabel = 'Pwr. Severe-Mild'\n",
    "    names = []\n",
    "    values = []\n",
    "    errors = []\n",
    "    significances = []\n",
    "    df_cond = df[(df.cond == cond)]\n",
    "    for ycol in ycols:\n",
    "        names.append(ycol)\n",
    "\n",
    "        # equalize x and y to enhance statistics (paired=True)\n",
    "        # df_proj, n = equalize_x_and_y(df_proj, 'cond', ycol)\n",
    "        paired = False\n",
    "        lateralized_updrs = False\n",
    "        sampling = 'hemispheres' if lateralized_updrs else 'patients'\n",
    "        rename = {'mild_half': f'Mild {sampling}',\n",
    "                'severe_half': f'Severe {sampling}'}\n",
    "        hue_order = [f'Severe {sampling}', f'Mild {sampling}']\n",
    "        updrs = 'UPDRS_III'\n",
    "        hue = f'{updrs}_severity_median'\n",
    "        df_cond[hue] = df_cond[hue].astype('category')\n",
    "        df_cond[hue] = df_cond[hue].cat.rename_categories(rename)\n",
    "        df_cond[hue] = df_cond[hue].cat.remove_unused_categories()\n",
    "        df_cond = df_cond[df_cond[hue].isin(hue_order)]\n",
    "        if not lateralized_updrs:\n",
    "            # average hemispheres\n",
    "            group = df_cond.groupby(['subject'])\n",
    "            # df_cond = df_cond.dropna(subset=[x] + y_vals)\n",
    "            # df_cond[x] = group[x].transform(\"mean\")\n",
    "            df_cond[ycol] = group[ycol].transform(\"mean\")\n",
    "            df_cond = df_cond.drop_duplicates(subset=[\"subject\"])\n",
    "            cluster_str = 'across_mean'\n",
    "        else:\n",
    "            cluster_str = 'across'\n",
    "        cluster_conds = df_cond[hue].unique()\n",
    "        assert len(cluster_conds) == 2\n",
    "\n",
    "        df1 = df_cond[df_cond[hue] == cluster_conds[0]]\n",
    "        df2 = df_cond[df_cond[hue] == cluster_conds[1]]\n",
    "        arr1 = df1[ycol].values\n",
    "        arr2 = df2[ycol].values\n",
    "        nx = len(arr1)\n",
    "        ny = len(arr2)\n",
    "\n",
    "        if estimator == 'effect_size':\n",
    "            value = cohen_d(arr1, arr2)\n",
    "            if np.all(arr1 == 0) or np.all(arr2 == 0):\n",
    "                # effect size unreasonable if all values are zero\n",
    "                value = np.nan\n",
    "            data = (arr1, arr2)\n",
    "            func = cohen_d\n",
    "        else:\n",
    "            if estimator == 'mean':\n",
    "                func = np.mean\n",
    "            elif estimator == 'median':\n",
    "                func = np.median\n",
    "            else:\n",
    "                raise ValueError('Unknown estimator')\n",
    "            value = func(arr1 - arr2)\n",
    "            data = (arr1 - arr2,)\n",
    "        print(f'{estimator} {band}: {value:.2f}')\n",
    "        values.append(value)\n",
    "        if n_boot is None:\n",
    "            assert estimator == 'effect_size', 'Only effect size supports parametric'\n",
    "            # parametric (fast but more assumptions)\n",
    "            ci = pg.compute_esci(value, nx, ny, paired=paired)\n",
    "        else:\n",
    "            # nonparametric (slow but more correct)\n",
    "            result = bootstrap(data, func, n_resamples=n_boot, paired=paired,\n",
    "                            random_state=1)\n",
    "            ci = result.confidence_interval\n",
    "            # if distribution is degenerate (many 0 values), apply parametric\n",
    "            if np.any(np.isnan(result.bootstrap_distribution)):\n",
    "                ci = pg.compute_esci(value, n, paired=paired)\n",
    "\n",
    "        # CIs\n",
    "        ci_lower, ci_upper = ci\n",
    "        error = [[abs(value - ci_lower)], [abs(ci_upper - value)]]\n",
    "        errors.append(error)\n",
    "        # make sure that np.nan values are not significant\n",
    "        if value is np.nan:\n",
    "            significant = False\n",
    "        elif ci_lower < 0 and ci_upper < 0 or ci_lower > 0 and ci_upper > 0:\n",
    "            significant = True\n",
    "        else:\n",
    "            significant = False\n",
    "        significances.append(significant)\n",
    "\n",
    "    df_plot = pd.DataFrame({'band': names,\n",
    "                            'value': values, 'ci': errors,\n",
    "                            'significant': significances})\n",
    "    capsize = 1 if len(projects) > 1 else 0\n",
    "    fig, ax = plt.subplots(1, 1, figsize=(1.4, 0.5))\n",
    "\n",
    "    ax.axhline(0, color=\"k\", lw=LINEWIDTH_AXES, ls='--')\n",
    "    # Plot CIs\n",
    "    yerr = [item for sublist in df_plot.ci.values for item in sublist]\n",
    "    # yerr = df_plot.ci.values\n",
    "    yerr = np.array(yerr).reshape(len(ycols), 2).T\n",
    "    values = df_plot.value.values\n",
    "\n",
    "    xticks = np.arange(len(ycols))\n",
    "    color = cfg.COLOR_DIC[kind]\n",
    "    sns.barplot(x=xticks, y=values, yerr=yerr, ax=ax, capsize=capsize,\n",
    "                color=color, errcolor='k')\n",
    "\n",
    "    labels = [cfg.PLOT_LABELS[y_col] for y_col in ycols]\n",
    "    ax.set_xticks(np.arange(len(ycols)), labels=labels)\n",
    "    ax.tick_params(axis='x', length=0)\n",
    "\n",
    "    ylabel = 'Severe vs Mild\\n[Cohen\\'s d]'\n",
    "    ylabel = 'Cohen\\'s d'\n",
    "    ax.set_ylabel(ylabel)\n",
    "    ax.set_xlabel(None)\n",
    "    sns.despine(bottom=True)\n",
    "\n",
    "    # df_cohen = df[df.cond.isin(['on', 'off']) & df.project.isin(['all'])]\n",
    "    # effect_sizes, p_values = _get_stats(df_wilcoxon, df_cohen, ycols,\n",
    "    #                                     multiple_comparison=multiple_comparison)\n",
    "    # _stats_annotations(ax, effect_sizes, p_values)\n",
    "    plt.tight_layout()\n",
    "    # _save_fig(fig, f'{save_dir}/broadband_OFFON_{kind}', SAVE_DIR,\n",
    "    #           close=False, bbox_inches=None)\n",
    "    plt.show()"
   ]
  },
  {
   "cell_type": "code",
   "execution_count": 74,
   "metadata": {},
   "outputs": [
    {
     "name": "stdout",
     "output_type": "stream",
     "text": [
      "effect_size gamma_low: -0.20\n"
     ]
    },
    {
     "name": "stderr",
     "output_type": "stream",
     "text": [
      "/var/folders/1y/49sjn_6j1_sgl474yd2zw6pc0000gn/T/ipykernel_87891/352966883.py:22: SettingWithCopyWarning: \n",
      "A value is trying to be set on a copy of a slice from a DataFrame.\n",
      "Try using .loc[row_indexer,col_indexer] = value instead\n",
      "\n",
      "See the caveats in the documentation: https://pandas.pydata.org/pandas-docs/stable/user_guide/indexing.html#returning-a-view-versus-a-copy\n",
      "  df_cond[hue] = df_cond[hue].astype('category')\n",
      "/var/folders/1y/49sjn_6j1_sgl474yd2zw6pc0000gn/T/ipykernel_87891/352966883.py:23: SettingWithCopyWarning: \n",
      "A value is trying to be set on a copy of a slice from a DataFrame.\n",
      "Try using .loc[row_indexer,col_indexer] = value instead\n",
      "\n",
      "See the caveats in the documentation: https://pandas.pydata.org/pandas-docs/stable/user_guide/indexing.html#returning-a-view-versus-a-copy\n",
      "  df_cond[hue] = df_cond[hue].cat.rename_categories(rename)\n",
      "/var/folders/1y/49sjn_6j1_sgl474yd2zw6pc0000gn/T/ipykernel_87891/352966883.py:24: SettingWithCopyWarning: \n",
      "A value is trying to be set on a copy of a slice from a DataFrame.\n",
      "Try using .loc[row_indexer,col_indexer] = value instead\n",
      "\n",
      "See the caveats in the documentation: https://pandas.pydata.org/pandas-docs/stable/user_guide/indexing.html#returning-a-view-versus-a-copy\n",
      "  df_cond[hue] = df_cond[hue].cat.remove_unused_categories()\n",
      "/var/folders/1y/49sjn_6j1_sgl474yd2zw6pc0000gn/T/ipykernel_87891/352966883.py:105: FutureWarning: \n",
      "\n",
      "The `errcolor` parameter is deprecated. And will be removed in v0.15.0. Pass `err_kws={'color': 'k'}` instead.\n",
      "\n",
      "  sns.barplot(x=xticks, y=values, yerr=yerr, ax=ax, capsize=capsize,\n"
     ]
    },
    {
     "data": {
      "image/png": "[encoded data removed]",
      "text/plain": [
       "<Figure size 140x50 with 1 Axes>"
      ]
     },
     "metadata": {},
     "output_type": "display_data"
    },
    {
     "ename": "",
     "evalue": "",
     "output_type": "error",
     "traceback": [
      "\u001b[1;31mnotebook controller is DISPOSED. \n",
      "\u001b[1;31mView Jupyter <a href='command:jupyter.viewOutput'>log</a> for further details."
     ]
    },
    {
     "ename": "",
     "evalue": "",
     "output_type": "error",
     "traceback": [
      "\u001b[1;31mnotebook controller is DISPOSED. \n",
      "\u001b[1;31mView Jupyter <a href='command:jupyter.viewOutput'>log</a> for further details."
     ]
    },
    {
     "ename": "",
     "evalue": "",
     "output_type": "error",
     "traceback": [
      "\u001b[1;31mnotebook controller is DISPOSED. \n",
      "\u001b[1;31mView Jupyter <a href='command:jupyter.viewOutput'>log</a> for further details."
     ]
    },
    {
     "ename": "",
     "evalue": "",
     "output_type": "error",
     "traceback": [
      "\u001b[1;31mnotebook controller is DISPOSED. \n",
      "\u001b[1;31mView Jupyter <a href='command:jupyter.viewOutput'>log</a> for further details."
     ]
    },
    {
     "ename": "",
     "evalue": "",
     "output_type": "error",
     "traceback": [
      "\u001b[1;31mnotebook controller is DISPOSED. \n",
      "\u001b[1;31mView Jupyter <a href='command:jupyter.viewOutput'>log</a> for further details."
     ]
    },
    {
     "ename": "",
     "evalue": "",
     "output_type": "error",
     "traceback": [
      "\u001b[1;31mnotebook controller is DISPOSED. \n",
      "\u001b[1;31mView Jupyter <a href='command:jupyter.viewOutput'>log</a> for further details."
     ]
    }
   ],
   "source": [
    "kind = 'absolute'\n",
    "ycols = ['psd_sum_5to95']\n",
    "band_barplot_severity(df_abs, kind, ycols)"
   ]
  },
  {
   "cell_type": "code",
   "execution_count": 76,
   "metadata": {},
   "outputs": [
    {
     "name": "stdout",
     "output_type": "stream",
     "text": [
      "effect_size gamma_low: -0.17\n",
      "effect_size gamma_low: -0.11\n",
      "effect_size gamma_low: 0.05\n"
     ]
    },
    {
     "name": "stderr",
     "output_type": "stream",
     "text": [
      "/var/folders/1y/49sjn_6j1_sgl474yd2zw6pc0000gn/T/ipykernel_87891/352966883.py:22: SettingWithCopyWarning: \n",
      "A value is trying to be set on a copy of a slice from a DataFrame.\n",
      "Try using .loc[row_indexer,col_indexer] = value instead\n",
      "\n",
      "See the caveats in the documentation: https://pandas.pydata.org/pandas-docs/stable/user_guide/indexing.html#returning-a-view-versus-a-copy\n",
      "  df_cond[hue] = df_cond[hue].astype('category')\n",
      "/var/folders/1y/49sjn_6j1_sgl474yd2zw6pc0000gn/T/ipykernel_87891/352966883.py:23: SettingWithCopyWarning: \n",
      "A value is trying to be set on a copy of a slice from a DataFrame.\n",
      "Try using .loc[row_indexer,col_indexer] = value instead\n",
      "\n",
      "See the caveats in the documentation: https://pandas.pydata.org/pandas-docs/stable/user_guide/indexing.html#returning-a-view-versus-a-copy\n",
      "  df_cond[hue] = df_cond[hue].cat.rename_categories(rename)\n",
      "/var/folders/1y/49sjn_6j1_sgl474yd2zw6pc0000gn/T/ipykernel_87891/352966883.py:24: SettingWithCopyWarning: \n",
      "A value is trying to be set on a copy of a slice from a DataFrame.\n",
      "Try using .loc[row_indexer,col_indexer] = value instead\n",
      "\n",
      "See the caveats in the documentation: https://pandas.pydata.org/pandas-docs/stable/user_guide/indexing.html#returning-a-view-versus-a-copy\n",
      "  df_cond[hue] = df_cond[hue].cat.remove_unused_categories()\n",
      "/var/folders/1y/49sjn_6j1_sgl474yd2zw6pc0000gn/T/ipykernel_87891/352966883.py:22: SettingWithCopyWarning: \n",
      "A value is trying to be set on a copy of a slice from a DataFrame.\n",
      "Try using .loc[row_indexer,col_indexer] = value instead\n",
      "\n",
      "See the caveats in the documentation: https://pandas.pydata.org/pandas-docs/stable/user_guide/indexing.html#returning-a-view-versus-a-copy\n",
      "  df_cond[hue] = df_cond[hue].astype('category')\n",
      "/var/folders/1y/49sjn_6j1_sgl474yd2zw6pc0000gn/T/ipykernel_87891/352966883.py:23: SettingWithCopyWarning: \n",
      "A value is trying to be set on a copy of a slice from a DataFrame.\n",
      "Try using .loc[row_indexer,col_indexer] = value instead\n",
      "\n",
      "See the caveats in the documentation: https://pandas.pydata.org/pandas-docs/stable/user_guide/indexing.html#returning-a-view-versus-a-copy\n",
      "  df_cond[hue] = df_cond[hue].cat.rename_categories(rename)\n",
      "/var/folders/1y/49sjn_6j1_sgl474yd2zw6pc0000gn/T/ipykernel_87891/352966883.py:24: SettingWithCopyWarning: \n",
      "A value is trying to be set on a copy of a slice from a DataFrame.\n",
      "Try using .loc[row_indexer,col_indexer] = value instead\n",
      "\n",
      "See the caveats in the documentation: https://pandas.pydata.org/pandas-docs/stable/user_guide/indexing.html#returning-a-view-versus-a-copy\n",
      "  df_cond[hue] = df_cond[hue].cat.remove_unused_categories()\n",
      "/var/folders/1y/49sjn_6j1_sgl474yd2zw6pc0000gn/T/ipykernel_87891/352966883.py:105: FutureWarning: \n",
      "\n",
      "The `errcolor` parameter is deprecated. And will be removed in v0.15.0. Pass `err_kws={'color': 'k'}` instead.\n",
      "\n",
      "  sns.barplot(x=xticks, y=values, yerr=yerr, ax=ax, capsize=capsize,\n"
     ]
    },
    {
     "data": {
      "image/png": "[encoded data removed]",
      "text/plain": [
       "<Figure size 140x50 with 1 Axes>"
      ]
     },
     "metadata": {},
     "output_type": "display_data"
    },
    {
     "ename": "",
     "evalue": "",
     "output_type": "error",
     "traceback": [
      "\u001b[1;31mnotebook controller is DISPOSED. \n",
      "\u001b[1;31mView Jupyter <a href='command:jupyter.viewOutput'>log</a> for further details."
     ]
    },
    {
     "ename": "",
     "evalue": "",
     "output_type": "error",
     "traceback": [
      "\u001b[1;31mnotebook controller is DISPOSED. \n",
      "\u001b[1;31mView Jupyter <a href='command:jupyter.viewOutput'>log</a> for further details."
     ]
    },
    {
     "ename": "",
     "evalue": "",
     "output_type": "error",
     "traceback": [
      "\u001b[1;31mnotebook controller is DISPOSED. \n",
      "\u001b[1;31mView Jupyter <a href='command:jupyter.viewOutput'>log</a> for further details."
     ]
    },
    {
     "ename": "",
     "evalue": "",
     "output_type": "error",
     "traceback": [
      "\u001b[1;31mnotebook controller is DISPOSED. \n",
      "\u001b[1;31mView Jupyter <a href='command:jupyter.viewOutput'>log</a> for further details."
     ]
    },
    {
     "ename": "",
     "evalue": "",
     "output_type": "error",
     "traceback": [
      "\u001b[1;31mnotebook controller is DISPOSED. \n",
      "\u001b[1;31mView Jupyter <a href='command:jupyter.viewOutput'>log</a> for further details."
     ]
    },
    {
     "ename": "",
     "evalue": "",
     "output_type": "error",
     "traceback": [
      "\u001b[1;31mnotebook controller is DISPOSED. \n",
      "\u001b[1;31mView Jupyter <a href='command:jupyter.viewOutput'>log</a> for further details."
     ]
    }
   ],
   "source": [
    "kind = 'periodicAP'\n",
    "ycols = ['fm_exponent', 'fm_offset_log', 'full_fm_band_aperiodic_log']\n",
    "band_barplot_severity(df_per, kind, ycols)"
   ]
  },
  {
   "cell_type": "code",
   "execution_count": null,
   "metadata": {},
   "outputs": [
    {
     "ename": "",
     "evalue": "",
     "output_type": "error",
     "traceback": [
      "\u001b[1;31mnotebook controller is DISPOSED. \n",
      "\u001b[1;31mView Jupyter <a href='command:jupyter.viewOutput'>log</a> for further details."
     ]
    },
    {
     "ename": "",
     "evalue": "",
     "output_type": "error",
     "traceback": [
      "\u001b[1;31mnotebook controller is DISPOSED. \n",
      "\u001b[1;31mView Jupyter <a href='command:jupyter.viewOutput'>log</a> for further details."
     ]
    },
    {
     "ename": "",
     "evalue": "",
     "output_type": "error",
     "traceback": [
      "\u001b[1;31mnotebook controller is DISPOSED. \n",
      "\u001b[1;31mView Jupyter <a href='command:jupyter.viewOutput'>log</a> for further details."
     ]
    },
    {
     "ename": "",
     "evalue": "",
     "output_type": "error",
     "traceback": [
      "\u001b[1;31mnotebook controller is DISPOSED. \n",
      "\u001b[1;31mView Jupyter <a href='command:jupyter.viewOutput'>log</a> for further details."
     ]
    },
    {
     "ename": "",
     "evalue": "",
     "output_type": "error",
     "traceback": [
      "\u001b[1;31mnotebook controller is DISPOSED. \n",
      "\u001b[1;31mView Jupyter <a href='command:jupyter.viewOutput'>log</a> for further details."
     ]
    },
    {
     "ename": "",
     "evalue": "",
     "output_type": "error",
     "traceback": [
      "\u001b[1;31mnotebook controller is DISPOSED. \n",
      "\u001b[1;31mView Jupyter <a href='command:jupyter.viewOutput'>log</a> for further details."
     ]
    }
   ],
   "source": []
  }
 ],
 "metadata": {
  "kernelspec": {
   "display_name": "aperiodic",
   "language": "python",
   "name": "python3"
  },
  "language_info": {
   "codemirror_mode": {
    "name": "ipython",
    "version": 3
   },
   "file_extension": ".py",
   "mimetype": "text/x-python",
   "name": "python",
   "nbconvert_exporter": "python",
   "pygments_lexer": "ipython3",
   "version": "3.12.8"
  }
 },
 "nbformat": 4,
 "nbformat_minor": 2
}
